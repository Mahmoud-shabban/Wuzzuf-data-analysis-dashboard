{
 "cells": [
  {
   "cell_type": "code",
   "execution_count": 61,
   "id": "63027012",
   "metadata": {},
   "outputs": [],
   "source": [
    "import pandas as pd\n",
    "import plotly.express as px"
   ]
  },
  {
   "cell_type": "code",
   "execution_count": 46,
   "id": "d3d1071f",
   "metadata": {},
   "outputs": [],
   "source": [
    "AI_df=pd.read_csv('AI Engineer.csv')\n",
    "ML_df=pd.read_csv('ML Engineer.csv')\n",
    "DA_df=pd.read_csv('Data Analyst.csv')\n",
    "DS_df=pd.read_csv('Data scientist.csv')\n",
    "DE_df=pd.read_csv('Data Engineer.csv')"
   ]
  },
  {
   "cell_type": "code",
   "execution_count": 4,
   "id": "5248ba7a",
   "metadata": {},
   "outputs": [
    {
     "name": "stdout",
     "output_type": "stream",
     "text": [
      "<class 'pandas.core.frame.DataFrame'>\n",
      "RangeIndex: 57 entries, 0 to 56\n",
      "Data columns (total 10 columns):\n",
      " #   Column              Non-Null Count  Dtype \n",
      "---  ------              --------------  ----- \n",
      " 0   job title           57 non-null     object\n",
      " 1   job_type            57 non-null     object\n",
      " 2   company             57 non-null     object\n",
      " 3   location            57 non-null     object\n",
      " 4   Experience Needed:  57 non-null     object\n",
      " 5   Career Level:       57 non-null     object\n",
      " 6   Education Level:    57 non-null     object\n",
      " 7   Salary:             57 non-null     object\n",
      " 8   Job Categories:     57 non-null     object\n",
      " 9   skills and tools    57 non-null     object\n",
      "dtypes: object(10)\n",
      "memory usage: 4.6+ KB\n"
     ]
    }
   ],
   "source": [
    "AI_df.info()"
   ]
  },
  {
   "cell_type": "code",
   "execution_count": 5,
   "id": "2839181b",
   "metadata": {},
   "outputs": [
    {
     "data": {
      "text/plain": [
       "Index(['job title', 'job_type', 'company', 'location', 'Experience Needed:',\n",
       "       'Career Level:', 'Education Level:', 'Salary:', 'Job Categories:',\n",
       "       'skills and tools'],\n",
       "      dtype='object')"
      ]
     },
     "execution_count": 5,
     "metadata": {},
     "output_type": "execute_result"
    }
   ],
   "source": [
    "AI_df.columns"
   ]
  },
  {
   "cell_type": "code",
   "execution_count": 48,
   "id": "79933bdc",
   "metadata": {},
   "outputs": [],
   "source": [
    "def basics(df):\n",
    "    print('===========================================================')\n",
    "    print('job_type')\n",
    "    print(df['job_type'].unique())\n",
    "          \n",
    "    print('===========================================================')\n",
    "    print('Experience Needed:')\n",
    "    print(df['Experience Needed:'].unique())\n",
    "    \n",
    "    print('===========================================================')\n",
    "    print('Career Level:')\n",
    "    print(df['Career Level:'].unique())\n",
    "    \n",
    "    print('===========================================================')\n",
    "    print('Education Level:')\n",
    "    print(df['Education Level:'].unique())\n",
    "    \n",
    "    print('===========================================================')\n",
    "    print('Salary:')\n",
    "    print(df['Salary:'].unique())\n",
    "    \n",
    "    print('===========================================================')\n",
    "    print('Job Categories:')\n",
    "    print(df['Job Categories:'].unique())\n",
    "    \n",
    "    L=[]\n",
    "    for i, r in AI_df[['skills and tools']].iterrows():\n",
    "        for v in r.unique():\n",
    "\n",
    "            L.append(v)\n",
    "    skills=set()\n",
    "    for s in L:\n",
    "        for x in s.split(','):\n",
    "            #remove white spaces and double quotes\n",
    "            skills.add(x.strip().replace(\"'\",''))\n",
    "    print(\"========================================================\")\n",
    "    print(len(skills))\n",
    "    print(\"========================================================\")\n",
    "   \n",
    "    #print(skills)\n",
    "    return skills\n",
    "\n",
    "\n"
   ]
  },
  {
   "cell_type": "code",
   "execution_count": 50,
   "id": "deae07dd",
   "metadata": {},
   "outputs": [
    {
     "name": "stdout",
     "output_type": "stream",
     "text": [
      "===========================================================\n",
      "job_type\n",
      "['Full Time' 'Internship' 'Part Time' 'Freelance / Project']\n",
      "===========================================================\n",
      "Experience Needed:\n",
      "[\"'3 to 5 years'\" \"'More than 8 years'\" \"'More than 5 years'\"\n",
      " \"'Not Specified'\" \"'More than 2 years'\" \"'1 to 3 years'\" \"'1 to 4 years'\"\n",
      " \"'2 to 5 years'\" \"'More than 1 year'\" \"'More than 3 years'\"\n",
      " \"'0 to 2 years'\" \"'0 to 1 year'\" \"'5 to 20 years'\" \"'0 to 3 years'\"\n",
      " \"'1 to 10 years'\" \"'More than 4 years'\" \"'6 to 15 years'\"\n",
      " \"'5 to 8 years'\" \"'3 to 7 years'\" \"'2 to 4 years'\" \"'3 to 6 years'\"\n",
      " \"'12 to 15 years'\" \"'5 to 7 years'\" \"'5 to 10 years'\" \"'4 to 10 years'\"]\n",
      "===========================================================\n",
      "Career Level:\n",
      "[\"'Experienced (Non-Manager)'\" \"'Entry Level (Junior Level / Fresh Grad)'\"\n",
      " \"'Manager '\" \"'Student (Undergrad / Postgrad)'\"]\n",
      "===========================================================\n",
      "Education Level:\n",
      "['\"Bachelor\\'s Degree\"' \"'Not Specified'\"]\n",
      "===========================================================\n",
      "Salary:\n",
      "[\"'Confidential'\"\n",
      " \"'Confidential, Job is Remotely from our Office in Egypt'\" \"'paid'\"\n",
      " \"'Confidential, Working remotely with Abu Dhabi HQ'\"\n",
      " \"'10000 to 12000 EGP Per Month'\"\n",
      " \"'Confidential, Commission, Transportation and Bonus are included'\"\n",
      " \"'35000 to 70000 EUR Per Year'\" \"'4000 to 5000 EGP Per Month'\"\n",
      " \"'30000 to 35000 EGP Per Month'\" \"'3000 to 5000 EGP Per Month'\"\n",
      " \"'30000 to 45000 EGP Per Month'\"\n",
      " \"'Confidential, Social Insurance / Medical Insurance'\"\n",
      " \"'Confidential, The Salary Includes Allowance For Accommodation, Transportation, Dinning, Calls & Average Overtime.'\"\n",
      " \"'13000 to 18000 EGP Per Month'\"\n",
      " \"'1500 to 2500 EUR Per Month, Independent Contractor'\"]\n",
      "===========================================================\n",
      "Job Categories:\n",
      "[\"'IT/Software Development', 'Engineering - Telecom/Technology'\"\n",
      " \"'IT/Software Development', 'Marketing/PR/Advertising', 'Engineering - Telecom/Technology'\"\n",
      " \"'Operations/Management', 'IT/Software Development', 'Engineering - Telecom/Technology'\"\n",
      " \"'Training/Instructor', 'IT/Software Development'\"\n",
      " \"'Training/Instructor', 'Education/Teaching', 'IT/Software Development'\"\n",
      " \"'Writing/Editorial', 'IT/Software Development', 'Education/Teaching'\"\n",
      " \"'Engineering - Mechanical/Electrical', 'Sales/Retail'\"\n",
      " \"'IT/Software Development', 'Engineering - Telecom/Technology', 'Creative/Design/Art'\"\n",
      " \"'Training/Instructor', 'IT/Software Development', 'Engineering - Telecom/Technology'\"\n",
      " \"'Quality', 'IT/Software Development', 'Engineering - Telecom/Technology'\"\n",
      " \"'Human Resources'\"\n",
      " \"'Analyst/Research', 'IT/Software Development', 'Engineering - Telecom/Technology'\"\n",
      " \"'Banking', 'IT/Software Development', 'Engineering - Telecom/Technology'\"\n",
      " \"'IT/Software Development', 'Engineering - Telecom/Technology', 'Project/Program Management'\"\n",
      " \"'Engineering - Other', 'IT/Software Development', 'Engineering - Telecom/Technology'\"]\n",
      "========================================================\n",
      "281\n",
      "========================================================\n"
     ]
    }
   ],
   "source": [
    "AI_s=basics(AI_df)"
   ]
  },
  {
   "cell_type": "code",
   "execution_count": 51,
   "id": "f3def3c5",
   "metadata": {},
   "outputs": [
    {
     "name": "stdout",
     "output_type": "stream",
     "text": [
      "===========================================================\n",
      "job_type\n",
      "['Full Time' 'Internship']\n",
      "===========================================================\n",
      "Experience Needed:\n",
      "[\"'More than 2 years'\" \"'1 to 3 years'\" \"'Not Specified'\"\n",
      " \"'More than 3 years'\" \"'0 to 3 years'\" \"'3 to 5 years'\" \"'4 to 7 years'\"\n",
      " \"'More than 5 years'\" \"'More than 8 years'\" \"'4 to 10 years'\"\n",
      " \"'5 to 8 years'\" \"'3 to 6 years'\"]\n",
      "===========================================================\n",
      "Career Level:\n",
      "[\"'Experienced (Non-Manager)'\" \"'Entry Level (Junior Level / Fresh Grad)'\"\n",
      " \"'Student (Undergrad / Postgrad)'\"]\n",
      "===========================================================\n",
      "Education Level:\n",
      "['\"Bachelor\\'s Degree\"' \"'Not Specified'\"]\n",
      "===========================================================\n",
      "Salary:\n",
      "[\"'Confidential, Working remotely with us'\"\n",
      " \"'10000 to 12000 EGP Per Month'\" \"'Confidential, Working Remotely'\"\n",
      " \"'paid'\" \"'Confidential'\"\n",
      " \"'Confidential, Bonus, overtime compensation, social insurance, medical insurance and salary raise'\"\n",
      " \"'Confidential, Job is Remotely from our Office in Egypt'\"\n",
      " \"'Confidential, Hybrid Work Mode, Overtime Compensation, Social Insurance, Medical Insurance & Salary Raise'\"]\n",
      "===========================================================\n",
      "Job Categories:\n",
      "[\"'IT/Software Development', 'Engineering - Telecom/Technology'\"\n",
      " \"'Analyst/Research', 'IT/Software Development', 'Engineering - Telecom/Technology'\"\n",
      " \"'Quality', 'IT/Software Development', 'Engineering - Telecom/Technology'\"\n",
      " \"'Operations/Management', 'IT/Software Development', 'Engineering - Telecom/Technology'\"\n",
      " \"'IT/Software Development', 'Engineering - Telecom/Technology', 'Creative/Design/Art'\"]\n",
      "========================================================\n",
      "281\n",
      "========================================================\n"
     ]
    }
   ],
   "source": [
    "ML_s=basics(ML_df)"
   ]
  },
  {
   "cell_type": "code",
   "execution_count": 52,
   "id": "39d20d27",
   "metadata": {},
   "outputs": [
    {
     "name": "stdout",
     "output_type": "stream",
     "text": [
      "===========================================================\n",
      "job_type\n",
      "['Full Time' 'Internship' 'Freelance / Project']\n",
      "===========================================================\n",
      "Experience Needed:\n",
      "[\"'3 to 5 years'\" \"'2 to 3 years'\" \"'2 to 5 years'\" \"'1 to 2 years'\"\n",
      " \"'2 to 4 years'\" \"'3 to 6 years'\" \"'More than 5 years'\" \"'3 to 4 years'\"\n",
      " \"'0 to 1 year'\" \"'Not Specified'\" \"'More than 1 year'\" \"'3 to 7 years'\"\n",
      " \"'More than 4 years'\" \"'5 years'\" \"'5 to 7 years'\" \"'5 to 10 years'\"\n",
      " \"'1 to 3 years'\" \"'4 to 6 years'\" \"'1 to 4 years'\" \"'5 to 8 years'\"\n",
      " \"'4 to 8 years'\" \"'More than 2 years'\" \"'10 to 20 years'\"\n",
      " \"'6 to 8 years'\" \"'10 to 11 years'\" \"'0 to 2 years'\"\n",
      " \"'More than 3 years'\" \"'10 to 17 years'\" \"'7 to 10 years'\"]\n",
      "===========================================================\n",
      "Career Level:\n",
      "[\"'Experienced (Non-Manager)'\" \"'Entry Level (Junior Level / Fresh Grad)'\"\n",
      " \"'Manager '\"]\n",
      "===========================================================\n",
      "Education Level:\n",
      "['\"Bachelor\\'s Degree\"' \"'Not Specified'\" '\"Master\\'s Degree\"']\n",
      "===========================================================\n",
      "Salary:\n",
      "[\"'Confidential'\" \"'Gender:', 'Male'\"\n",
      " \"'Confidential, Transportation , Social Insurance ,Medical Insurance'\"\n",
      " \"'Confidential, Social & medical insurance'\"\n",
      " \"'Confidential, Profit Share, Transportation, Medical Insurance, Social Insurance, Life Insurance And Retirement Plan'\"\n",
      " \"'Confidential, Bonuses'\" \"'6000 to 7000 EGP Per Month'\"\n",
      " \"'3000 to 5000 EGP Per Month'\"\n",
      " \"'Confidential, 2 Months Bonus + Annual Profit Share'\"\n",
      " \"'Confidential, We offer the highest competitive salaries in the market-Health Insurance (Medright) elite-Social Insurance-fixed Internet allowance- Additional Health Package Allowance - Mobile Allowance, Promotions.'\"\n",
      " \"'Confidential, Bonus - Profit Share'\"\n",
      " \"'Confidential, Bonus, Profit Share'\" \"'4000 to 6000 EGP Per Month'\"\n",
      " \"'10000 to 18000 EGP Per Month'\"\n",
      " \"'Confidential, Quarter Profit Share + Annual Fixed Bonus'\"\n",
      " \"'Confidential, Bonus, Social Security, Medical Insurance'\"\n",
      " \"'4000 to 5000 EGP Per Month, Working hours:\\\\n10am - 7pm and one day off.'\"\n",
      " \"'unpaid'\"]\n",
      "===========================================================\n",
      "Job Categories:\n",
      "[\"'Analyst/Research'\"\n",
      " \"'Analyst/Research', 'IT/Software Development', 'Engineering - Telecom/Technology'\"\n",
      " \"'Accounting/Finance', 'Analyst/Research'\" \"'Confidential'\"\n",
      " \"'Logistics/Supply Chain', 'Analyst/Research'\"\n",
      " \"'Analyst/Research', 'Marketing/PR/Advertising', 'Business Development'\"\n",
      " \"'Analyst/Research', 'Sales/Retail'\"\n",
      " \"'Analyst/Research', 'IT/Software Development'\"\n",
      " \"'Analyst/Research', 'Media/Journalism/Publishing', 'Marketing/PR/Advertising'\"\n",
      " \"'Accounting/Finance', 'Analyst/Research', 'Banking'\"\n",
      " \"'Quality', 'IT/Software Development', 'Engineering - Telecom/Technology'\"\n",
      " \"'Accounting/Finance', 'Analyst/Research', 'Business Development'\"\n",
      " \"'Medical/Healthcare', 'Pharmaceutical'\"\n",
      " \"'Analyst/Research', 'Customer Service/Support'\"\n",
      " \"'Analyst/Research', 'IT/Software Development', 'Project/Program Management'\"\n",
      " \"'IT/Software Development', 'Engineering - Telecom/Technology'\"\n",
      " \"'Analyst/Research', 'Marketing/PR/Advertising'\"\n",
      " \"'Analyst/Research', 'Administration'\"\n",
      " \"'Operations/Management', 'IT/Software Development', 'Analyst/Research'\"\n",
      " \"'Banking'\"\n",
      " \"'Logistics/Supply Chain', 'Manufacturing/Production', 'Analyst/Research'\"\n",
      " \"'Accounting/Finance'\"\n",
      " \"'Analyst/Research', 'R&D/Science', 'Customer Service/Support'\"\n",
      " \"'Marketing/PR/Advertising'\"\n",
      " \"'Analyst/Research', 'Project/Program Management'\"\n",
      " \"'Analyst/Research', 'R&D/Science', 'Manufacturing/Production'\"\n",
      " \"'Analyst/Research', 'R&D/Science', 'Pharmaceutical'\"]\n",
      "========================================================\n",
      "281\n",
      "========================================================\n"
     ]
    }
   ],
   "source": [
    "DA_s=basics(DA_df)"
   ]
  },
  {
   "cell_type": "code",
   "execution_count": 53,
   "id": "9608d416",
   "metadata": {},
   "outputs": [
    {
     "name": "stdout",
     "output_type": "stream",
     "text": [
      "===========================================================\n",
      "job_type\n",
      "['Full Time']\n",
      "===========================================================\n",
      "Experience Needed:\n",
      "[\"'7 to 10 years'\" \"'2 to 8 years'\" \"'2 to 3 years'\" \"'More than 5 years'\"\n",
      " \"'4 to 6 years'\" \"'More than 2 years'\" \"'3 to 6 years'\" \"'5 to 8 years'\"\n",
      " \"'1 to 2 years'\" \"'4 to 8 years'\" \"'1 to 3 years'\" \"'12 to 14 years'\"\n",
      " \"'0 to 1 year'\" \"'More than 3 years'\" \"'7 to 12 years'\" \"'4 to 14 years'\"\n",
      " \"'0 to 2 years'\" \"'6 to 8 years'\" \"'5 to 10 years'\" \"'2 to 6 years'\"\n",
      " \"'3 to 4 years'\" \"'3 to 5 years'\" \"'4 to 10 years'\" \"'12 to 15 years'\"\n",
      " \"'Not Specified'\" \"'More than 8 years'\" \"'3 to 7 years'\" \"'0 to 4 years'\"\n",
      " \"'8 to 12 years'\" \"'5 to 7 years'\" \"'2 to 4 years'\" \"'2 to 5 years'\"\n",
      " \"'More than 7 years'\"]\n",
      "===========================================================\n",
      "Career Level:\n",
      "[\"'Experienced (Non-Manager)'\" \"'Entry Level (Junior Level / Fresh Grad)'\"\n",
      " \"'Manager '\"]\n",
      "===========================================================\n",
      "Education Level:\n",
      "['\"Bachelor\\'s Degree\"' \"'Not Specified'\"]\n",
      "===========================================================\n",
      "Salary:\n",
      "[\"'Confidential'\" \"'9000 to 15000 EGP Per Month'\"\n",
      " \"'Confidential, We offer the highest competitive salaries in the market-Health Insurance (Medright) elite-Social Insurance-fixed Internet allowance- Additional Health Package Allowance - Mobile Allowance, Promotions.'\"\n",
      " \"'Confidential, Profit Share'\"\n",
      " \"'Confidential, Social Insurance / Medical Insurance'\"\n",
      " \"'7000 to 10000 EGP Per Month'\"\n",
      " \"'Confidential, Working remotely with us'\"\n",
      " \"'Confidential, Bounce\\\\nCommission'\"\n",
      " \"'4000 to 5000 EGP Per Month, Working hours:\\\\n10am - 7pm and one day off.'\"\n",
      " \"'5000 to 6000 EGP Per Month'\" \"'10000 to 15000 EGP Per Month'\"\n",
      " \"'Confidential, Social Insurance, Medical Insurance & Semi-Annual Bonus'\"\n",
      " \"'Gender:', 'Male'\" \"'Confidential, Medical ,Social & Life Insurance'\"\n",
      " \"'25000 to 40000 EGP Per Month'\"\n",
      " \"'Confidential, Commission, Transportation and Bonus are included'\"\n",
      " \"'Confidential, 1000'\"\n",
      " \"'Confidential, Transportation , Social Insurance ,Medical Insurance'\"\n",
      " \"'Confidential, Annual Based On Performance'\"]\n",
      "===========================================================\n",
      "Job Categories:\n",
      "[\"'Engineering - Telecom/Technology', 'IT/Software Development', 'Banking'\"\n",
      " \"'Engineering - Telecom/Technology', 'IT/Software Development'\"\n",
      " \"'Engineering - Telecom/Technology', 'IT/Software Development', 'Analyst/Research'\"\n",
      " \"'Installation/Maintenance/Repair', 'Engineering - Mechanical/Electrical', 'Engineering - Telecom/Technology'\"\n",
      " \"'Strategy/Consulting', 'Engineering - Other'\"\n",
      " \"'Engineering - Telecom/Technology', 'IT/Software Development', 'Engineering - Mechanical/Electrical'\"\n",
      " \"'Quality', 'IT/Software Development', 'Engineering - Telecom/Technology'\"\n",
      " \"'Installation/Maintenance/Repair', 'IT/Software Development', 'Engineering - Telecom/Technology'\"\n",
      " \"'Engineering - Telecom/Technology', 'Engineering - Other', 'IT/Software Development'\"\n",
      " \"'Engineering - Construction/Civil/Architecture'\"\n",
      " \"'Engineering - Telecom/Technology', 'IT/Software Development', 'Operations/Management'\"\n",
      " \"'Sales/Retail', 'Engineering - Mechanical/Electrical'\"\n",
      " \"'Manufacturing/Production', 'Operations/Management', 'Engineering - Mechanical/Electrical'\"\n",
      " \"'Logistics/Supply Chain', 'Engineering - Mechanical/Electrical', 'Purchasing/Procurement'\"\n",
      " \"'Engineering - Construction/Civil/Architecture', 'Creative/Design/Art'\"\n",
      " \"'Sales/Retail', 'IT/Software Development'\"\n",
      " \"'Sales/Retail', 'IT/Software Development', 'Engineering - Telecom/Technology'\"\n",
      " \"'Engineering - Construction/Civil/Architecture', 'Project/Program Management'\"\n",
      " \"'Engineering - Telecom/Technology', 'Engineering - Mechanical/Electrical'\"\n",
      " \"'Engineering - Construction/Civil/Architecture', 'Project/Program Management', 'Engineering - Mechanical/Electrical'\"\n",
      " \"'Confidential'\" \"'Engineering - Mechanical/Electrical'\"\n",
      " \"'Installation/Maintenance/Repair', 'Engineering - Telecom/Technology'\"\n",
      " \"'Engineering - Mechanical/Electrical', 'Purchasing/Procurement'\"\n",
      " \"'Business Development', 'Sales/Retail', 'Engineering - Oil & Gas/Energy'\"\n",
      " \"'Engineering - Mechanical/Electrical', 'Creative/Design/Art'\"\n",
      " \"'Engineering - Other', 'Sales/Retail'\"\n",
      " \"'Engineering - Other', 'Engineering - Oil & Gas/Energy', 'Engineering - Mechanical/Electrical'\"\n",
      " \"'Installation/Maintenance/Repair', 'Engineering - Mechanical/Electrical'\"\n",
      " \"'Engineering - Mechanical/Electrical', 'Administration'\"\n",
      " \"'Quality', 'Engineering - Mechanical/Electrical'\"\n",
      " \"'Quality', 'Engineering - Other', 'Manufacturing/Production'\"]\n",
      "========================================================\n",
      "281\n",
      "========================================================\n"
     ]
    }
   ],
   "source": [
    "DE_s=basics(DE_df)"
   ]
  },
  {
   "cell_type": "code",
   "execution_count": 59,
   "id": "10ab7e48",
   "metadata": {},
   "outputs": [
    {
     "data": {
      "text/plain": [
       "281"
      ]
     },
     "execution_count": 59,
     "metadata": {},
     "output_type": "execute_result"
    }
   ],
   "source": [
    "len(AI_s.intersection(DE_s))"
   ]
  },
  {
   "cell_type": "code",
   "execution_count": 60,
   "id": "631e7c61",
   "metadata": {
    "scrolled": false
   },
   "outputs": [
    {
     "data": {
      "text/plain": [
       "{'.Net',\n",
       " '.Net Core',\n",
       " '3D Rendering',\n",
       " 'AI',\n",
       " 'AI Framework',\n",
       " 'AI.',\n",
       " 'API',\n",
       " 'APIs',\n",
       " 'Agile',\n",
       " 'Algorithm Development',\n",
       " 'Algorithms',\n",
       " 'Amazon Web Services',\n",
       " 'Amelia Plugin',\n",
       " 'Analysis',\n",
       " 'Analytics',\n",
       " 'Andriod programming',\n",
       " 'Android',\n",
       " 'Android Programming',\n",
       " 'Angular',\n",
       " 'Apache Spark',\n",
       " 'Architecture',\n",
       " 'Arduino',\n",
       " 'Art',\n",
       " 'Artificial Intelligence',\n",
       " 'Artificial Intelligence (AI)',\n",
       " 'Astronomy',\n",
       " 'Automation',\n",
       " 'Automation Testing',\n",
       " 'Azure',\n",
       " 'Azure DevOps Server',\n",
       " 'BI',\n",
       " 'Back End',\n",
       " 'Back-End Development',\n",
       " 'Banking',\n",
       " 'Big Data',\n",
       " 'Biology',\n",
       " 'Bootstrap',\n",
       " 'Business Analysis',\n",
       " 'Business Development',\n",
       " 'Business Intelligence',\n",
       " 'C',\n",
       " 'C#',\n",
       " 'C++',\n",
       " 'CMS',\n",
       " 'CRM',\n",
       " 'CSS',\n",
       " 'CSS3',\n",
       " 'CUDA',\n",
       " 'Cloud',\n",
       " 'Cloud Computing',\n",
       " 'Coding',\n",
       " 'Coding Coach',\n",
       " 'Communication Engineering',\n",
       " 'Communication skills',\n",
       " 'Communications Engineering',\n",
       " 'Computational Geometry',\n",
       " 'Computer Engineering',\n",
       " 'Computer Graphics',\n",
       " 'Computer Programs',\n",
       " 'Computer Science',\n",
       " 'Computer Skills',\n",
       " 'Computer Systems',\n",
       " 'Computer Vision',\n",
       " 'Containerization',\n",
       " 'Curriculum Development',\n",
       " 'Data',\n",
       " 'Data Analysis',\n",
       " 'Data Science',\n",
       " 'Data Wrangling',\n",
       " 'Deep Learning',\n",
       " 'Deep Learning Framework',\n",
       " 'Deep Neural Network (DNN)',\n",
       " 'Deployment',\n",
       " 'Design',\n",
       " 'DevOps',\n",
       " 'Development',\n",
       " 'Digital Marketing',\n",
       " 'DirectX11',\n",
       " 'Django',\n",
       " 'Docker',\n",
       " 'E-Marketing',\n",
       " 'ETL',\n",
       " 'Ed-tech',\n",
       " 'Education',\n",
       " 'Electrical',\n",
       " 'Electronics Engineering',\n",
       " 'Embedded System',\n",
       " 'Engineering',\n",
       " 'English',\n",
       " 'Entity Framework',\n",
       " 'Figma',\n",
       " 'Flask',\n",
       " 'Framework',\n",
       " 'Frameworks',\n",
       " 'Front End',\n",
       " 'Full Stack Development',\n",
       " 'GCP',\n",
       " 'GIT',\n",
       " 'GLSL',\n",
       " 'GPU Programming',\n",
       " 'GPU computing',\n",
       " 'Game',\n",
       " 'Game design',\n",
       " 'Game development',\n",
       " 'Game engine',\n",
       " 'Git',\n",
       " 'Github',\n",
       " 'Graph DB',\n",
       " 'Grunt',\n",
       " 'Gulp',\n",
       " 'HLSL',\n",
       " 'HR',\n",
       " 'HTML',\n",
       " 'HTML5',\n",
       " 'Hadoop',\n",
       " 'Hiring',\n",
       " 'Hive',\n",
       " 'Human',\n",
       " 'Human Resources (HR)',\n",
       " 'ISTQB',\n",
       " 'IT',\n",
       " 'Image Processing',\n",
       " 'InVision',\n",
       " 'Information Technology (IT)',\n",
       " 'Integration',\n",
       " 'Interviewing',\n",
       " 'JSON',\n",
       " 'Java',\n",
       " 'JavaScript',\n",
       " 'Jenkins',\n",
       " 'Kids Teaching',\n",
       " 'Kubernetes',\n",
       " 'Laravel',\n",
       " 'Less',\n",
       " 'Linear Algebra',\n",
       " 'Linux',\n",
       " 'MS Project',\n",
       " 'MVC',\n",
       " 'Machine Learning',\n",
       " 'Management',\n",
       " 'Market Research',\n",
       " 'Marketing',\n",
       " 'Mathematics',\n",
       " 'Matlab',\n",
       " 'Mechanical Design',\n",
       " 'Mechanical Engineering',\n",
       " 'Mechatronics',\n",
       " 'Mechatronics Engineering',\n",
       " 'Microservices',\n",
       " 'Microsoft Azure',\n",
       " 'Microsoft Office',\n",
       " 'Microsoft Programs',\n",
       " 'Mobile',\n",
       " 'Mobile Application Development',\n",
       " 'Mobile Development',\n",
       " 'Mobile app',\n",
       " 'MySQL',\n",
       " 'NLP',\n",
       " 'NLTK',\n",
       " 'NPM',\n",
       " 'Network Security',\n",
       " 'NoSQL',\n",
       " 'Node.js',\n",
       " 'NodeJS',\n",
       " 'OOP',\n",
       " 'Object Oriented Programming',\n",
       " 'Odoo',\n",
       " 'OpenCL',\n",
       " 'OpenGL',\n",
       " 'Operations',\n",
       " 'Outdoor Sales',\n",
       " 'PHP',\n",
       " 'PHP Programming',\n",
       " 'PHP Web Programming',\n",
       " 'Paython',\n",
       " 'Personnel',\n",
       " 'Photshop',\n",
       " 'Physics',\n",
       " 'Planning',\n",
       " 'PostgreSQL',\n",
       " 'Powerbi',\n",
       " 'Product',\n",
       " 'Product Design',\n",
       " 'Product Management',\n",
       " 'Program Development',\n",
       " 'Programming',\n",
       " 'Programming Instructor',\n",
       " 'Programming Language',\n",
       " 'Project Management',\n",
       " 'Prototyping',\n",
       " 'PyTorch',\n",
       " 'Python',\n",
       " 'Python Scripting',\n",
       " 'Q5',\n",
       " 'QML',\n",
       " 'Qt',\n",
       " 'Qt5',\n",
       " 'Quality Assurance',\n",
       " 'Quality Control',\n",
       " 'Quality Management System',\n",
       " 'R',\n",
       " 'REST',\n",
       " 'React',\n",
       " 'Recruiting',\n",
       " 'Recruitment',\n",
       " 'Research',\n",
       " 'Robotics',\n",
       " 'Ruby on Rails',\n",
       " 'SEO',\n",
       " 'SHRM',\n",
       " 'SPHR',\n",
       " 'SQL',\n",
       " 'SQL Server',\n",
       " 'STEAM',\n",
       " 'STEM',\n",
       " 'Sales',\n",
       " 'Sales Engineering',\n",
       " 'Sass',\n",
       " 'Science',\n",
       " 'Scratch',\n",
       " 'Screening',\n",
       " 'Security',\n",
       " 'Sketch',\n",
       " 'Social Media',\n",
       " 'Software',\n",
       " 'Software Deployment',\n",
       " 'Software Development',\n",
       " 'Software Engineering',\n",
       " 'Software Quality',\n",
       " 'Software Quality Assurance (SQA)',\n",
       " 'Software Testing',\n",
       " 'Software Testing Life Cycle',\n",
       " 'Software engineer',\n",
       " 'Solution Architecture',\n",
       " 'Spark',\n",
       " 'Spring Boot',\n",
       " 'Startup',\n",
       " 'Statistics',\n",
       " 'Steam',\n",
       " 'Stem',\n",
       " 'TFS',\n",
       " 'Teaching',\n",
       " 'Technical Sales',\n",
       " 'Technology',\n",
       " 'TensorFlow',\n",
       " 'Testing',\n",
       " 'Training',\n",
       " 'UX',\n",
       " 'User Testing',\n",
       " 'Vue',\n",
       " 'Vue.js',\n",
       " 'Web Applications',\n",
       " 'Web Development',\n",
       " 'Web Technologies',\n",
       " 'WordPress',\n",
       " 'Wordpress',\n",
       " 'augmented reality',\n",
       " 'c',\n",
       " 'c#',\n",
       " 'chatbot',\n",
       " 'coding-sensei',\n",
       " 'communications',\n",
       " 'computer',\n",
       " 'confluence',\n",
       " 'data scientist',\n",
       " 'directx',\n",
       " 'drupal',\n",
       " 'flutter',\n",
       " 'hpc',\n",
       " 'ios',\n",
       " 'javaScript',\n",
       " 'jira',\n",
       " 'laravel',\n",
       " 'mSQL',\n",
       " 'mathematical',\n",
       " 'piplens',\n",
       " 'programming',\n",
       " 'qml',\n",
       " 'team leader',\n",
       " 'test automation',\n",
       " 'vulkan'}"
      ]
     },
     "execution_count": 60,
     "metadata": {},
     "output_type": "execute_result"
    }
   ],
   "source": [
    "DE_s"
   ]
  },
  {
   "cell_type": "code",
   "execution_count": 101,
   "id": "5aed035b",
   "metadata": {},
   "outputs": [],
   "source": [
    "def add_col(df,Keyword):\n",
    "    df['Job']=np.zeros(len(df.index))\n",
    "    df['Job']=df['Job'].replace(0,Keyword)"
   ]
  },
  {
   "cell_type": "code",
   "execution_count": 102,
   "id": "7591377a",
   "metadata": {},
   "outputs": [],
   "source": [
    "add_col(AI_df,'AI Engineer')\n",
    "add_col(ML_df,'ML Engineer')\n",
    "add_col(DA_df,'Data Analyst')\n",
    "add_col(DS_df,'Data scientist')\n",
    "add_col(DE_df,'Data Engineer')"
   ]
  },
  {
   "cell_type": "code",
   "execution_count": 103,
   "id": "5a13b0c8",
   "metadata": {},
   "outputs": [],
   "source": [
    "Jobs_df= pd.concat( [AI_df, ML_df,DA_df,DE_df,DS_df] )"
   ]
  },
  {
   "cell_type": "code",
   "execution_count": 104,
   "id": "48025822",
   "metadata": {},
   "outputs": [],
   "source": [
    "Jobs_df.reset_index(drop=True,inplace=True)"
   ]
  },
  {
   "cell_type": "code",
   "execution_count": 107,
   "id": "36cc4942",
   "metadata": {},
   "outputs": [
    {
     "data": {
      "text/html": [
       "<div>\n",
       "<style scoped>\n",
       "    .dataframe tbody tr th:only-of-type {\n",
       "        vertical-align: middle;\n",
       "    }\n",
       "\n",
       "    .dataframe tbody tr th {\n",
       "        vertical-align: top;\n",
       "    }\n",
       "\n",
       "    .dataframe thead th {\n",
       "        text-align: right;\n",
       "    }\n",
       "</style>\n",
       "<table border=\"1\" class=\"dataframe\">\n",
       "  <thead>\n",
       "    <tr style=\"text-align: right;\">\n",
       "      <th></th>\n",
       "      <th>job title</th>\n",
       "      <th>job_type</th>\n",
       "      <th>company</th>\n",
       "      <th>location</th>\n",
       "      <th>Experience Needed:</th>\n",
       "      <th>Career Level:</th>\n",
       "      <th>Education Level:</th>\n",
       "      <th>Salary:</th>\n",
       "      <th>Job Categories:</th>\n",
       "      <th>skills and tools</th>\n",
       "      <th>Job</th>\n",
       "    </tr>\n",
       "  </thead>\n",
       "  <tbody>\n",
       "    <tr>\n",
       "      <th>0</th>\n",
       "      <td>Senior AI Engineer</td>\n",
       "      <td>Full Time</td>\n",
       "      <td>Softec Technologies</td>\n",
       "      <td>Maadi, Cairo</td>\n",
       "      <td>'3 to 5 years'</td>\n",
       "      <td>'Experienced (Non-Manager)'</td>\n",
       "      <td>\"Bachelor's Degree\"</td>\n",
       "      <td>'Confidential'</td>\n",
       "      <td>'IT/Software Development', 'Engineering - Tele...</td>\n",
       "      <td>'Communication skills', 'Development', 'AI', '...</td>\n",
       "      <td>AI Engineer</td>\n",
       "    </tr>\n",
       "    <tr>\n",
       "      <th>1</th>\n",
       "      <td>AI &amp; Social Media Expert - CPM</td>\n",
       "      <td>Full Time</td>\n",
       "      <td>Etisalat Misr</td>\n",
       "      <td>Cairo, Egypt</td>\n",
       "      <td>'More than 8 years'</td>\n",
       "      <td>'Experienced (Non-Manager)'</td>\n",
       "      <td>\"Bachelor's Degree\"</td>\n",
       "      <td>'Confidential'</td>\n",
       "      <td>'IT/Software Development', 'Marketing/PR/Adver...</td>\n",
       "      <td>'CRM', 'SEO', 'communications', 'Social Media'...</td>\n",
       "      <td>AI Engineer</td>\n",
       "    </tr>\n",
       "    <tr>\n",
       "      <th>2</th>\n",
       "      <td>AI Software Engineer (Computer Vision Operatio...</td>\n",
       "      <td>Full Time</td>\n",
       "      <td>Tahaluf Al Emarat Technical Solutions</td>\n",
       "      <td>Cairo, Egypt</td>\n",
       "      <td>'More than 5 years'</td>\n",
       "      <td>'Experienced (Non-Manager)'</td>\n",
       "      <td>\"Bachelor's Degree\"</td>\n",
       "      <td>'Confidential, Job is Remotely from our Office...</td>\n",
       "      <td>'Operations/Management', 'IT/Software Developm...</td>\n",
       "      <td>'Frameworks', 'Kubernetes', 'Software Developm...</td>\n",
       "      <td>AI Engineer</td>\n",
       "    </tr>\n",
       "    <tr>\n",
       "      <th>3</th>\n",
       "      <td>AI/BI Intern</td>\n",
       "      <td>Internship</td>\n",
       "      <td>Easy System</td>\n",
       "      <td>Cairo, Egypt</td>\n",
       "      <td>'Not Specified'</td>\n",
       "      <td>'Entry Level (Junior Level / Fresh Grad)'</td>\n",
       "      <td>'Not Specified'</td>\n",
       "      <td>'paid'</td>\n",
       "      <td>'IT/Software Development', 'Engineering - Tele...</td>\n",
       "      <td>'AI', 'Artificial Intelligence', 'Cloud', 'Com...</td>\n",
       "      <td>AI Engineer</td>\n",
       "    </tr>\n",
       "    <tr>\n",
       "      <th>4</th>\n",
       "      <td>Embedded Software Engineer</td>\n",
       "      <td>Full Time</td>\n",
       "      <td>Tahaluf Al Emarat Technical Solutions</td>\n",
       "      <td>Cairo, Egypt</td>\n",
       "      <td>'More than 2 years'</td>\n",
       "      <td>'Experienced (Non-Manager)'</td>\n",
       "      <td>\"Bachelor's Degree\"</td>\n",
       "      <td>'Confidential, Working remotely with Abu Dhabi...</td>\n",
       "      <td>'IT/Software Development', 'Engineering - Tele...</td>\n",
       "      <td>'Embedded System', 'Development', 'Software De...</td>\n",
       "      <td>AI Engineer</td>\n",
       "    </tr>\n",
       "  </tbody>\n",
       "</table>\n",
       "</div>"
      ],
      "text/plain": [
       "                                           job title    job_type  \\\n",
       "0                                 Senior AI Engineer   Full Time   \n",
       "1                     AI & Social Media Expert - CPM   Full Time   \n",
       "2  AI Software Engineer (Computer Vision Operatio...   Full Time   \n",
       "3                                       AI/BI Intern  Internship   \n",
       "4                         Embedded Software Engineer   Full Time   \n",
       "\n",
       "                                 company      location   Experience Needed:  \\\n",
       "0                    Softec Technologies  Maadi, Cairo       '3 to 5 years'   \n",
       "1                          Etisalat Misr  Cairo, Egypt  'More than 8 years'   \n",
       "2  Tahaluf Al Emarat Technical Solutions  Cairo, Egypt  'More than 5 years'   \n",
       "3                            Easy System  Cairo, Egypt      'Not Specified'   \n",
       "4  Tahaluf Al Emarat Technical Solutions  Cairo, Egypt  'More than 2 years'   \n",
       "\n",
       "                               Career Level:     Education Level:  \\\n",
       "0                'Experienced (Non-Manager)'  \"Bachelor's Degree\"   \n",
       "1                'Experienced (Non-Manager)'  \"Bachelor's Degree\"   \n",
       "2                'Experienced (Non-Manager)'  \"Bachelor's Degree\"   \n",
       "3  'Entry Level (Junior Level / Fresh Grad)'      'Not Specified'   \n",
       "4                'Experienced (Non-Manager)'  \"Bachelor's Degree\"   \n",
       "\n",
       "                                             Salary:  \\\n",
       "0                                     'Confidential'   \n",
       "1                                     'Confidential'   \n",
       "2  'Confidential, Job is Remotely from our Office...   \n",
       "3                                             'paid'   \n",
       "4  'Confidential, Working remotely with Abu Dhabi...   \n",
       "\n",
       "                                     Job Categories:  \\\n",
       "0  'IT/Software Development', 'Engineering - Tele...   \n",
       "1  'IT/Software Development', 'Marketing/PR/Adver...   \n",
       "2  'Operations/Management', 'IT/Software Developm...   \n",
       "3  'IT/Software Development', 'Engineering - Tele...   \n",
       "4  'IT/Software Development', 'Engineering - Tele...   \n",
       "\n",
       "                                    skills and tools          Job  \n",
       "0  'Communication skills', 'Development', 'AI', '...  AI Engineer  \n",
       "1  'CRM', 'SEO', 'communications', 'Social Media'...  AI Engineer  \n",
       "2  'Frameworks', 'Kubernetes', 'Software Developm...  AI Engineer  \n",
       "3  'AI', 'Artificial Intelligence', 'Cloud', 'Com...  AI Engineer  \n",
       "4  'Embedded System', 'Development', 'Software De...  AI Engineer  "
      ]
     },
     "execution_count": 107,
     "metadata": {},
     "output_type": "execute_result"
    }
   ],
   "source": [
    "Jobs_df.head()"
   ]
  },
  {
   "cell_type": "code",
   "execution_count": 105,
   "id": "d3b0a63a",
   "metadata": {},
   "outputs": [
    {
     "name": "stdout",
     "output_type": "stream",
     "text": [
      "<class 'pandas.core.frame.DataFrame'>\n",
      "RangeIndex: 249 entries, 0 to 248\n",
      "Data columns (total 11 columns):\n",
      " #   Column              Non-Null Count  Dtype \n",
      "---  ------              --------------  ----- \n",
      " 0   job title           249 non-null    object\n",
      " 1   job_type            249 non-null    object\n",
      " 2   company             249 non-null    object\n",
      " 3   location            249 non-null    object\n",
      " 4   Experience Needed:  249 non-null    object\n",
      " 5   Career Level:       249 non-null    object\n",
      " 6   Education Level:    249 non-null    object\n",
      " 7   Salary:             249 non-null    object\n",
      " 8   Job Categories:     249 non-null    object\n",
      " 9   skills and tools    249 non-null    object\n",
      " 10  Job                 249 non-null    object\n",
      "dtypes: object(11)\n",
      "memory usage: 21.5+ KB\n"
     ]
    }
   ],
   "source": [
    "Jobs_df.info()"
   ]
  },
  {
   "cell_type": "code",
   "execution_count": 137,
   "id": "b9e777a3",
   "metadata": {},
   "outputs": [
    {
     "data": {
      "application/vnd.plotly.v1+json": {
       "config": {
        "plotlyServerURL": "https://plot.ly"
       },
       "data": [
        {
         "alignmentgroup": "True",
         "hovertemplate": "Job=AI Engineer<br>count=%{x}<br>job_type=%{y}<extra></extra>",
         "legendgroup": "AI Engineer",
         "marker": {
          "color": "#636efa",
          "pattern": {
           "shape": ""
          }
         },
         "name": "AI Engineer",
         "offsetgroup": "AI Engineer",
         "orientation": "h",
         "showlegend": true,
         "textposition": "auto",
         "type": "bar",
         "x": [
          1,
          1,
          1,
          1,
          1,
          1,
          1,
          1,
          1,
          1,
          1,
          1,
          1,
          1,
          1,
          1,
          1,
          1,
          1,
          1,
          1,
          1,
          1,
          1,
          1,
          1,
          1,
          1,
          1,
          1,
          1,
          1,
          1,
          1,
          1,
          1,
          1,
          1,
          1,
          1,
          1,
          1,
          1,
          1,
          1,
          1,
          1,
          1,
          1,
          1,
          1,
          1,
          1,
          1,
          1,
          1,
          1
         ],
         "xaxis": "x",
         "y": [
          "Full Time",
          "Full Time",
          "Full Time",
          "Internship",
          "Full Time",
          "Part Time",
          "Full Time",
          "Full Time",
          "Part Time",
          "Full Time",
          "Full Time",
          "Full Time",
          "Full Time",
          "Full Time",
          "Full Time",
          "Full Time",
          "Full Time",
          "Full Time",
          "Internship",
          "Full Time",
          "Full Time",
          "Internship",
          "Full Time",
          "Full Time",
          "Full Time",
          "Freelance / Project",
          "Full Time",
          "Full Time",
          "Full Time",
          "Full Time",
          "Full Time",
          "Full Time",
          "Full Time",
          "Full Time",
          "Full Time",
          "Full Time",
          "Internship",
          "Full Time",
          "Full Time",
          "Full Time",
          "Full Time",
          "Full Time",
          "Full Time",
          "Full Time",
          "Full Time",
          "Internship",
          "Full Time",
          "Full Time",
          "Full Time",
          "Full Time",
          "Full Time",
          "Full Time",
          "Full Time",
          "Full Time",
          "Full Time",
          "Freelance / Project",
          "Full Time"
         ],
         "yaxis": "y"
        },
        {
         "alignmentgroup": "True",
         "hovertemplate": "Job=ML Engineer<br>count=%{x}<br>job_type=%{y}<extra></extra>",
         "legendgroup": "ML Engineer",
         "marker": {
          "color": "#EF553B",
          "pattern": {
           "shape": ""
          }
         },
         "name": "ML Engineer",
         "offsetgroup": "ML Engineer",
         "orientation": "h",
         "showlegend": true,
         "textposition": "auto",
         "type": "bar",
         "x": [
          1,
          1,
          1,
          1,
          1,
          1,
          1,
          1,
          1,
          1,
          1,
          1,
          1,
          1,
          1,
          1,
          1
         ],
         "xaxis": "x",
         "y": [
          "Full Time",
          "Full Time",
          "Full Time",
          "Internship",
          "Full Time",
          "Full Time",
          "Full Time",
          "Full Time",
          "Full Time",
          "Full Time",
          "Full Time",
          "Full Time",
          "Internship",
          "Full Time",
          "Full Time",
          "Full Time",
          "Full Time"
         ],
         "yaxis": "y"
        },
        {
         "alignmentgroup": "True",
         "hovertemplate": "Job=Data Analyst<br>count=%{x}<br>job_type=%{y}<extra></extra>",
         "legendgroup": "Data Analyst",
         "marker": {
          "color": "#00cc96",
          "pattern": {
           "shape": ""
          }
         },
         "name": "Data Analyst",
         "offsetgroup": "Data Analyst",
         "orientation": "h",
         "showlegend": true,
         "textposition": "auto",
         "type": "bar",
         "x": [
          1,
          1,
          1,
          1,
          1,
          1,
          1,
          1,
          1,
          1,
          1,
          1,
          1,
          1,
          1,
          1,
          1,
          1,
          1,
          1,
          1,
          1,
          1,
          1,
          1,
          1,
          1,
          1,
          1,
          1,
          1,
          1,
          1,
          1,
          1,
          1,
          1,
          1,
          1,
          1,
          1,
          1,
          1,
          1,
          1,
          1,
          1,
          1,
          1,
          1,
          1,
          1,
          1,
          1,
          1,
          1,
          1,
          1,
          1,
          1,
          1,
          1,
          1,
          1,
          1,
          1,
          1,
          1,
          1,
          1,
          1,
          1,
          1,
          1,
          1
         ],
         "xaxis": "x",
         "y": [
          "Full Time",
          "Full Time",
          "Full Time",
          "Full Time",
          "Full Time",
          "Full Time",
          "Full Time",
          "Full Time",
          "Full Time",
          "Full Time",
          "Full Time",
          "Full Time",
          "Full Time",
          "Full Time",
          "Full Time",
          "Full Time",
          "Full Time",
          "Internship",
          "Full Time",
          "Full Time",
          "Full Time",
          "Full Time",
          "Full Time",
          "Full Time",
          "Full Time",
          "Full Time",
          "Full Time",
          "Full Time",
          "Full Time",
          "Full Time",
          "Full Time",
          "Full Time",
          "Full Time",
          "Full Time",
          "Full Time",
          "Full Time",
          "Full Time",
          "Full Time",
          "Full Time",
          "Full Time",
          "Full Time",
          "Full Time",
          "Full Time",
          "Full Time",
          "Full Time",
          "Full Time",
          "Full Time",
          "Full Time",
          "Full Time",
          "Full Time",
          "Full Time",
          "Full Time",
          "Full Time",
          "Full Time",
          "Full Time",
          "Full Time",
          "Full Time",
          "Freelance / Project",
          "Full Time",
          "Full Time",
          "Full Time",
          "Full Time",
          "Full Time",
          "Full Time",
          "Full Time",
          "Full Time",
          "Full Time",
          "Full Time",
          "Full Time",
          "Full Time",
          "Full Time",
          "Full Time",
          "Full Time",
          "Internship",
          "Internship"
         ],
         "yaxis": "y"
        },
        {
         "alignmentgroup": "True",
         "hovertemplate": "Job=Data Engineer<br>count=%{x}<br>job_type=%{y}<extra></extra>",
         "legendgroup": "Data Engineer",
         "marker": {
          "color": "#ab63fa",
          "pattern": {
           "shape": ""
          }
         },
         "name": "Data Engineer",
         "offsetgroup": "Data Engineer",
         "orientation": "h",
         "showlegend": true,
         "textposition": "auto",
         "type": "bar",
         "x": [
          1,
          1,
          1,
          1,
          1,
          1,
          1,
          1,
          1,
          1,
          1,
          1,
          1,
          1,
          1,
          1,
          1,
          1,
          1,
          1,
          1,
          1,
          1,
          1,
          1,
          1,
          1,
          1,
          1,
          1,
          1,
          1,
          1,
          1,
          1,
          1,
          1,
          1,
          1,
          1,
          1,
          1,
          1,
          1,
          1,
          1,
          1,
          1,
          1,
          1,
          1,
          1,
          1,
          1,
          1,
          1,
          1,
          1,
          1,
          1,
          1,
          1,
          1,
          1,
          1,
          1,
          1,
          1,
          1,
          1,
          1,
          1,
          1,
          1,
          1
         ],
         "xaxis": "x",
         "y": [
          "Full Time",
          "Full Time",
          "Full Time",
          "Full Time",
          "Full Time",
          "Full Time",
          "Full Time",
          "Full Time",
          "Full Time",
          "Full Time",
          "Full Time",
          "Full Time",
          "Full Time",
          "Full Time",
          "Full Time",
          "Full Time",
          "Full Time",
          "Full Time",
          "Full Time",
          "Full Time",
          "Full Time",
          "Full Time",
          "Full Time",
          "Full Time",
          "Full Time",
          "Full Time",
          "Full Time",
          "Full Time",
          "Full Time",
          "Full Time",
          "Full Time",
          "Full Time",
          "Full Time",
          "Full Time",
          "Full Time",
          "Full Time",
          "Full Time",
          "Full Time",
          "Full Time",
          "Full Time",
          "Full Time",
          "Full Time",
          "Full Time",
          "Full Time",
          "Full Time",
          "Full Time",
          "Full Time",
          "Full Time",
          "Full Time",
          "Full Time",
          "Full Time",
          "Full Time",
          "Full Time",
          "Full Time",
          "Full Time",
          "Full Time",
          "Full Time",
          "Full Time",
          "Full Time",
          "Full Time",
          "Full Time",
          "Full Time",
          "Full Time",
          "Full Time",
          "Full Time",
          "Full Time",
          "Full Time",
          "Full Time",
          "Full Time",
          "Full Time",
          "Full Time",
          "Full Time",
          "Full Time",
          "Full Time",
          "Full Time"
         ],
         "yaxis": "y"
        },
        {
         "alignmentgroup": "True",
         "hovertemplate": "Job=Data scientist<br>count=%{x}<br>job_type=%{y}<extra></extra>",
         "legendgroup": "Data scientist",
         "marker": {
          "color": "#FFA15A",
          "pattern": {
           "shape": ""
          }
         },
         "name": "Data scientist",
         "offsetgroup": "Data scientist",
         "orientation": "h",
         "showlegend": true,
         "textposition": "auto",
         "type": "bar",
         "x": [
          1,
          1,
          1,
          1,
          1,
          1,
          1,
          1,
          1,
          1,
          1,
          1,
          1,
          1,
          1,
          1,
          1,
          1,
          1,
          1,
          1,
          1,
          1,
          1,
          1
         ],
         "xaxis": "x",
         "y": [
          "Full Time",
          "Full Time",
          "Full Time",
          "Full Time",
          "Full Time",
          "Full Time",
          "Full Time",
          "Full Time",
          "Full Time",
          "Full Time",
          "Full Time",
          "Full Time",
          "Part Time",
          "Full Time",
          "Full Time",
          "Full Time",
          "Full Time",
          "Full Time",
          "Full Time",
          "Full Time",
          "Full Time",
          "Full Time",
          "Full Time",
          "Full Time",
          "Full Time"
         ],
         "yaxis": "y"
        }
       ],
       "layout": {
        "barmode": "stack",
        "legend": {
         "title": {
          "text": "Job"
         },
         "tracegroupgap": 0
        },
        "margin": {
         "t": 60
        },
        "template": {
         "data": {
          "bar": [
           {
            "error_x": {
             "color": "#2a3f5f"
            },
            "error_y": {
             "color": "#2a3f5f"
            },
            "marker": {
             "line": {
              "color": "#E5ECF6",
              "width": 0.5
             },
             "pattern": {
              "fillmode": "overlay",
              "size": 10,
              "solidity": 0.2
             }
            },
            "type": "bar"
           }
          ],
          "barpolar": [
           {
            "marker": {
             "line": {
              "color": "#E5ECF6",
              "width": 0.5
             },
             "pattern": {
              "fillmode": "overlay",
              "size": 10,
              "solidity": 0.2
             }
            },
            "type": "barpolar"
           }
          ],
          "carpet": [
           {
            "aaxis": {
             "endlinecolor": "#2a3f5f",
             "gridcolor": "white",
             "linecolor": "white",
             "minorgridcolor": "white",
             "startlinecolor": "#2a3f5f"
            },
            "baxis": {
             "endlinecolor": "#2a3f5f",
             "gridcolor": "white",
             "linecolor": "white",
             "minorgridcolor": "white",
             "startlinecolor": "#2a3f5f"
            },
            "type": "carpet"
           }
          ],
          "choropleth": [
           {
            "colorbar": {
             "outlinewidth": 0,
             "ticks": ""
            },
            "type": "choropleth"
           }
          ],
          "contour": [
           {
            "colorbar": {
             "outlinewidth": 0,
             "ticks": ""
            },
            "colorscale": [
             [
              0,
              "#0d0887"
             ],
             [
              0.1111111111111111,
              "#46039f"
             ],
             [
              0.2222222222222222,
              "#7201a8"
             ],
             [
              0.3333333333333333,
              "#9c179e"
             ],
             [
              0.4444444444444444,
              "#bd3786"
             ],
             [
              0.5555555555555556,
              "#d8576b"
             ],
             [
              0.6666666666666666,
              "#ed7953"
             ],
             [
              0.7777777777777778,
              "#fb9f3a"
             ],
             [
              0.8888888888888888,
              "#fdca26"
             ],
             [
              1,
              "#f0f921"
             ]
            ],
            "type": "contour"
           }
          ],
          "contourcarpet": [
           {
            "colorbar": {
             "outlinewidth": 0,
             "ticks": ""
            },
            "type": "contourcarpet"
           }
          ],
          "heatmap": [
           {
            "colorbar": {
             "outlinewidth": 0,
             "ticks": ""
            },
            "colorscale": [
             [
              0,
              "#0d0887"
             ],
             [
              0.1111111111111111,
              "#46039f"
             ],
             [
              0.2222222222222222,
              "#7201a8"
             ],
             [
              0.3333333333333333,
              "#9c179e"
             ],
             [
              0.4444444444444444,
              "#bd3786"
             ],
             [
              0.5555555555555556,
              "#d8576b"
             ],
             [
              0.6666666666666666,
              "#ed7953"
             ],
             [
              0.7777777777777778,
              "#fb9f3a"
             ],
             [
              0.8888888888888888,
              "#fdca26"
             ],
             [
              1,
              "#f0f921"
             ]
            ],
            "type": "heatmap"
           }
          ],
          "heatmapgl": [
           {
            "colorbar": {
             "outlinewidth": 0,
             "ticks": ""
            },
            "colorscale": [
             [
              0,
              "#0d0887"
             ],
             [
              0.1111111111111111,
              "#46039f"
             ],
             [
              0.2222222222222222,
              "#7201a8"
             ],
             [
              0.3333333333333333,
              "#9c179e"
             ],
             [
              0.4444444444444444,
              "#bd3786"
             ],
             [
              0.5555555555555556,
              "#d8576b"
             ],
             [
              0.6666666666666666,
              "#ed7953"
             ],
             [
              0.7777777777777778,
              "#fb9f3a"
             ],
             [
              0.8888888888888888,
              "#fdca26"
             ],
             [
              1,
              "#f0f921"
             ]
            ],
            "type": "heatmapgl"
           }
          ],
          "histogram": [
           {
            "marker": {
             "pattern": {
              "fillmode": "overlay",
              "size": 10,
              "solidity": 0.2
             }
            },
            "type": "histogram"
           }
          ],
          "histogram2d": [
           {
            "colorbar": {
             "outlinewidth": 0,
             "ticks": ""
            },
            "colorscale": [
             [
              0,
              "#0d0887"
             ],
             [
              0.1111111111111111,
              "#46039f"
             ],
             [
              0.2222222222222222,
              "#7201a8"
             ],
             [
              0.3333333333333333,
              "#9c179e"
             ],
             [
              0.4444444444444444,
              "#bd3786"
             ],
             [
              0.5555555555555556,
              "#d8576b"
             ],
             [
              0.6666666666666666,
              "#ed7953"
             ],
             [
              0.7777777777777778,
              "#fb9f3a"
             ],
             [
              0.8888888888888888,
              "#fdca26"
             ],
             [
              1,
              "#f0f921"
             ]
            ],
            "type": "histogram2d"
           }
          ],
          "histogram2dcontour": [
           {
            "colorbar": {
             "outlinewidth": 0,
             "ticks": ""
            },
            "colorscale": [
             [
              0,
              "#0d0887"
             ],
             [
              0.1111111111111111,
              "#46039f"
             ],
             [
              0.2222222222222222,
              "#7201a8"
             ],
             [
              0.3333333333333333,
              "#9c179e"
             ],
             [
              0.4444444444444444,
              "#bd3786"
             ],
             [
              0.5555555555555556,
              "#d8576b"
             ],
             [
              0.6666666666666666,
              "#ed7953"
             ],
             [
              0.7777777777777778,
              "#fb9f3a"
             ],
             [
              0.8888888888888888,
              "#fdca26"
             ],
             [
              1,
              "#f0f921"
             ]
            ],
            "type": "histogram2dcontour"
           }
          ],
          "mesh3d": [
           {
            "colorbar": {
             "outlinewidth": 0,
             "ticks": ""
            },
            "type": "mesh3d"
           }
          ],
          "parcoords": [
           {
            "line": {
             "colorbar": {
              "outlinewidth": 0,
              "ticks": ""
             }
            },
            "type": "parcoords"
           }
          ],
          "pie": [
           {
            "automargin": true,
            "type": "pie"
           }
          ],
          "scatter": [
           {
            "marker": {
             "colorbar": {
              "outlinewidth": 0,
              "ticks": ""
             }
            },
            "type": "scatter"
           }
          ],
          "scatter3d": [
           {
            "line": {
             "colorbar": {
              "outlinewidth": 0,
              "ticks": ""
             }
            },
            "marker": {
             "colorbar": {
              "outlinewidth": 0,
              "ticks": ""
             }
            },
            "type": "scatter3d"
           }
          ],
          "scattercarpet": [
           {
            "marker": {
             "colorbar": {
              "outlinewidth": 0,
              "ticks": ""
             }
            },
            "type": "scattercarpet"
           }
          ],
          "scattergeo": [
           {
            "marker": {
             "colorbar": {
              "outlinewidth": 0,
              "ticks": ""
             }
            },
            "type": "scattergeo"
           }
          ],
          "scattergl": [
           {
            "marker": {
             "colorbar": {
              "outlinewidth": 0,
              "ticks": ""
             }
            },
            "type": "scattergl"
           }
          ],
          "scattermapbox": [
           {
            "marker": {
             "colorbar": {
              "outlinewidth": 0,
              "ticks": ""
             }
            },
            "type": "scattermapbox"
           }
          ],
          "scatterpolar": [
           {
            "marker": {
             "colorbar": {
              "outlinewidth": 0,
              "ticks": ""
             }
            },
            "type": "scatterpolar"
           }
          ],
          "scatterpolargl": [
           {
            "marker": {
             "colorbar": {
              "outlinewidth": 0,
              "ticks": ""
             }
            },
            "type": "scatterpolargl"
           }
          ],
          "scatterternary": [
           {
            "marker": {
             "colorbar": {
              "outlinewidth": 0,
              "ticks": ""
             }
            },
            "type": "scatterternary"
           }
          ],
          "surface": [
           {
            "colorbar": {
             "outlinewidth": 0,
             "ticks": ""
            },
            "colorscale": [
             [
              0,
              "#0d0887"
             ],
             [
              0.1111111111111111,
              "#46039f"
             ],
             [
              0.2222222222222222,
              "#7201a8"
             ],
             [
              0.3333333333333333,
              "#9c179e"
             ],
             [
              0.4444444444444444,
              "#bd3786"
             ],
             [
              0.5555555555555556,
              "#d8576b"
             ],
             [
              0.6666666666666666,
              "#ed7953"
             ],
             [
              0.7777777777777778,
              "#fb9f3a"
             ],
             [
              0.8888888888888888,
              "#fdca26"
             ],
             [
              1,
              "#f0f921"
             ]
            ],
            "type": "surface"
           }
          ],
          "table": [
           {
            "cells": {
             "fill": {
              "color": "#EBF0F8"
             },
             "line": {
              "color": "white"
             }
            },
            "header": {
             "fill": {
              "color": "#C8D4E3"
             },
             "line": {
              "color": "white"
             }
            },
            "type": "table"
           }
          ]
         },
         "layout": {
          "annotationdefaults": {
           "arrowcolor": "#2a3f5f",
           "arrowhead": 0,
           "arrowwidth": 1
          },
          "autotypenumbers": "strict",
          "coloraxis": {
           "colorbar": {
            "outlinewidth": 0,
            "ticks": ""
           }
          },
          "colorscale": {
           "diverging": [
            [
             0,
             "#8e0152"
            ],
            [
             0.1,
             "#c51b7d"
            ],
            [
             0.2,
             "#de77ae"
            ],
            [
             0.3,
             "#f1b6da"
            ],
            [
             0.4,
             "#fde0ef"
            ],
            [
             0.5,
             "#f7f7f7"
            ],
            [
             0.6,
             "#e6f5d0"
            ],
            [
             0.7,
             "#b8e186"
            ],
            [
             0.8,
             "#7fbc41"
            ],
            [
             0.9,
             "#4d9221"
            ],
            [
             1,
             "#276419"
            ]
           ],
           "sequential": [
            [
             0,
             "#0d0887"
            ],
            [
             0.1111111111111111,
             "#46039f"
            ],
            [
             0.2222222222222222,
             "#7201a8"
            ],
            [
             0.3333333333333333,
             "#9c179e"
            ],
            [
             0.4444444444444444,
             "#bd3786"
            ],
            [
             0.5555555555555556,
             "#d8576b"
            ],
            [
             0.6666666666666666,
             "#ed7953"
            ],
            [
             0.7777777777777778,
             "#fb9f3a"
            ],
            [
             0.8888888888888888,
             "#fdca26"
            ],
            [
             1,
             "#f0f921"
            ]
           ],
           "sequentialminus": [
            [
             0,
             "#0d0887"
            ],
            [
             0.1111111111111111,
             "#46039f"
            ],
            [
             0.2222222222222222,
             "#7201a8"
            ],
            [
             0.3333333333333333,
             "#9c179e"
            ],
            [
             0.4444444444444444,
             "#bd3786"
            ],
            [
             0.5555555555555556,
             "#d8576b"
            ],
            [
             0.6666666666666666,
             "#ed7953"
            ],
            [
             0.7777777777777778,
             "#fb9f3a"
            ],
            [
             0.8888888888888888,
             "#fdca26"
            ],
            [
             1,
             "#f0f921"
            ]
           ]
          },
          "colorway": [
           "#636efa",
           "#EF553B",
           "#00cc96",
           "#ab63fa",
           "#FFA15A",
           "#19d3f3",
           "#FF6692",
           "#B6E880",
           "#FF97FF",
           "#FECB52"
          ],
          "font": {
           "color": "#2a3f5f"
          },
          "geo": {
           "bgcolor": "white",
           "lakecolor": "white",
           "landcolor": "#E5ECF6",
           "showlakes": true,
           "showland": true,
           "subunitcolor": "white"
          },
          "hoverlabel": {
           "align": "left"
          },
          "hovermode": "closest",
          "mapbox": {
           "style": "light"
          },
          "paper_bgcolor": "white",
          "plot_bgcolor": "#E5ECF6",
          "polar": {
           "angularaxis": {
            "gridcolor": "white",
            "linecolor": "white",
            "ticks": ""
           },
           "bgcolor": "#E5ECF6",
           "radialaxis": {
            "gridcolor": "white",
            "linecolor": "white",
            "ticks": ""
           }
          },
          "scene": {
           "xaxis": {
            "backgroundcolor": "#E5ECF6",
            "gridcolor": "white",
            "gridwidth": 2,
            "linecolor": "white",
            "showbackground": true,
            "ticks": "",
            "zerolinecolor": "white"
           },
           "yaxis": {
            "backgroundcolor": "#E5ECF6",
            "gridcolor": "white",
            "gridwidth": 2,
            "linecolor": "white",
            "showbackground": true,
            "ticks": "",
            "zerolinecolor": "white"
           },
           "zaxis": {
            "backgroundcolor": "#E5ECF6",
            "gridcolor": "white",
            "gridwidth": 2,
            "linecolor": "white",
            "showbackground": true,
            "ticks": "",
            "zerolinecolor": "white"
           }
          },
          "shapedefaults": {
           "line": {
            "color": "#2a3f5f"
           }
          },
          "ternary": {
           "aaxis": {
            "gridcolor": "white",
            "linecolor": "white",
            "ticks": ""
           },
           "baxis": {
            "gridcolor": "white",
            "linecolor": "white",
            "ticks": ""
           },
           "bgcolor": "#E5ECF6",
           "caxis": {
            "gridcolor": "white",
            "linecolor": "white",
            "ticks": ""
           }
          },
          "title": {
           "x": 0.05
          },
          "xaxis": {
           "automargin": true,
           "gridcolor": "white",
           "linecolor": "white",
           "ticks": "",
           "title": {
            "standoff": 15
           },
           "zerolinecolor": "white",
           "zerolinewidth": 2
          },
          "yaxis": {
           "automargin": true,
           "gridcolor": "white",
           "linecolor": "white",
           "ticks": "",
           "title": {
            "standoff": 15
           },
           "zerolinecolor": "white",
           "zerolinewidth": 2
          }
         }
        },
        "xaxis": {
         "anchor": "y",
         "domain": [
          0,
          1
         ],
         "title": {
          "text": "count"
         }
        },
        "yaxis": {
         "anchor": "x",
         "domain": [
          0,
          1
         ],
         "title": {
          "text": "job_type"
         }
        }
       }
      },
      "text/html": [
       "<div>                            <div id=\"70362480-25ac-447d-8997-a149264242e4\" class=\"plotly-graph-div\" style=\"height:525px; width:100%;\"></div>            <script type=\"text/javascript\">                require([\"plotly\"], function(Plotly) {                    window.PLOTLYENV=window.PLOTLYENV || {};                                    if (document.getElementById(\"70362480-25ac-447d-8997-a149264242e4\")) {                    Plotly.newPlot(                        \"70362480-25ac-447d-8997-a149264242e4\",                        [{\"alignmentgroup\":\"True\",\"hovertemplate\":\"Job=AI Engineer<br>count=%{x}<br>job_type=%{y}<extra></extra>\",\"legendgroup\":\"AI Engineer\",\"marker\":{\"color\":\"#636efa\",\"pattern\":{\"shape\":\"\"}},\"name\":\"AI Engineer\",\"offsetgroup\":\"AI Engineer\",\"orientation\":\"h\",\"showlegend\":true,\"textposition\":\"auto\",\"x\":[1,1,1,1,1,1,1,1,1,1,1,1,1,1,1,1,1,1,1,1,1,1,1,1,1,1,1,1,1,1,1,1,1,1,1,1,1,1,1,1,1,1,1,1,1,1,1,1,1,1,1,1,1,1,1,1,1],\"xaxis\":\"x\",\"y\":[\"Full Time\",\"Full Time\",\"Full Time\",\"Internship\",\"Full Time\",\"Part Time\",\"Full Time\",\"Full Time\",\"Part Time\",\"Full Time\",\"Full Time\",\"Full Time\",\"Full Time\",\"Full Time\",\"Full Time\",\"Full Time\",\"Full Time\",\"Full Time\",\"Internship\",\"Full Time\",\"Full Time\",\"Internship\",\"Full Time\",\"Full Time\",\"Full Time\",\"Freelance / Project\",\"Full Time\",\"Full Time\",\"Full Time\",\"Full Time\",\"Full Time\",\"Full Time\",\"Full Time\",\"Full Time\",\"Full Time\",\"Full Time\",\"Internship\",\"Full Time\",\"Full Time\",\"Full Time\",\"Full Time\",\"Full Time\",\"Full Time\",\"Full Time\",\"Full Time\",\"Internship\",\"Full Time\",\"Full Time\",\"Full Time\",\"Full Time\",\"Full Time\",\"Full Time\",\"Full Time\",\"Full Time\",\"Full Time\",\"Freelance / Project\",\"Full Time\"],\"yaxis\":\"y\",\"type\":\"bar\"},{\"alignmentgroup\":\"True\",\"hovertemplate\":\"Job=ML Engineer<br>count=%{x}<br>job_type=%{y}<extra></extra>\",\"legendgroup\":\"ML Engineer\",\"marker\":{\"color\":\"#EF553B\",\"pattern\":{\"shape\":\"\"}},\"name\":\"ML Engineer\",\"offsetgroup\":\"ML Engineer\",\"orientation\":\"h\",\"showlegend\":true,\"textposition\":\"auto\",\"x\":[1,1,1,1,1,1,1,1,1,1,1,1,1,1,1,1,1],\"xaxis\":\"x\",\"y\":[\"Full Time\",\"Full Time\",\"Full Time\",\"Internship\",\"Full Time\",\"Full Time\",\"Full Time\",\"Full Time\",\"Full Time\",\"Full Time\",\"Full Time\",\"Full Time\",\"Internship\",\"Full Time\",\"Full Time\",\"Full Time\",\"Full Time\"],\"yaxis\":\"y\",\"type\":\"bar\"},{\"alignmentgroup\":\"True\",\"hovertemplate\":\"Job=Data Analyst<br>count=%{x}<br>job_type=%{y}<extra></extra>\",\"legendgroup\":\"Data Analyst\",\"marker\":{\"color\":\"#00cc96\",\"pattern\":{\"shape\":\"\"}},\"name\":\"Data Analyst\",\"offsetgroup\":\"Data Analyst\",\"orientation\":\"h\",\"showlegend\":true,\"textposition\":\"auto\",\"x\":[1,1,1,1,1,1,1,1,1,1,1,1,1,1,1,1,1,1,1,1,1,1,1,1,1,1,1,1,1,1,1,1,1,1,1,1,1,1,1,1,1,1,1,1,1,1,1,1,1,1,1,1,1,1,1,1,1,1,1,1,1,1,1,1,1,1,1,1,1,1,1,1,1,1,1],\"xaxis\":\"x\",\"y\":[\"Full Time\",\"Full Time\",\"Full Time\",\"Full Time\",\"Full Time\",\"Full Time\",\"Full Time\",\"Full Time\",\"Full Time\",\"Full Time\",\"Full Time\",\"Full Time\",\"Full Time\",\"Full Time\",\"Full Time\",\"Full Time\",\"Full Time\",\"Internship\",\"Full Time\",\"Full Time\",\"Full Time\",\"Full Time\",\"Full Time\",\"Full Time\",\"Full Time\",\"Full Time\",\"Full Time\",\"Full Time\",\"Full Time\",\"Full Time\",\"Full Time\",\"Full Time\",\"Full Time\",\"Full Time\",\"Full Time\",\"Full Time\",\"Full Time\",\"Full Time\",\"Full Time\",\"Full Time\",\"Full Time\",\"Full Time\",\"Full Time\",\"Full Time\",\"Full Time\",\"Full Time\",\"Full Time\",\"Full Time\",\"Full Time\",\"Full Time\",\"Full Time\",\"Full Time\",\"Full Time\",\"Full Time\",\"Full Time\",\"Full Time\",\"Full Time\",\"Freelance / Project\",\"Full Time\",\"Full Time\",\"Full Time\",\"Full Time\",\"Full Time\",\"Full Time\",\"Full Time\",\"Full Time\",\"Full Time\",\"Full Time\",\"Full Time\",\"Full Time\",\"Full Time\",\"Full Time\",\"Full Time\",\"Internship\",\"Internship\"],\"yaxis\":\"y\",\"type\":\"bar\"},{\"alignmentgroup\":\"True\",\"hovertemplate\":\"Job=Data Engineer<br>count=%{x}<br>job_type=%{y}<extra></extra>\",\"legendgroup\":\"Data Engineer\",\"marker\":{\"color\":\"#ab63fa\",\"pattern\":{\"shape\":\"\"}},\"name\":\"Data Engineer\",\"offsetgroup\":\"Data Engineer\",\"orientation\":\"h\",\"showlegend\":true,\"textposition\":\"auto\",\"x\":[1,1,1,1,1,1,1,1,1,1,1,1,1,1,1,1,1,1,1,1,1,1,1,1,1,1,1,1,1,1,1,1,1,1,1,1,1,1,1,1,1,1,1,1,1,1,1,1,1,1,1,1,1,1,1,1,1,1,1,1,1,1,1,1,1,1,1,1,1,1,1,1,1,1,1],\"xaxis\":\"x\",\"y\":[\"Full Time\",\"Full Time\",\"Full Time\",\"Full Time\",\"Full Time\",\"Full Time\",\"Full Time\",\"Full Time\",\"Full Time\",\"Full Time\",\"Full Time\",\"Full Time\",\"Full Time\",\"Full Time\",\"Full Time\",\"Full Time\",\"Full Time\",\"Full Time\",\"Full Time\",\"Full Time\",\"Full Time\",\"Full Time\",\"Full Time\",\"Full Time\",\"Full Time\",\"Full Time\",\"Full Time\",\"Full Time\",\"Full Time\",\"Full Time\",\"Full Time\",\"Full Time\",\"Full Time\",\"Full Time\",\"Full Time\",\"Full Time\",\"Full Time\",\"Full Time\",\"Full Time\",\"Full Time\",\"Full Time\",\"Full Time\",\"Full Time\",\"Full Time\",\"Full Time\",\"Full Time\",\"Full Time\",\"Full Time\",\"Full Time\",\"Full Time\",\"Full Time\",\"Full Time\",\"Full Time\",\"Full Time\",\"Full Time\",\"Full Time\",\"Full Time\",\"Full Time\",\"Full Time\",\"Full Time\",\"Full Time\",\"Full Time\",\"Full Time\",\"Full Time\",\"Full Time\",\"Full Time\",\"Full Time\",\"Full Time\",\"Full Time\",\"Full Time\",\"Full Time\",\"Full Time\",\"Full Time\",\"Full Time\",\"Full Time\"],\"yaxis\":\"y\",\"type\":\"bar\"},{\"alignmentgroup\":\"True\",\"hovertemplate\":\"Job=Data scientist<br>count=%{x}<br>job_type=%{y}<extra></extra>\",\"legendgroup\":\"Data scientist\",\"marker\":{\"color\":\"#FFA15A\",\"pattern\":{\"shape\":\"\"}},\"name\":\"Data scientist\",\"offsetgroup\":\"Data scientist\",\"orientation\":\"h\",\"showlegend\":true,\"textposition\":\"auto\",\"x\":[1,1,1,1,1,1,1,1,1,1,1,1,1,1,1,1,1,1,1,1,1,1,1,1,1],\"xaxis\":\"x\",\"y\":[\"Full Time\",\"Full Time\",\"Full Time\",\"Full Time\",\"Full Time\",\"Full Time\",\"Full Time\",\"Full Time\",\"Full Time\",\"Full Time\",\"Full Time\",\"Full Time\",\"Part Time\",\"Full Time\",\"Full Time\",\"Full Time\",\"Full Time\",\"Full Time\",\"Full Time\",\"Full Time\",\"Full Time\",\"Full Time\",\"Full Time\",\"Full Time\",\"Full Time\"],\"yaxis\":\"y\",\"type\":\"bar\"}],                        {\"template\":{\"data\":{\"bar\":[{\"error_x\":{\"color\":\"#2a3f5f\"},\"error_y\":{\"color\":\"#2a3f5f\"},\"marker\":{\"line\":{\"color\":\"#E5ECF6\",\"width\":0.5},\"pattern\":{\"fillmode\":\"overlay\",\"size\":10,\"solidity\":0.2}},\"type\":\"bar\"}],\"barpolar\":[{\"marker\":{\"line\":{\"color\":\"#E5ECF6\",\"width\":0.5},\"pattern\":{\"fillmode\":\"overlay\",\"size\":10,\"solidity\":0.2}},\"type\":\"barpolar\"}],\"carpet\":[{\"aaxis\":{\"endlinecolor\":\"#2a3f5f\",\"gridcolor\":\"white\",\"linecolor\":\"white\",\"minorgridcolor\":\"white\",\"startlinecolor\":\"#2a3f5f\"},\"baxis\":{\"endlinecolor\":\"#2a3f5f\",\"gridcolor\":\"white\",\"linecolor\":\"white\",\"minorgridcolor\":\"white\",\"startlinecolor\":\"#2a3f5f\"},\"type\":\"carpet\"}],\"choropleth\":[{\"colorbar\":{\"outlinewidth\":0,\"ticks\":\"\"},\"type\":\"choropleth\"}],\"contour\":[{\"colorbar\":{\"outlinewidth\":0,\"ticks\":\"\"},\"colorscale\":[[0.0,\"#0d0887\"],[0.1111111111111111,\"#46039f\"],[0.2222222222222222,\"#7201a8\"],[0.3333333333333333,\"#9c179e\"],[0.4444444444444444,\"#bd3786\"],[0.5555555555555556,\"#d8576b\"],[0.6666666666666666,\"#ed7953\"],[0.7777777777777778,\"#fb9f3a\"],[0.8888888888888888,\"#fdca26\"],[1.0,\"#f0f921\"]],\"type\":\"contour\"}],\"contourcarpet\":[{\"colorbar\":{\"outlinewidth\":0,\"ticks\":\"\"},\"type\":\"contourcarpet\"}],\"heatmap\":[{\"colorbar\":{\"outlinewidth\":0,\"ticks\":\"\"},\"colorscale\":[[0.0,\"#0d0887\"],[0.1111111111111111,\"#46039f\"],[0.2222222222222222,\"#7201a8\"],[0.3333333333333333,\"#9c179e\"],[0.4444444444444444,\"#bd3786\"],[0.5555555555555556,\"#d8576b\"],[0.6666666666666666,\"#ed7953\"],[0.7777777777777778,\"#fb9f3a\"],[0.8888888888888888,\"#fdca26\"],[1.0,\"#f0f921\"]],\"type\":\"heatmap\"}],\"heatmapgl\":[{\"colorbar\":{\"outlinewidth\":0,\"ticks\":\"\"},\"colorscale\":[[0.0,\"#0d0887\"],[0.1111111111111111,\"#46039f\"],[0.2222222222222222,\"#7201a8\"],[0.3333333333333333,\"#9c179e\"],[0.4444444444444444,\"#bd3786\"],[0.5555555555555556,\"#d8576b\"],[0.6666666666666666,\"#ed7953\"],[0.7777777777777778,\"#fb9f3a\"],[0.8888888888888888,\"#fdca26\"],[1.0,\"#f0f921\"]],\"type\":\"heatmapgl\"}],\"histogram\":[{\"marker\":{\"pattern\":{\"fillmode\":\"overlay\",\"size\":10,\"solidity\":0.2}},\"type\":\"histogram\"}],\"histogram2d\":[{\"colorbar\":{\"outlinewidth\":0,\"ticks\":\"\"},\"colorscale\":[[0.0,\"#0d0887\"],[0.1111111111111111,\"#46039f\"],[0.2222222222222222,\"#7201a8\"],[0.3333333333333333,\"#9c179e\"],[0.4444444444444444,\"#bd3786\"],[0.5555555555555556,\"#d8576b\"],[0.6666666666666666,\"#ed7953\"],[0.7777777777777778,\"#fb9f3a\"],[0.8888888888888888,\"#fdca26\"],[1.0,\"#f0f921\"]],\"type\":\"histogram2d\"}],\"histogram2dcontour\":[{\"colorbar\":{\"outlinewidth\":0,\"ticks\":\"\"},\"colorscale\":[[0.0,\"#0d0887\"],[0.1111111111111111,\"#46039f\"],[0.2222222222222222,\"#7201a8\"],[0.3333333333333333,\"#9c179e\"],[0.4444444444444444,\"#bd3786\"],[0.5555555555555556,\"#d8576b\"],[0.6666666666666666,\"#ed7953\"],[0.7777777777777778,\"#fb9f3a\"],[0.8888888888888888,\"#fdca26\"],[1.0,\"#f0f921\"]],\"type\":\"histogram2dcontour\"}],\"mesh3d\":[{\"colorbar\":{\"outlinewidth\":0,\"ticks\":\"\"},\"type\":\"mesh3d\"}],\"parcoords\":[{\"line\":{\"colorbar\":{\"outlinewidth\":0,\"ticks\":\"\"}},\"type\":\"parcoords\"}],\"pie\":[{\"automargin\":true,\"type\":\"pie\"}],\"scatter\":[{\"marker\":{\"colorbar\":{\"outlinewidth\":0,\"ticks\":\"\"}},\"type\":\"scatter\"}],\"scatter3d\":[{\"line\":{\"colorbar\":{\"outlinewidth\":0,\"ticks\":\"\"}},\"marker\":{\"colorbar\":{\"outlinewidth\":0,\"ticks\":\"\"}},\"type\":\"scatter3d\"}],\"scattercarpet\":[{\"marker\":{\"colorbar\":{\"outlinewidth\":0,\"ticks\":\"\"}},\"type\":\"scattercarpet\"}],\"scattergeo\":[{\"marker\":{\"colorbar\":{\"outlinewidth\":0,\"ticks\":\"\"}},\"type\":\"scattergeo\"}],\"scattergl\":[{\"marker\":{\"colorbar\":{\"outlinewidth\":0,\"ticks\":\"\"}},\"type\":\"scattergl\"}],\"scattermapbox\":[{\"marker\":{\"colorbar\":{\"outlinewidth\":0,\"ticks\":\"\"}},\"type\":\"scattermapbox\"}],\"scatterpolar\":[{\"marker\":{\"colorbar\":{\"outlinewidth\":0,\"ticks\":\"\"}},\"type\":\"scatterpolar\"}],\"scatterpolargl\":[{\"marker\":{\"colorbar\":{\"outlinewidth\":0,\"ticks\":\"\"}},\"type\":\"scatterpolargl\"}],\"scatterternary\":[{\"marker\":{\"colorbar\":{\"outlinewidth\":0,\"ticks\":\"\"}},\"type\":\"scatterternary\"}],\"surface\":[{\"colorbar\":{\"outlinewidth\":0,\"ticks\":\"\"},\"colorscale\":[[0.0,\"#0d0887\"],[0.1111111111111111,\"#46039f\"],[0.2222222222222222,\"#7201a8\"],[0.3333333333333333,\"#9c179e\"],[0.4444444444444444,\"#bd3786\"],[0.5555555555555556,\"#d8576b\"],[0.6666666666666666,\"#ed7953\"],[0.7777777777777778,\"#fb9f3a\"],[0.8888888888888888,\"#fdca26\"],[1.0,\"#f0f921\"]],\"type\":\"surface\"}],\"table\":[{\"cells\":{\"fill\":{\"color\":\"#EBF0F8\"},\"line\":{\"color\":\"white\"}},\"header\":{\"fill\":{\"color\":\"#C8D4E3\"},\"line\":{\"color\":\"white\"}},\"type\":\"table\"}]},\"layout\":{\"annotationdefaults\":{\"arrowcolor\":\"#2a3f5f\",\"arrowhead\":0,\"arrowwidth\":1},\"autotypenumbers\":\"strict\",\"coloraxis\":{\"colorbar\":{\"outlinewidth\":0,\"ticks\":\"\"}},\"colorscale\":{\"diverging\":[[0,\"#8e0152\"],[0.1,\"#c51b7d\"],[0.2,\"#de77ae\"],[0.3,\"#f1b6da\"],[0.4,\"#fde0ef\"],[0.5,\"#f7f7f7\"],[0.6,\"#e6f5d0\"],[0.7,\"#b8e186\"],[0.8,\"#7fbc41\"],[0.9,\"#4d9221\"],[1,\"#276419\"]],\"sequential\":[[0.0,\"#0d0887\"],[0.1111111111111111,\"#46039f\"],[0.2222222222222222,\"#7201a8\"],[0.3333333333333333,\"#9c179e\"],[0.4444444444444444,\"#bd3786\"],[0.5555555555555556,\"#d8576b\"],[0.6666666666666666,\"#ed7953\"],[0.7777777777777778,\"#fb9f3a\"],[0.8888888888888888,\"#fdca26\"],[1.0,\"#f0f921\"]],\"sequentialminus\":[[0.0,\"#0d0887\"],[0.1111111111111111,\"#46039f\"],[0.2222222222222222,\"#7201a8\"],[0.3333333333333333,\"#9c179e\"],[0.4444444444444444,\"#bd3786\"],[0.5555555555555556,\"#d8576b\"],[0.6666666666666666,\"#ed7953\"],[0.7777777777777778,\"#fb9f3a\"],[0.8888888888888888,\"#fdca26\"],[1.0,\"#f0f921\"]]},\"colorway\":[\"#636efa\",\"#EF553B\",\"#00cc96\",\"#ab63fa\",\"#FFA15A\",\"#19d3f3\",\"#FF6692\",\"#B6E880\",\"#FF97FF\",\"#FECB52\"],\"font\":{\"color\":\"#2a3f5f\"},\"geo\":{\"bgcolor\":\"white\",\"lakecolor\":\"white\",\"landcolor\":\"#E5ECF6\",\"showlakes\":true,\"showland\":true,\"subunitcolor\":\"white\"},\"hoverlabel\":{\"align\":\"left\"},\"hovermode\":\"closest\",\"mapbox\":{\"style\":\"light\"},\"paper_bgcolor\":\"white\",\"plot_bgcolor\":\"#E5ECF6\",\"polar\":{\"angularaxis\":{\"gridcolor\":\"white\",\"linecolor\":\"white\",\"ticks\":\"\"},\"bgcolor\":\"#E5ECF6\",\"radialaxis\":{\"gridcolor\":\"white\",\"linecolor\":\"white\",\"ticks\":\"\"}},\"scene\":{\"xaxis\":{\"backgroundcolor\":\"#E5ECF6\",\"gridcolor\":\"white\",\"gridwidth\":2,\"linecolor\":\"white\",\"showbackground\":true,\"ticks\":\"\",\"zerolinecolor\":\"white\"},\"yaxis\":{\"backgroundcolor\":\"#E5ECF6\",\"gridcolor\":\"white\",\"gridwidth\":2,\"linecolor\":\"white\",\"showbackground\":true,\"ticks\":\"\",\"zerolinecolor\":\"white\"},\"zaxis\":{\"backgroundcolor\":\"#E5ECF6\",\"gridcolor\":\"white\",\"gridwidth\":2,\"linecolor\":\"white\",\"showbackground\":true,\"ticks\":\"\",\"zerolinecolor\":\"white\"}},\"shapedefaults\":{\"line\":{\"color\":\"#2a3f5f\"}},\"ternary\":{\"aaxis\":{\"gridcolor\":\"white\",\"linecolor\":\"white\",\"ticks\":\"\"},\"baxis\":{\"gridcolor\":\"white\",\"linecolor\":\"white\",\"ticks\":\"\"},\"bgcolor\":\"#E5ECF6\",\"caxis\":{\"gridcolor\":\"white\",\"linecolor\":\"white\",\"ticks\":\"\"}},\"title\":{\"x\":0.05},\"xaxis\":{\"automargin\":true,\"gridcolor\":\"white\",\"linecolor\":\"white\",\"ticks\":\"\",\"title\":{\"standoff\":15},\"zerolinecolor\":\"white\",\"zerolinewidth\":2},\"yaxis\":{\"automargin\":true,\"gridcolor\":\"white\",\"linecolor\":\"white\",\"ticks\":\"\",\"title\":{\"standoff\":15},\"zerolinecolor\":\"white\",\"zerolinewidth\":2}}},\"xaxis\":{\"anchor\":\"y\",\"domain\":[0.0,1.0],\"title\":{\"text\":\"count\"}},\"yaxis\":{\"anchor\":\"x\",\"domain\":[0.0,1.0],\"title\":{\"text\":\"job_type\"}},\"legend\":{\"title\":{\"text\":\"Job\"},\"tracegroupgap\":0},\"margin\":{\"t\":60},\"barmode\":\"stack\"},                        {\"responsive\": true}                    ).then(function(){\n",
       "                            \n",
       "var gd = document.getElementById('70362480-25ac-447d-8997-a149264242e4');\n",
       "var x = new MutationObserver(function (mutations, observer) {{\n",
       "        var display = window.getComputedStyle(gd).display;\n",
       "        if (!display || display === 'none') {{\n",
       "            console.log([gd, 'removed!']);\n",
       "            Plotly.purge(gd);\n",
       "            observer.disconnect();\n",
       "        }}\n",
       "}});\n",
       "\n",
       "// Listen for the removal of the full notebook cells\n",
       "var notebookContainer = gd.closest('#notebook-container');\n",
       "if (notebookContainer) {{\n",
       "    x.observe(notebookContainer, {childList: true});\n",
       "}}\n",
       "\n",
       "// Listen for the clearing of the current output cell\n",
       "var outputEl = gd.closest('.output');\n",
       "if (outputEl) {{\n",
       "    x.observe(outputEl, {childList: true});\n",
       "}}\n",
       "\n",
       "                        })                };                });            </script>        </div>"
      ]
     },
     "metadata": {},
     "output_type": "display_data"
    }
   ],
   "source": [
    "px.bar(Jobs_df,  y='job_type' , color='Job',barmode='stack' )"
   ]
  },
  {
   "cell_type": "code",
   "execution_count": 133,
   "id": "b2ccbcc2",
   "metadata": {},
   "outputs": [
    {
     "data": {
      "text/plain": [
       "company\n",
       " Si-Vision          1\n",
       "34ML                3\n",
       "360Imaging          2\n",
       "AFKAR Technology    2\n",
       "Adm-Medsofts        1\n",
       "                   ..\n",
       "e-finance           1\n",
       "egabi solutions     1\n",
       "iSchool             5\n",
       "prosylab            1\n",
       "skora tech          2\n",
       "Name: job title, Length: 140, dtype: int64"
      ]
     },
     "execution_count": 133,
     "metadata": {},
     "output_type": "execute_result"
    }
   ],
   "source": [
    "Jobs_df.groupby('company')['job title'].count()"
   ]
  },
  {
   "cell_type": "code",
   "execution_count": 147,
   "id": "44fcc5f2",
   "metadata": {},
   "outputs": [
    {
     "data": {
      "application/vnd.plotly.v1+json": {
       "config": {
        "plotlyServerURL": "https://plot.ly"
       },
       "data": [
        {
         "hovertemplate": "x=%{x}<br>y=%{y}<br>size=%{marker.size}<br>color=%{marker.color}<extra></extra>",
         "legendgroup": "",
         "marker": {
          "color": [
           1,
           3,
           2,
           2,
           1,
           1,
           2,
           1,
           1,
           1,
           1,
           1,
           1,
           1,
           2,
           1,
           2,
           12,
           1,
           1,
           6,
           2,
           2,
           1,
           1,
           1,
           1,
           1,
           1,
           1,
           1,
           2,
           1,
           1,
           2,
           2,
           1,
           1,
           23,
           1,
           1,
           1,
           1,
           1,
           1,
           1,
           1,
           3,
           1,
           1,
           1,
           1,
           1,
           1,
           2,
           1,
           2,
           2,
           2,
           1,
           1,
           1,
           1,
           2,
           1,
           1,
           2,
           1,
           1,
           1,
           1,
           1,
           2,
           1,
           1,
           1,
           1,
           1,
           2,
           2,
           1,
           2,
           1,
           2,
           1,
           2,
           3,
           1,
           1,
           7,
           1,
           1,
           1,
           1,
           1,
           6,
           2,
           1,
           1,
           2,
           2,
           1,
           2,
           1,
           1,
           1,
           1,
           1,
           5,
           1,
           1,
           1,
           1,
           1,
           1,
           1,
           5,
           9,
           1,
           1,
           1,
           1,
           1,
           1,
           3,
           1,
           1,
           1,
           1,
           1,
           2,
           3,
           3,
           1,
           1,
           1,
           1,
           5,
           1,
           2
          ],
          "coloraxis": "coloraxis",
          "size": [
           1,
           3,
           2,
           2,
           1,
           1,
           2,
           1,
           1,
           1,
           1,
           1,
           1,
           1,
           2,
           1,
           2,
           12,
           1,
           1,
           6,
           2,
           2,
           1,
           1,
           1,
           1,
           1,
           1,
           1,
           1,
           2,
           1,
           1,
           2,
           2,
           1,
           1,
           23,
           1,
           1,
           1,
           1,
           1,
           1,
           1,
           1,
           3,
           1,
           1,
           1,
           1,
           1,
           1,
           2,
           1,
           2,
           2,
           2,
           1,
           1,
           1,
           1,
           2,
           1,
           1,
           2,
           1,
           1,
           1,
           1,
           1,
           2,
           1,
           1,
           1,
           1,
           1,
           2,
           2,
           1,
           2,
           1,
           2,
           1,
           2,
           3,
           1,
           1,
           7,
           1,
           1,
           1,
           1,
           1,
           6,
           2,
           1,
           1,
           2,
           2,
           1,
           2,
           1,
           1,
           1,
           1,
           1,
           5,
           1,
           1,
           1,
           1,
           1,
           1,
           1,
           5,
           9,
           1,
           1,
           1,
           1,
           1,
           1,
           3,
           1,
           1,
           1,
           1,
           1,
           2,
           3,
           3,
           1,
           1,
           1,
           1,
           5,
           1,
           2
          ],
          "sizemode": "area",
          "sizeref": 0.0575,
          "symbol": "circle"
         },
         "mode": "markers",
         "name": "",
         "orientation": "h",
         "showlegend": false,
         "type": "scatter",
         "x": [
          1,
          3,
          2,
          2,
          1,
          1,
          2,
          1,
          1,
          1,
          1,
          1,
          1,
          1,
          2,
          1,
          2,
          12,
          1,
          1,
          6,
          2,
          2,
          1,
          1,
          1,
          1,
          1,
          1,
          1,
          1,
          2,
          1,
          1,
          2,
          2,
          1,
          1,
          23,
          1,
          1,
          1,
          1,
          1,
          1,
          1,
          1,
          3,
          1,
          1,
          1,
          1,
          1,
          1,
          2,
          1,
          2,
          2,
          2,
          1,
          1,
          1,
          1,
          2,
          1,
          1,
          2,
          1,
          1,
          1,
          1,
          1,
          2,
          1,
          1,
          1,
          1,
          1,
          2,
          2,
          1,
          2,
          1,
          2,
          1,
          2,
          3,
          1,
          1,
          7,
          1,
          1,
          1,
          1,
          1,
          6,
          2,
          1,
          1,
          2,
          2,
          1,
          2,
          1,
          1,
          1,
          1,
          1,
          5,
          1,
          1,
          1,
          1,
          1,
          1,
          1,
          5,
          9,
          1,
          1,
          1,
          1,
          1,
          1,
          3,
          1,
          1,
          1,
          1,
          1,
          2,
          3,
          3,
          1,
          1,
          1,
          1,
          5,
          1,
          2
         ],
         "xaxis": "x",
         "y": [
          "Softec Technologies",
          "Etisalat Misr",
          "Tahaluf Al Emarat Technical Solutions",
          "Easy System",
          "iSchool",
          "Hakaya",
          "Atomica",
          "TMentors",
          "AFKAR Technology",
          "ManEx Systems",
          "LxT",
          "360Imaging",
          "Gemssy Technologies S.L.",
          "Edu-Zone",
          "skora tech",
          "Confidential Company - ",
          "Trufla",
          "Evolvice GmbH",
          "Nana",
          "beetleware",
          "ITS ",
          "Fingerprint consultancy",
          "RDI",
          "GS1",
          "NaTakallam",
          "Beyond Apps Group",
          "Talents Arena",
          "34ML",
          "Tech SquAd",
          "Corporatica",
          "Arma Foods ",
          "Allianz",
          "Aman Holding",
          "Dough and More Food Industries",
          "OPPO Egypt ",
          "B.TECH",
          "Jazeera Paints",
          "Gap Polymers ",
          "Sun Pharma",
          "BI-Technologies",
          "Careery For Talent Services ",
          "Qsource",
          "Anasia Egypt for Trading",
          "M² Developments",
          "Z2 Data",
          "JoviTronix ",
          "Andalusia Maadi Hospital ",
          "Sykes Enterprises",
          "Alrayda Elkobra",
          "Caelum Egypt",
          "Fatura ",
          "Cairoscan",
          "Icity",
          "FlairsTech",
          "Cairo Three A  for Agricultural and Animal Production",
          "World Vest Base (WVB )",
          "Xceed",
          "World of systems and software",
          "Paymob Solutions",
          "System Technique",
          "Catalogz Technology",
          "Ashtar.app",
          "Raya Customer Experience",
          "Rasan",
          "Gulf United Group",
          "Adm-Medsofts",
          "Veripark",
          "Cilantro",
          "Nile Projects & Trading",
          "e-finance",
          "BBI-Consultancy",
          "Perfect Presentation",
          "Contact",
          "prosylab",
          "Pylon UMP",
          "M.Srour",
          "Mobica",
          "Chefaa IT",
          "Alhokair Fashion Retail",
          "IMS",
          "OSN",
          "Mobile Wave 3",
          "Transmar International ",
          "Zeina Group",
          "Maxab",
          "Shiny White Dental Center ",
          "Chitosan.egypt",
          "Andela",
          "Worex",
          "SSC Egypt",
          "Click ITS",
          "Fixed Solutions",
          "Grafene Consulting",
          "KnowledgeNet",
          "Expleo",
          "Petrological Integrated Solutions",
          "Egybell",
          "Wadi Degla Trading ",
          "Sahab Smart Solutions",
          "MB for Engineering",
          "Capital IT",
          "LEONI Wiring System Egypt S.A.E",
          "Network International -Egypt",
          "Elsewedy industries",
          "Autsera Limited",
          "Ibn Sina Pharma",
          "Elattal Holding ",
          "EGID company",
          "Floortec",
          "Al Rabat",
          "Beyond Solution",
          "Global Medical Solutions International ",
          "Al Amin Technological Systems",
          "Stratoil Energy Services",
          "Sega_m",
          "ICON Holding",
          "Redcon Spain",
          "Tanta Motors ",
          "Caduceus Lane",
          "Micro Engineering",
          " Si-Vision",
          "Egyptian Engineering Company",
          "egabi solutions",
          "Talent 360",
          "Target Recruitment  & HR Solutions ",
          "EGYTRAFO",
          "Solera",
          "URANIUM",
          "Dreem Mashreq Foods ",
          "Block Gemini",
          "Brainology",
          "Construction & Design Co. SAE",
          "Midea Egypt",
          "Kick Start Interactive",
          "Lines Dev",
          "BlinkApp",
          "Advansys ESC",
          "Nile University",
          "Standout Solutions",
          "Squadio"
         ],
         "yaxis": "y"
        }
       ],
       "layout": {
        "coloraxis": {
         "colorbar": {
          "title": {
           "text": "color"
          }
         },
         "colorscale": [
          [
           0,
           "#0d0887"
          ],
          [
           0.1111111111111111,
           "#46039f"
          ],
          [
           0.2222222222222222,
           "#7201a8"
          ],
          [
           0.3333333333333333,
           "#9c179e"
          ],
          [
           0.4444444444444444,
           "#bd3786"
          ],
          [
           0.5555555555555556,
           "#d8576b"
          ],
          [
           0.6666666666666666,
           "#ed7953"
          ],
          [
           0.7777777777777778,
           "#fb9f3a"
          ],
          [
           0.8888888888888888,
           "#fdca26"
          ],
          [
           1,
           "#f0f921"
          ]
         ]
        },
        "legend": {
         "itemsizing": "constant",
         "tracegroupgap": 0
        },
        "margin": {
         "t": 60
        },
        "template": {
         "data": {
          "bar": [
           {
            "error_x": {
             "color": "#2a3f5f"
            },
            "error_y": {
             "color": "#2a3f5f"
            },
            "marker": {
             "line": {
              "color": "#E5ECF6",
              "width": 0.5
             },
             "pattern": {
              "fillmode": "overlay",
              "size": 10,
              "solidity": 0.2
             }
            },
            "type": "bar"
           }
          ],
          "barpolar": [
           {
            "marker": {
             "line": {
              "color": "#E5ECF6",
              "width": 0.5
             },
             "pattern": {
              "fillmode": "overlay",
              "size": 10,
              "solidity": 0.2
             }
            },
            "type": "barpolar"
           }
          ],
          "carpet": [
           {
            "aaxis": {
             "endlinecolor": "#2a3f5f",
             "gridcolor": "white",
             "linecolor": "white",
             "minorgridcolor": "white",
             "startlinecolor": "#2a3f5f"
            },
            "baxis": {
             "endlinecolor": "#2a3f5f",
             "gridcolor": "white",
             "linecolor": "white",
             "minorgridcolor": "white",
             "startlinecolor": "#2a3f5f"
            },
            "type": "carpet"
           }
          ],
          "choropleth": [
           {
            "colorbar": {
             "outlinewidth": 0,
             "ticks": ""
            },
            "type": "choropleth"
           }
          ],
          "contour": [
           {
            "colorbar": {
             "outlinewidth": 0,
             "ticks": ""
            },
            "colorscale": [
             [
              0,
              "#0d0887"
             ],
             [
              0.1111111111111111,
              "#46039f"
             ],
             [
              0.2222222222222222,
              "#7201a8"
             ],
             [
              0.3333333333333333,
              "#9c179e"
             ],
             [
              0.4444444444444444,
              "#bd3786"
             ],
             [
              0.5555555555555556,
              "#d8576b"
             ],
             [
              0.6666666666666666,
              "#ed7953"
             ],
             [
              0.7777777777777778,
              "#fb9f3a"
             ],
             [
              0.8888888888888888,
              "#fdca26"
             ],
             [
              1,
              "#f0f921"
             ]
            ],
            "type": "contour"
           }
          ],
          "contourcarpet": [
           {
            "colorbar": {
             "outlinewidth": 0,
             "ticks": ""
            },
            "type": "contourcarpet"
           }
          ],
          "heatmap": [
           {
            "colorbar": {
             "outlinewidth": 0,
             "ticks": ""
            },
            "colorscale": [
             [
              0,
              "#0d0887"
             ],
             [
              0.1111111111111111,
              "#46039f"
             ],
             [
              0.2222222222222222,
              "#7201a8"
             ],
             [
              0.3333333333333333,
              "#9c179e"
             ],
             [
              0.4444444444444444,
              "#bd3786"
             ],
             [
              0.5555555555555556,
              "#d8576b"
             ],
             [
              0.6666666666666666,
              "#ed7953"
             ],
             [
              0.7777777777777778,
              "#fb9f3a"
             ],
             [
              0.8888888888888888,
              "#fdca26"
             ],
             [
              1,
              "#f0f921"
             ]
            ],
            "type": "heatmap"
           }
          ],
          "heatmapgl": [
           {
            "colorbar": {
             "outlinewidth": 0,
             "ticks": ""
            },
            "colorscale": [
             [
              0,
              "#0d0887"
             ],
             [
              0.1111111111111111,
              "#46039f"
             ],
             [
              0.2222222222222222,
              "#7201a8"
             ],
             [
              0.3333333333333333,
              "#9c179e"
             ],
             [
              0.4444444444444444,
              "#bd3786"
             ],
             [
              0.5555555555555556,
              "#d8576b"
             ],
             [
              0.6666666666666666,
              "#ed7953"
             ],
             [
              0.7777777777777778,
              "#fb9f3a"
             ],
             [
              0.8888888888888888,
              "#fdca26"
             ],
             [
              1,
              "#f0f921"
             ]
            ],
            "type": "heatmapgl"
           }
          ],
          "histogram": [
           {
            "marker": {
             "pattern": {
              "fillmode": "overlay",
              "size": 10,
              "solidity": 0.2
             }
            },
            "type": "histogram"
           }
          ],
          "histogram2d": [
           {
            "colorbar": {
             "outlinewidth": 0,
             "ticks": ""
            },
            "colorscale": [
             [
              0,
              "#0d0887"
             ],
             [
              0.1111111111111111,
              "#46039f"
             ],
             [
              0.2222222222222222,
              "#7201a8"
             ],
             [
              0.3333333333333333,
              "#9c179e"
             ],
             [
              0.4444444444444444,
              "#bd3786"
             ],
             [
              0.5555555555555556,
              "#d8576b"
             ],
             [
              0.6666666666666666,
              "#ed7953"
             ],
             [
              0.7777777777777778,
              "#fb9f3a"
             ],
             [
              0.8888888888888888,
              "#fdca26"
             ],
             [
              1,
              "#f0f921"
             ]
            ],
            "type": "histogram2d"
           }
          ],
          "histogram2dcontour": [
           {
            "colorbar": {
             "outlinewidth": 0,
             "ticks": ""
            },
            "colorscale": [
             [
              0,
              "#0d0887"
             ],
             [
              0.1111111111111111,
              "#46039f"
             ],
             [
              0.2222222222222222,
              "#7201a8"
             ],
             [
              0.3333333333333333,
              "#9c179e"
             ],
             [
              0.4444444444444444,
              "#bd3786"
             ],
             [
              0.5555555555555556,
              "#d8576b"
             ],
             [
              0.6666666666666666,
              "#ed7953"
             ],
             [
              0.7777777777777778,
              "#fb9f3a"
             ],
             [
              0.8888888888888888,
              "#fdca26"
             ],
             [
              1,
              "#f0f921"
             ]
            ],
            "type": "histogram2dcontour"
           }
          ],
          "mesh3d": [
           {
            "colorbar": {
             "outlinewidth": 0,
             "ticks": ""
            },
            "type": "mesh3d"
           }
          ],
          "parcoords": [
           {
            "line": {
             "colorbar": {
              "outlinewidth": 0,
              "ticks": ""
             }
            },
            "type": "parcoords"
           }
          ],
          "pie": [
           {
            "automargin": true,
            "type": "pie"
           }
          ],
          "scatter": [
           {
            "marker": {
             "colorbar": {
              "outlinewidth": 0,
              "ticks": ""
             }
            },
            "type": "scatter"
           }
          ],
          "scatter3d": [
           {
            "line": {
             "colorbar": {
              "outlinewidth": 0,
              "ticks": ""
             }
            },
            "marker": {
             "colorbar": {
              "outlinewidth": 0,
              "ticks": ""
             }
            },
            "type": "scatter3d"
           }
          ],
          "scattercarpet": [
           {
            "marker": {
             "colorbar": {
              "outlinewidth": 0,
              "ticks": ""
             }
            },
            "type": "scattercarpet"
           }
          ],
          "scattergeo": [
           {
            "marker": {
             "colorbar": {
              "outlinewidth": 0,
              "ticks": ""
             }
            },
            "type": "scattergeo"
           }
          ],
          "scattergl": [
           {
            "marker": {
             "colorbar": {
              "outlinewidth": 0,
              "ticks": ""
             }
            },
            "type": "scattergl"
           }
          ],
          "scattermapbox": [
           {
            "marker": {
             "colorbar": {
              "outlinewidth": 0,
              "ticks": ""
             }
            },
            "type": "scattermapbox"
           }
          ],
          "scatterpolar": [
           {
            "marker": {
             "colorbar": {
              "outlinewidth": 0,
              "ticks": ""
             }
            },
            "type": "scatterpolar"
           }
          ],
          "scatterpolargl": [
           {
            "marker": {
             "colorbar": {
              "outlinewidth": 0,
              "ticks": ""
             }
            },
            "type": "scatterpolargl"
           }
          ],
          "scatterternary": [
           {
            "marker": {
             "colorbar": {
              "outlinewidth": 0,
              "ticks": ""
             }
            },
            "type": "scatterternary"
           }
          ],
          "surface": [
           {
            "colorbar": {
             "outlinewidth": 0,
             "ticks": ""
            },
            "colorscale": [
             [
              0,
              "#0d0887"
             ],
             [
              0.1111111111111111,
              "#46039f"
             ],
             [
              0.2222222222222222,
              "#7201a8"
             ],
             [
              0.3333333333333333,
              "#9c179e"
             ],
             [
              0.4444444444444444,
              "#bd3786"
             ],
             [
              0.5555555555555556,
              "#d8576b"
             ],
             [
              0.6666666666666666,
              "#ed7953"
             ],
             [
              0.7777777777777778,
              "#fb9f3a"
             ],
             [
              0.8888888888888888,
              "#fdca26"
             ],
             [
              1,
              "#f0f921"
             ]
            ],
            "type": "surface"
           }
          ],
          "table": [
           {
            "cells": {
             "fill": {
              "color": "#EBF0F8"
             },
             "line": {
              "color": "white"
             }
            },
            "header": {
             "fill": {
              "color": "#C8D4E3"
             },
             "line": {
              "color": "white"
             }
            },
            "type": "table"
           }
          ]
         },
         "layout": {
          "annotationdefaults": {
           "arrowcolor": "#2a3f5f",
           "arrowhead": 0,
           "arrowwidth": 1
          },
          "autotypenumbers": "strict",
          "coloraxis": {
           "colorbar": {
            "outlinewidth": 0,
            "ticks": ""
           }
          },
          "colorscale": {
           "diverging": [
            [
             0,
             "#8e0152"
            ],
            [
             0.1,
             "#c51b7d"
            ],
            [
             0.2,
             "#de77ae"
            ],
            [
             0.3,
             "#f1b6da"
            ],
            [
             0.4,
             "#fde0ef"
            ],
            [
             0.5,
             "#f7f7f7"
            ],
            [
             0.6,
             "#e6f5d0"
            ],
            [
             0.7,
             "#b8e186"
            ],
            [
             0.8,
             "#7fbc41"
            ],
            [
             0.9,
             "#4d9221"
            ],
            [
             1,
             "#276419"
            ]
           ],
           "sequential": [
            [
             0,
             "#0d0887"
            ],
            [
             0.1111111111111111,
             "#46039f"
            ],
            [
             0.2222222222222222,
             "#7201a8"
            ],
            [
             0.3333333333333333,
             "#9c179e"
            ],
            [
             0.4444444444444444,
             "#bd3786"
            ],
            [
             0.5555555555555556,
             "#d8576b"
            ],
            [
             0.6666666666666666,
             "#ed7953"
            ],
            [
             0.7777777777777778,
             "#fb9f3a"
            ],
            [
             0.8888888888888888,
             "#fdca26"
            ],
            [
             1,
             "#f0f921"
            ]
           ],
           "sequentialminus": [
            [
             0,
             "#0d0887"
            ],
            [
             0.1111111111111111,
             "#46039f"
            ],
            [
             0.2222222222222222,
             "#7201a8"
            ],
            [
             0.3333333333333333,
             "#9c179e"
            ],
            [
             0.4444444444444444,
             "#bd3786"
            ],
            [
             0.5555555555555556,
             "#d8576b"
            ],
            [
             0.6666666666666666,
             "#ed7953"
            ],
            [
             0.7777777777777778,
             "#fb9f3a"
            ],
            [
             0.8888888888888888,
             "#fdca26"
            ],
            [
             1,
             "#f0f921"
            ]
           ]
          },
          "colorway": [
           "#636efa",
           "#EF553B",
           "#00cc96",
           "#ab63fa",
           "#FFA15A",
           "#19d3f3",
           "#FF6692",
           "#B6E880",
           "#FF97FF",
           "#FECB52"
          ],
          "font": {
           "color": "#2a3f5f"
          },
          "geo": {
           "bgcolor": "white",
           "lakecolor": "white",
           "landcolor": "#E5ECF6",
           "showlakes": true,
           "showland": true,
           "subunitcolor": "white"
          },
          "hoverlabel": {
           "align": "left"
          },
          "hovermode": "closest",
          "mapbox": {
           "style": "light"
          },
          "paper_bgcolor": "white",
          "plot_bgcolor": "#E5ECF6",
          "polar": {
           "angularaxis": {
            "gridcolor": "white",
            "linecolor": "white",
            "ticks": ""
           },
           "bgcolor": "#E5ECF6",
           "radialaxis": {
            "gridcolor": "white",
            "linecolor": "white",
            "ticks": ""
           }
          },
          "scene": {
           "xaxis": {
            "backgroundcolor": "#E5ECF6",
            "gridcolor": "white",
            "gridwidth": 2,
            "linecolor": "white",
            "showbackground": true,
            "ticks": "",
            "zerolinecolor": "white"
           },
           "yaxis": {
            "backgroundcolor": "#E5ECF6",
            "gridcolor": "white",
            "gridwidth": 2,
            "linecolor": "white",
            "showbackground": true,
            "ticks": "",
            "zerolinecolor": "white"
           },
           "zaxis": {
            "backgroundcolor": "#E5ECF6",
            "gridcolor": "white",
            "gridwidth": 2,
            "linecolor": "white",
            "showbackground": true,
            "ticks": "",
            "zerolinecolor": "white"
           }
          },
          "shapedefaults": {
           "line": {
            "color": "#2a3f5f"
           }
          },
          "ternary": {
           "aaxis": {
            "gridcolor": "white",
            "linecolor": "white",
            "ticks": ""
           },
           "baxis": {
            "gridcolor": "white",
            "linecolor": "white",
            "ticks": ""
           },
           "bgcolor": "#E5ECF6",
           "caxis": {
            "gridcolor": "white",
            "linecolor": "white",
            "ticks": ""
           }
          },
          "title": {
           "x": 0.05
          },
          "xaxis": {
           "automargin": true,
           "gridcolor": "white",
           "linecolor": "white",
           "ticks": "",
           "title": {
            "standoff": 15
           },
           "zerolinecolor": "white",
           "zerolinewidth": 2
          },
          "yaxis": {
           "automargin": true,
           "gridcolor": "white",
           "linecolor": "white",
           "ticks": "",
           "title": {
            "standoff": 15
           },
           "zerolinecolor": "white",
           "zerolinewidth": 2
          }
         }
        },
        "xaxis": {
         "anchor": "y",
         "domain": [
          0,
          1
         ],
         "title": {
          "text": "x"
         }
        },
        "yaxis": {
         "anchor": "x",
         "domain": [
          0,
          1
         ],
         "title": {
          "text": "y"
         }
        }
       }
      },
      "text/html": [
       "<div>                            <div id=\"3a270fbd-1fd9-43b1-892a-ff0626668c77\" class=\"plotly-graph-div\" style=\"height:525px; width:100%;\"></div>            <script type=\"text/javascript\">                require([\"plotly\"], function(Plotly) {                    window.PLOTLYENV=window.PLOTLYENV || {};                                    if (document.getElementById(\"3a270fbd-1fd9-43b1-892a-ff0626668c77\")) {                    Plotly.newPlot(                        \"3a270fbd-1fd9-43b1-892a-ff0626668c77\",                        [{\"hovertemplate\":\"x=%{x}<br>y=%{y}<br>size=%{marker.size}<br>color=%{marker.color}<extra></extra>\",\"legendgroup\":\"\",\"marker\":{\"color\":[1,3,2,2,1,1,2,1,1,1,1,1,1,1,2,1,2,12,1,1,6,2,2,1,1,1,1,1,1,1,1,2,1,1,2,2,1,1,23,1,1,1,1,1,1,1,1,3,1,1,1,1,1,1,2,1,2,2,2,1,1,1,1,2,1,1,2,1,1,1,1,1,2,1,1,1,1,1,2,2,1,2,1,2,1,2,3,1,1,7,1,1,1,1,1,6,2,1,1,2,2,1,2,1,1,1,1,1,5,1,1,1,1,1,1,1,5,9,1,1,1,1,1,1,3,1,1,1,1,1,2,3,3,1,1,1,1,5,1,2],\"coloraxis\":\"coloraxis\",\"size\":[1,3,2,2,1,1,2,1,1,1,1,1,1,1,2,1,2,12,1,1,6,2,2,1,1,1,1,1,1,1,1,2,1,1,2,2,1,1,23,1,1,1,1,1,1,1,1,3,1,1,1,1,1,1,2,1,2,2,2,1,1,1,1,2,1,1,2,1,1,1,1,1,2,1,1,1,1,1,2,2,1,2,1,2,1,2,3,1,1,7,1,1,1,1,1,6,2,1,1,2,2,1,2,1,1,1,1,1,5,1,1,1,1,1,1,1,5,9,1,1,1,1,1,1,3,1,1,1,1,1,2,3,3,1,1,1,1,5,1,2],\"sizemode\":\"area\",\"sizeref\":0.0575,\"symbol\":\"circle\"},\"mode\":\"markers\",\"name\":\"\",\"orientation\":\"h\",\"showlegend\":false,\"x\":[1,3,2,2,1,1,2,1,1,1,1,1,1,1,2,1,2,12,1,1,6,2,2,1,1,1,1,1,1,1,1,2,1,1,2,2,1,1,23,1,1,1,1,1,1,1,1,3,1,1,1,1,1,1,2,1,2,2,2,1,1,1,1,2,1,1,2,1,1,1,1,1,2,1,1,1,1,1,2,2,1,2,1,2,1,2,3,1,1,7,1,1,1,1,1,6,2,1,1,2,2,1,2,1,1,1,1,1,5,1,1,1,1,1,1,1,5,9,1,1,1,1,1,1,3,1,1,1,1,1,2,3,3,1,1,1,1,5,1,2],\"xaxis\":\"x\",\"y\":[\"Softec Technologies\",\"Etisalat Misr\",\"Tahaluf Al Emarat Technical Solutions\",\"Easy System\",\"iSchool\",\"Hakaya\",\"Atomica\",\"TMentors\",\"AFKAR Technology\",\"ManEx Systems\",\"LxT\",\"360Imaging\",\"Gemssy Technologies S.L.\",\"Edu-Zone\",\"skora tech\",\"Confidential Company -\\u00a0\",\"Trufla\",\"Evolvice GmbH\",\"Nana\",\"beetleware\",\"ITS \",\"Fingerprint consultancy\",\"RDI\",\"GS1\",\"NaTakallam\",\"Beyond Apps Group\",\"Talents Arena\",\"34ML\",\"Tech SquAd\",\"Corporatica\",\"Arma Foods \",\"Allianz\",\"Aman Holding\",\"Dough and More Food Industries\",\"OPPO Egypt \",\"B.TECH\",\"Jazeera Paints\",\"Gap Polymers \",\"Sun Pharma\",\"BI-Technologies\",\"Careery For Talent Services \",\"Qsource\",\"Anasia Egypt for Trading\",\"M\\u00b2 Developments\",\"Z2 Data\",\"JoviTronix \",\"Andalusia Maadi Hospital \",\"Sykes Enterprises\",\"Alrayda Elkobra\",\"Caelum Egypt\",\"Fatura \",\"Cairoscan\",\"Icity\",\"FlairsTech\",\"Cairo Three A  for Agricultural and Animal Production\",\"World Vest Base (WVB )\",\"Xceed\",\"World of systems and software\",\"Paymob Solutions\",\"System Technique\",\"Catalogz Technology\",\"Ashtar.app\",\"Raya Customer Experience\",\"Rasan\",\"Gulf United Group\",\"Adm-Medsofts\",\"Veripark\",\"Cilantro\",\"Nile Projects & Trading\",\"e-finance\",\"BBI-Consultancy\",\"Perfect Presentation\",\"Contact\",\"prosylab\",\"Pylon UMP\",\"M.Srour\",\"Mobica\",\"Chefaa IT\",\"Alhokair Fashion Retail\",\"IMS\",\"OSN\",\"Mobile Wave 3\",\"Transmar International \",\"Zeina Group\",\"Maxab\",\"Shiny White Dental Center \",\"Chitosan.egypt\",\"Andela\",\"Worex\",\"SSC Egypt\",\"Click ITS\",\"Fixed Solutions\",\"Grafene Consulting\",\"KnowledgeNet\",\"Expleo\",\"Petrological Integrated Solutions\",\"Egybell\",\"Wadi Degla Trading \",\"Sahab Smart Solutions\",\"MB for Engineering\",\"Capital IT\",\"LEONI Wiring System Egypt S.A.E\",\"Network International -Egypt\",\"Elsewedy industries\",\"Autsera Limited\",\"Ibn Sina Pharma\",\"Elattal Holding \",\"EGID company\",\"Floortec\",\"Al Rabat\",\"Beyond Solution\",\"Global Medical Solutions International \",\"Al Amin Technological Systems\",\"Stratoil Energy Services\",\"Sega_m\",\"ICON Holding\",\"Redcon Spain\",\"Tanta Motors \",\"Caduceus Lane\",\"Micro Engineering\",\" Si-Vision\",\"Egyptian Engineering Company\",\"egabi solutions\",\"Talent 360\",\"Target Recruitment  & HR Solutions \",\"EGYTRAFO\",\"Solera\",\"URANIUM\",\"Dreem Mashreq Foods \",\"Block Gemini\",\"Brainology\",\"Construction & Design Co. SAE\",\"Midea Egypt\",\"Kick Start Interactive\",\"Lines Dev\",\"BlinkApp\",\"Advansys ESC\",\"Nile University\",\"Standout Solutions\",\"Squadio\"],\"yaxis\":\"y\",\"type\":\"scatter\"}],                        {\"template\":{\"data\":{\"bar\":[{\"error_x\":{\"color\":\"#2a3f5f\"},\"error_y\":{\"color\":\"#2a3f5f\"},\"marker\":{\"line\":{\"color\":\"#E5ECF6\",\"width\":0.5},\"pattern\":{\"fillmode\":\"overlay\",\"size\":10,\"solidity\":0.2}},\"type\":\"bar\"}],\"barpolar\":[{\"marker\":{\"line\":{\"color\":\"#E5ECF6\",\"width\":0.5},\"pattern\":{\"fillmode\":\"overlay\",\"size\":10,\"solidity\":0.2}},\"type\":\"barpolar\"}],\"carpet\":[{\"aaxis\":{\"endlinecolor\":\"#2a3f5f\",\"gridcolor\":\"white\",\"linecolor\":\"white\",\"minorgridcolor\":\"white\",\"startlinecolor\":\"#2a3f5f\"},\"baxis\":{\"endlinecolor\":\"#2a3f5f\",\"gridcolor\":\"white\",\"linecolor\":\"white\",\"minorgridcolor\":\"white\",\"startlinecolor\":\"#2a3f5f\"},\"type\":\"carpet\"}],\"choropleth\":[{\"colorbar\":{\"outlinewidth\":0,\"ticks\":\"\"},\"type\":\"choropleth\"}],\"contour\":[{\"colorbar\":{\"outlinewidth\":0,\"ticks\":\"\"},\"colorscale\":[[0.0,\"#0d0887\"],[0.1111111111111111,\"#46039f\"],[0.2222222222222222,\"#7201a8\"],[0.3333333333333333,\"#9c179e\"],[0.4444444444444444,\"#bd3786\"],[0.5555555555555556,\"#d8576b\"],[0.6666666666666666,\"#ed7953\"],[0.7777777777777778,\"#fb9f3a\"],[0.8888888888888888,\"#fdca26\"],[1.0,\"#f0f921\"]],\"type\":\"contour\"}],\"contourcarpet\":[{\"colorbar\":{\"outlinewidth\":0,\"ticks\":\"\"},\"type\":\"contourcarpet\"}],\"heatmap\":[{\"colorbar\":{\"outlinewidth\":0,\"ticks\":\"\"},\"colorscale\":[[0.0,\"#0d0887\"],[0.1111111111111111,\"#46039f\"],[0.2222222222222222,\"#7201a8\"],[0.3333333333333333,\"#9c179e\"],[0.4444444444444444,\"#bd3786\"],[0.5555555555555556,\"#d8576b\"],[0.6666666666666666,\"#ed7953\"],[0.7777777777777778,\"#fb9f3a\"],[0.8888888888888888,\"#fdca26\"],[1.0,\"#f0f921\"]],\"type\":\"heatmap\"}],\"heatmapgl\":[{\"colorbar\":{\"outlinewidth\":0,\"ticks\":\"\"},\"colorscale\":[[0.0,\"#0d0887\"],[0.1111111111111111,\"#46039f\"],[0.2222222222222222,\"#7201a8\"],[0.3333333333333333,\"#9c179e\"],[0.4444444444444444,\"#bd3786\"],[0.5555555555555556,\"#d8576b\"],[0.6666666666666666,\"#ed7953\"],[0.7777777777777778,\"#fb9f3a\"],[0.8888888888888888,\"#fdca26\"],[1.0,\"#f0f921\"]],\"type\":\"heatmapgl\"}],\"histogram\":[{\"marker\":{\"pattern\":{\"fillmode\":\"overlay\",\"size\":10,\"solidity\":0.2}},\"type\":\"histogram\"}],\"histogram2d\":[{\"colorbar\":{\"outlinewidth\":0,\"ticks\":\"\"},\"colorscale\":[[0.0,\"#0d0887\"],[0.1111111111111111,\"#46039f\"],[0.2222222222222222,\"#7201a8\"],[0.3333333333333333,\"#9c179e\"],[0.4444444444444444,\"#bd3786\"],[0.5555555555555556,\"#d8576b\"],[0.6666666666666666,\"#ed7953\"],[0.7777777777777778,\"#fb9f3a\"],[0.8888888888888888,\"#fdca26\"],[1.0,\"#f0f921\"]],\"type\":\"histogram2d\"}],\"histogram2dcontour\":[{\"colorbar\":{\"outlinewidth\":0,\"ticks\":\"\"},\"colorscale\":[[0.0,\"#0d0887\"],[0.1111111111111111,\"#46039f\"],[0.2222222222222222,\"#7201a8\"],[0.3333333333333333,\"#9c179e\"],[0.4444444444444444,\"#bd3786\"],[0.5555555555555556,\"#d8576b\"],[0.6666666666666666,\"#ed7953\"],[0.7777777777777778,\"#fb9f3a\"],[0.8888888888888888,\"#fdca26\"],[1.0,\"#f0f921\"]],\"type\":\"histogram2dcontour\"}],\"mesh3d\":[{\"colorbar\":{\"outlinewidth\":0,\"ticks\":\"\"},\"type\":\"mesh3d\"}],\"parcoords\":[{\"line\":{\"colorbar\":{\"outlinewidth\":0,\"ticks\":\"\"}},\"type\":\"parcoords\"}],\"pie\":[{\"automargin\":true,\"type\":\"pie\"}],\"scatter\":[{\"marker\":{\"colorbar\":{\"outlinewidth\":0,\"ticks\":\"\"}},\"type\":\"scatter\"}],\"scatter3d\":[{\"line\":{\"colorbar\":{\"outlinewidth\":0,\"ticks\":\"\"}},\"marker\":{\"colorbar\":{\"outlinewidth\":0,\"ticks\":\"\"}},\"type\":\"scatter3d\"}],\"scattercarpet\":[{\"marker\":{\"colorbar\":{\"outlinewidth\":0,\"ticks\":\"\"}},\"type\":\"scattercarpet\"}],\"scattergeo\":[{\"marker\":{\"colorbar\":{\"outlinewidth\":0,\"ticks\":\"\"}},\"type\":\"scattergeo\"}],\"scattergl\":[{\"marker\":{\"colorbar\":{\"outlinewidth\":0,\"ticks\":\"\"}},\"type\":\"scattergl\"}],\"scattermapbox\":[{\"marker\":{\"colorbar\":{\"outlinewidth\":0,\"ticks\":\"\"}},\"type\":\"scattermapbox\"}],\"scatterpolar\":[{\"marker\":{\"colorbar\":{\"outlinewidth\":0,\"ticks\":\"\"}},\"type\":\"scatterpolar\"}],\"scatterpolargl\":[{\"marker\":{\"colorbar\":{\"outlinewidth\":0,\"ticks\":\"\"}},\"type\":\"scatterpolargl\"}],\"scatterternary\":[{\"marker\":{\"colorbar\":{\"outlinewidth\":0,\"ticks\":\"\"}},\"type\":\"scatterternary\"}],\"surface\":[{\"colorbar\":{\"outlinewidth\":0,\"ticks\":\"\"},\"colorscale\":[[0.0,\"#0d0887\"],[0.1111111111111111,\"#46039f\"],[0.2222222222222222,\"#7201a8\"],[0.3333333333333333,\"#9c179e\"],[0.4444444444444444,\"#bd3786\"],[0.5555555555555556,\"#d8576b\"],[0.6666666666666666,\"#ed7953\"],[0.7777777777777778,\"#fb9f3a\"],[0.8888888888888888,\"#fdca26\"],[1.0,\"#f0f921\"]],\"type\":\"surface\"}],\"table\":[{\"cells\":{\"fill\":{\"color\":\"#EBF0F8\"},\"line\":{\"color\":\"white\"}},\"header\":{\"fill\":{\"color\":\"#C8D4E3\"},\"line\":{\"color\":\"white\"}},\"type\":\"table\"}]},\"layout\":{\"annotationdefaults\":{\"arrowcolor\":\"#2a3f5f\",\"arrowhead\":0,\"arrowwidth\":1},\"autotypenumbers\":\"strict\",\"coloraxis\":{\"colorbar\":{\"outlinewidth\":0,\"ticks\":\"\"}},\"colorscale\":{\"diverging\":[[0,\"#8e0152\"],[0.1,\"#c51b7d\"],[0.2,\"#de77ae\"],[0.3,\"#f1b6da\"],[0.4,\"#fde0ef\"],[0.5,\"#f7f7f7\"],[0.6,\"#e6f5d0\"],[0.7,\"#b8e186\"],[0.8,\"#7fbc41\"],[0.9,\"#4d9221\"],[1,\"#276419\"]],\"sequential\":[[0.0,\"#0d0887\"],[0.1111111111111111,\"#46039f\"],[0.2222222222222222,\"#7201a8\"],[0.3333333333333333,\"#9c179e\"],[0.4444444444444444,\"#bd3786\"],[0.5555555555555556,\"#d8576b\"],[0.6666666666666666,\"#ed7953\"],[0.7777777777777778,\"#fb9f3a\"],[0.8888888888888888,\"#fdca26\"],[1.0,\"#f0f921\"]],\"sequentialminus\":[[0.0,\"#0d0887\"],[0.1111111111111111,\"#46039f\"],[0.2222222222222222,\"#7201a8\"],[0.3333333333333333,\"#9c179e\"],[0.4444444444444444,\"#bd3786\"],[0.5555555555555556,\"#d8576b\"],[0.6666666666666666,\"#ed7953\"],[0.7777777777777778,\"#fb9f3a\"],[0.8888888888888888,\"#fdca26\"],[1.0,\"#f0f921\"]]},\"colorway\":[\"#636efa\",\"#EF553B\",\"#00cc96\",\"#ab63fa\",\"#FFA15A\",\"#19d3f3\",\"#FF6692\",\"#B6E880\",\"#FF97FF\",\"#FECB52\"],\"font\":{\"color\":\"#2a3f5f\"},\"geo\":{\"bgcolor\":\"white\",\"lakecolor\":\"white\",\"landcolor\":\"#E5ECF6\",\"showlakes\":true,\"showland\":true,\"subunitcolor\":\"white\"},\"hoverlabel\":{\"align\":\"left\"},\"hovermode\":\"closest\",\"mapbox\":{\"style\":\"light\"},\"paper_bgcolor\":\"white\",\"plot_bgcolor\":\"#E5ECF6\",\"polar\":{\"angularaxis\":{\"gridcolor\":\"white\",\"linecolor\":\"white\",\"ticks\":\"\"},\"bgcolor\":\"#E5ECF6\",\"radialaxis\":{\"gridcolor\":\"white\",\"linecolor\":\"white\",\"ticks\":\"\"}},\"scene\":{\"xaxis\":{\"backgroundcolor\":\"#E5ECF6\",\"gridcolor\":\"white\",\"gridwidth\":2,\"linecolor\":\"white\",\"showbackground\":true,\"ticks\":\"\",\"zerolinecolor\":\"white\"},\"yaxis\":{\"backgroundcolor\":\"#E5ECF6\",\"gridcolor\":\"white\",\"gridwidth\":2,\"linecolor\":\"white\",\"showbackground\":true,\"ticks\":\"\",\"zerolinecolor\":\"white\"},\"zaxis\":{\"backgroundcolor\":\"#E5ECF6\",\"gridcolor\":\"white\",\"gridwidth\":2,\"linecolor\":\"white\",\"showbackground\":true,\"ticks\":\"\",\"zerolinecolor\":\"white\"}},\"shapedefaults\":{\"line\":{\"color\":\"#2a3f5f\"}},\"ternary\":{\"aaxis\":{\"gridcolor\":\"white\",\"linecolor\":\"white\",\"ticks\":\"\"},\"baxis\":{\"gridcolor\":\"white\",\"linecolor\":\"white\",\"ticks\":\"\"},\"bgcolor\":\"#E5ECF6\",\"caxis\":{\"gridcolor\":\"white\",\"linecolor\":\"white\",\"ticks\":\"\"}},\"title\":{\"x\":0.05},\"xaxis\":{\"automargin\":true,\"gridcolor\":\"white\",\"linecolor\":\"white\",\"ticks\":\"\",\"title\":{\"standoff\":15},\"zerolinecolor\":\"white\",\"zerolinewidth\":2},\"yaxis\":{\"automargin\":true,\"gridcolor\":\"white\",\"linecolor\":\"white\",\"ticks\":\"\",\"title\":{\"standoff\":15},\"zerolinecolor\":\"white\",\"zerolinewidth\":2}}},\"xaxis\":{\"anchor\":\"y\",\"domain\":[0.0,1.0],\"title\":{\"text\":\"x\"}},\"yaxis\":{\"anchor\":\"x\",\"domain\":[0.0,1.0],\"title\":{\"text\":\"y\"}},\"coloraxis\":{\"colorbar\":{\"title\":{\"text\":\"color\"}},\"colorscale\":[[0.0,\"#0d0887\"],[0.1111111111111111,\"#46039f\"],[0.2222222222222222,\"#7201a8\"],[0.3333333333333333,\"#9c179e\"],[0.4444444444444444,\"#bd3786\"],[0.5555555555555556,\"#d8576b\"],[0.6666666666666666,\"#ed7953\"],[0.7777777777777778,\"#fb9f3a\"],[0.8888888888888888,\"#fdca26\"],[1.0,\"#f0f921\"]]},\"legend\":{\"tracegroupgap\":0,\"itemsizing\":\"constant\"},\"margin\":{\"t\":60}},                        {\"responsive\": true}                    ).then(function(){\n",
       "                            \n",
       "var gd = document.getElementById('3a270fbd-1fd9-43b1-892a-ff0626668c77');\n",
       "var x = new MutationObserver(function (mutations, observer) {{\n",
       "        var display = window.getComputedStyle(gd).display;\n",
       "        if (!display || display === 'none') {{\n",
       "            console.log([gd, 'removed!']);\n",
       "            Plotly.purge(gd);\n",
       "            observer.disconnect();\n",
       "        }}\n",
       "}});\n",
       "\n",
       "// Listen for the removal of the full notebook cells\n",
       "var notebookContainer = gd.closest('#notebook-container');\n",
       "if (notebookContainer) {{\n",
       "    x.observe(notebookContainer, {childList: true});\n",
       "}}\n",
       "\n",
       "// Listen for the clearing of the current output cell\n",
       "var outputEl = gd.closest('.output');\n",
       "if (outputEl) {{\n",
       "    x.observe(outputEl, {childList: true});\n",
       "}}\n",
       "\n",
       "                        })                };                });            </script>        </div>"
      ]
     },
     "metadata": {},
     "output_type": "display_data"
    }
   ],
   "source": [
    "px.scatter(y=Jobs_df['company'].unique() ,x= Jobs_df.groupby('company')['job title'].count() ,size= Jobs_df.groupby('company')['job title'].count(), color= Jobs_df.groupby('company')['job title'].count())"
   ]
  },
  {
   "cell_type": "code",
   "execution_count": 148,
   "id": "36387acc",
   "metadata": {},
   "outputs": [
    {
     "data": {
      "application/vnd.plotly.v1+json": {
       "config": {
        "plotlyServerURL": "https://plot.ly"
       },
       "data": [
        {
         "alignmentgroup": "True",
         "hovertemplate": "variable=job title<br>company=%{x}<br>value=%{y}<extra></extra>",
         "legendgroup": "job title",
         "marker": {
          "color": "#636efa",
          "pattern": {
           "shape": ""
          }
         },
         "name": "job title",
         "offsetgroup": "job title",
         "orientation": "v",
         "showlegend": true,
         "textposition": "auto",
         "type": "bar",
         "x": [
          " Si-Vision",
          "34ML",
          "360Imaging",
          "AFKAR Technology",
          "Adm-Medsofts",
          "Advansys ESC",
          "Al Amin Technological Systems",
          "Al Rabat",
          "Alhokair Fashion Retail",
          "Allianz",
          "Alrayda Elkobra",
          "Aman Holding",
          "Anasia Egypt for Trading",
          "Andalusia Maadi Hospital ",
          "Andela",
          "Arma Foods ",
          "Ashtar.app",
          "Atomica",
          "Autsera Limited",
          "B.TECH",
          "BBI-Consultancy",
          "BI-Technologies",
          "Beyond Apps Group",
          "Beyond Solution",
          "BlinkApp",
          "Block Gemini",
          "Brainology",
          "Caduceus Lane",
          "Caelum Egypt",
          "Cairo Three A  for Agricultural and Animal Production",
          "Cairoscan",
          "Capital IT",
          "Careery For Talent Services ",
          "Catalogz Technology",
          "Chefaa IT",
          "Chitosan.egypt",
          "Cilantro",
          "Click ITS",
          "Confidential Company - ",
          "Construction & Design Co. SAE",
          "Contact",
          "Corporatica",
          "Dough and More Food Industries",
          "Dreem Mashreq Foods ",
          "EGID company",
          "EGYTRAFO",
          "Easy System",
          "Edu-Zone",
          "Egybell",
          "Egyptian Engineering Company",
          "Elattal Holding ",
          "Elsewedy industries",
          "Etisalat Misr",
          "Evolvice GmbH",
          "Expleo",
          "Fatura ",
          "Fingerprint consultancy",
          "Fixed Solutions",
          "FlairsTech",
          "Floortec",
          "GS1",
          "Gap Polymers ",
          "Gemssy Technologies S.L.",
          "Global Medical Solutions International ",
          "Grafene Consulting",
          "Gulf United Group",
          "Hakaya",
          "ICON Holding",
          "IMS",
          "ITS ",
          "Ibn Sina Pharma",
          "Icity",
          "Jazeera Paints",
          "JoviTronix ",
          "Kick Start Interactive",
          "KnowledgeNet",
          "LEONI Wiring System Egypt S.A.E",
          "Lines Dev",
          "LxT",
          "M.Srour",
          "MB for Engineering",
          "ManEx Systems",
          "Maxab",
          "Micro Engineering",
          "Midea Egypt",
          "Mobica",
          "Mobile Wave 3",
          "M² Developments",
          "NaTakallam",
          "Nana",
          "Network International -Egypt",
          "Nile Projects & Trading",
          "Nile University",
          "OPPO Egypt ",
          "OSN",
          "Paymob Solutions",
          "Perfect Presentation",
          "Petrological Integrated Solutions",
          "Pylon UMP",
          "Qsource",
          "RDI",
          "Rasan",
          "Raya Customer Experience",
          "Redcon Spain",
          "SSC Egypt",
          "Sahab Smart Solutions",
          "Sega_m",
          "Shiny White Dental Center ",
          "Softec Technologies",
          "Solera",
          "Squadio",
          "Standout Solutions",
          "Stratoil Energy Services",
          "Sun Pharma",
          "Sykes Enterprises",
          "System Technique",
          "TMentors",
          "Tahaluf Al Emarat Technical Solutions",
          "Talent 360",
          "Talents Arena",
          "Tanta Motors ",
          "Target Recruitment  & HR Solutions ",
          "Tech SquAd",
          "Transmar International ",
          "Trufla",
          "URANIUM",
          "Veripark",
          "Wadi Degla Trading ",
          "Worex",
          "World Vest Base (WVB )",
          "World of systems and software",
          "Xceed",
          "Z2 Data",
          "Zeina Group",
          "beetleware",
          "e-finance",
          "egabi solutions",
          "iSchool",
          "prosylab",
          "skora tech"
         ],
         "xaxis": "x",
         "y": [
          1,
          3,
          2,
          2,
          1,
          1,
          2,
          1,
          1,
          1,
          1,
          1,
          1,
          1,
          2,
          1,
          2,
          12,
          1,
          1,
          6,
          2,
          2,
          1,
          1,
          1,
          1,
          1,
          1,
          1,
          1,
          2,
          1,
          1,
          2,
          2,
          1,
          1,
          23,
          1,
          1,
          1,
          1,
          1,
          1,
          1,
          1,
          3,
          1,
          1,
          1,
          1,
          1,
          1,
          2,
          1,
          2,
          2,
          2,
          1,
          1,
          1,
          1,
          2,
          1,
          1,
          2,
          1,
          1,
          1,
          1,
          1,
          2,
          1,
          1,
          1,
          1,
          1,
          2,
          2,
          1,
          2,
          1,
          2,
          1,
          2,
          3,
          1,
          1,
          7,
          1,
          1,
          1,
          1,
          1,
          6,
          2,
          1,
          1,
          2,
          2,
          1,
          2,
          1,
          1,
          1,
          1,
          1,
          5,
          1,
          1,
          1,
          1,
          1,
          1,
          1,
          5,
          9,
          1,
          1,
          1,
          1,
          1,
          1,
          3,
          1,
          1,
          1,
          1,
          1,
          2,
          3,
          3,
          1,
          1,
          1,
          1,
          5,
          1,
          2
         ],
         "yaxis": "y"
        }
       ],
       "layout": {
        "barmode": "relative",
        "legend": {
         "title": {
          "text": "variable"
         },
         "tracegroupgap": 0
        },
        "margin": {
         "t": 60
        },
        "template": {
         "data": {
          "bar": [
           {
            "error_x": {
             "color": "#2a3f5f"
            },
            "error_y": {
             "color": "#2a3f5f"
            },
            "marker": {
             "line": {
              "color": "#E5ECF6",
              "width": 0.5
             },
             "pattern": {
              "fillmode": "overlay",
              "size": 10,
              "solidity": 0.2
             }
            },
            "type": "bar"
           }
          ],
          "barpolar": [
           {
            "marker": {
             "line": {
              "color": "#E5ECF6",
              "width": 0.5
             },
             "pattern": {
              "fillmode": "overlay",
              "size": 10,
              "solidity": 0.2
             }
            },
            "type": "barpolar"
           }
          ],
          "carpet": [
           {
            "aaxis": {
             "endlinecolor": "#2a3f5f",
             "gridcolor": "white",
             "linecolor": "white",
             "minorgridcolor": "white",
             "startlinecolor": "#2a3f5f"
            },
            "baxis": {
             "endlinecolor": "#2a3f5f",
             "gridcolor": "white",
             "linecolor": "white",
             "minorgridcolor": "white",
             "startlinecolor": "#2a3f5f"
            },
            "type": "carpet"
           }
          ],
          "choropleth": [
           {
            "colorbar": {
             "outlinewidth": 0,
             "ticks": ""
            },
            "type": "choropleth"
           }
          ],
          "contour": [
           {
            "colorbar": {
             "outlinewidth": 0,
             "ticks": ""
            },
            "colorscale": [
             [
              0,
              "#0d0887"
             ],
             [
              0.1111111111111111,
              "#46039f"
             ],
             [
              0.2222222222222222,
              "#7201a8"
             ],
             [
              0.3333333333333333,
              "#9c179e"
             ],
             [
              0.4444444444444444,
              "#bd3786"
             ],
             [
              0.5555555555555556,
              "#d8576b"
             ],
             [
              0.6666666666666666,
              "#ed7953"
             ],
             [
              0.7777777777777778,
              "#fb9f3a"
             ],
             [
              0.8888888888888888,
              "#fdca26"
             ],
             [
              1,
              "#f0f921"
             ]
            ],
            "type": "contour"
           }
          ],
          "contourcarpet": [
           {
            "colorbar": {
             "outlinewidth": 0,
             "ticks": ""
            },
            "type": "contourcarpet"
           }
          ],
          "heatmap": [
           {
            "colorbar": {
             "outlinewidth": 0,
             "ticks": ""
            },
            "colorscale": [
             [
              0,
              "#0d0887"
             ],
             [
              0.1111111111111111,
              "#46039f"
             ],
             [
              0.2222222222222222,
              "#7201a8"
             ],
             [
              0.3333333333333333,
              "#9c179e"
             ],
             [
              0.4444444444444444,
              "#bd3786"
             ],
             [
              0.5555555555555556,
              "#d8576b"
             ],
             [
              0.6666666666666666,
              "#ed7953"
             ],
             [
              0.7777777777777778,
              "#fb9f3a"
             ],
             [
              0.8888888888888888,
              "#fdca26"
             ],
             [
              1,
              "#f0f921"
             ]
            ],
            "type": "heatmap"
           }
          ],
          "heatmapgl": [
           {
            "colorbar": {
             "outlinewidth": 0,
             "ticks": ""
            },
            "colorscale": [
             [
              0,
              "#0d0887"
             ],
             [
              0.1111111111111111,
              "#46039f"
             ],
             [
              0.2222222222222222,
              "#7201a8"
             ],
             [
              0.3333333333333333,
              "#9c179e"
             ],
             [
              0.4444444444444444,
              "#bd3786"
             ],
             [
              0.5555555555555556,
              "#d8576b"
             ],
             [
              0.6666666666666666,
              "#ed7953"
             ],
             [
              0.7777777777777778,
              "#fb9f3a"
             ],
             [
              0.8888888888888888,
              "#fdca26"
             ],
             [
              1,
              "#f0f921"
             ]
            ],
            "type": "heatmapgl"
           }
          ],
          "histogram": [
           {
            "marker": {
             "pattern": {
              "fillmode": "overlay",
              "size": 10,
              "solidity": 0.2
             }
            },
            "type": "histogram"
           }
          ],
          "histogram2d": [
           {
            "colorbar": {
             "outlinewidth": 0,
             "ticks": ""
            },
            "colorscale": [
             [
              0,
              "#0d0887"
             ],
             [
              0.1111111111111111,
              "#46039f"
             ],
             [
              0.2222222222222222,
              "#7201a8"
             ],
             [
              0.3333333333333333,
              "#9c179e"
             ],
             [
              0.4444444444444444,
              "#bd3786"
             ],
             [
              0.5555555555555556,
              "#d8576b"
             ],
             [
              0.6666666666666666,
              "#ed7953"
             ],
             [
              0.7777777777777778,
              "#fb9f3a"
             ],
             [
              0.8888888888888888,
              "#fdca26"
             ],
             [
              1,
              "#f0f921"
             ]
            ],
            "type": "histogram2d"
           }
          ],
          "histogram2dcontour": [
           {
            "colorbar": {
             "outlinewidth": 0,
             "ticks": ""
            },
            "colorscale": [
             [
              0,
              "#0d0887"
             ],
             [
              0.1111111111111111,
              "#46039f"
             ],
             [
              0.2222222222222222,
              "#7201a8"
             ],
             [
              0.3333333333333333,
              "#9c179e"
             ],
             [
              0.4444444444444444,
              "#bd3786"
             ],
             [
              0.5555555555555556,
              "#d8576b"
             ],
             [
              0.6666666666666666,
              "#ed7953"
             ],
             [
              0.7777777777777778,
              "#fb9f3a"
             ],
             [
              0.8888888888888888,
              "#fdca26"
             ],
             [
              1,
              "#f0f921"
             ]
            ],
            "type": "histogram2dcontour"
           }
          ],
          "mesh3d": [
           {
            "colorbar": {
             "outlinewidth": 0,
             "ticks": ""
            },
            "type": "mesh3d"
           }
          ],
          "parcoords": [
           {
            "line": {
             "colorbar": {
              "outlinewidth": 0,
              "ticks": ""
             }
            },
            "type": "parcoords"
           }
          ],
          "pie": [
           {
            "automargin": true,
            "type": "pie"
           }
          ],
          "scatter": [
           {
            "marker": {
             "colorbar": {
              "outlinewidth": 0,
              "ticks": ""
             }
            },
            "type": "scatter"
           }
          ],
          "scatter3d": [
           {
            "line": {
             "colorbar": {
              "outlinewidth": 0,
              "ticks": ""
             }
            },
            "marker": {
             "colorbar": {
              "outlinewidth": 0,
              "ticks": ""
             }
            },
            "type": "scatter3d"
           }
          ],
          "scattercarpet": [
           {
            "marker": {
             "colorbar": {
              "outlinewidth": 0,
              "ticks": ""
             }
            },
            "type": "scattercarpet"
           }
          ],
          "scattergeo": [
           {
            "marker": {
             "colorbar": {
              "outlinewidth": 0,
              "ticks": ""
             }
            },
            "type": "scattergeo"
           }
          ],
          "scattergl": [
           {
            "marker": {
             "colorbar": {
              "outlinewidth": 0,
              "ticks": ""
             }
            },
            "type": "scattergl"
           }
          ],
          "scattermapbox": [
           {
            "marker": {
             "colorbar": {
              "outlinewidth": 0,
              "ticks": ""
             }
            },
            "type": "scattermapbox"
           }
          ],
          "scatterpolar": [
           {
            "marker": {
             "colorbar": {
              "outlinewidth": 0,
              "ticks": ""
             }
            },
            "type": "scatterpolar"
           }
          ],
          "scatterpolargl": [
           {
            "marker": {
             "colorbar": {
              "outlinewidth": 0,
              "ticks": ""
             }
            },
            "type": "scatterpolargl"
           }
          ],
          "scatterternary": [
           {
            "marker": {
             "colorbar": {
              "outlinewidth": 0,
              "ticks": ""
             }
            },
            "type": "scatterternary"
           }
          ],
          "surface": [
           {
            "colorbar": {
             "outlinewidth": 0,
             "ticks": ""
            },
            "colorscale": [
             [
              0,
              "#0d0887"
             ],
             [
              0.1111111111111111,
              "#46039f"
             ],
             [
              0.2222222222222222,
              "#7201a8"
             ],
             [
              0.3333333333333333,
              "#9c179e"
             ],
             [
              0.4444444444444444,
              "#bd3786"
             ],
             [
              0.5555555555555556,
              "#d8576b"
             ],
             [
              0.6666666666666666,
              "#ed7953"
             ],
             [
              0.7777777777777778,
              "#fb9f3a"
             ],
             [
              0.8888888888888888,
              "#fdca26"
             ],
             [
              1,
              "#f0f921"
             ]
            ],
            "type": "surface"
           }
          ],
          "table": [
           {
            "cells": {
             "fill": {
              "color": "#EBF0F8"
             },
             "line": {
              "color": "white"
             }
            },
            "header": {
             "fill": {
              "color": "#C8D4E3"
             },
             "line": {
              "color": "white"
             }
            },
            "type": "table"
           }
          ]
         },
         "layout": {
          "annotationdefaults": {
           "arrowcolor": "#2a3f5f",
           "arrowhead": 0,
           "arrowwidth": 1
          },
          "autotypenumbers": "strict",
          "coloraxis": {
           "colorbar": {
            "outlinewidth": 0,
            "ticks": ""
           }
          },
          "colorscale": {
           "diverging": [
            [
             0,
             "#8e0152"
            ],
            [
             0.1,
             "#c51b7d"
            ],
            [
             0.2,
             "#de77ae"
            ],
            [
             0.3,
             "#f1b6da"
            ],
            [
             0.4,
             "#fde0ef"
            ],
            [
             0.5,
             "#f7f7f7"
            ],
            [
             0.6,
             "#e6f5d0"
            ],
            [
             0.7,
             "#b8e186"
            ],
            [
             0.8,
             "#7fbc41"
            ],
            [
             0.9,
             "#4d9221"
            ],
            [
             1,
             "#276419"
            ]
           ],
           "sequential": [
            [
             0,
             "#0d0887"
            ],
            [
             0.1111111111111111,
             "#46039f"
            ],
            [
             0.2222222222222222,
             "#7201a8"
            ],
            [
             0.3333333333333333,
             "#9c179e"
            ],
            [
             0.4444444444444444,
             "#bd3786"
            ],
            [
             0.5555555555555556,
             "#d8576b"
            ],
            [
             0.6666666666666666,
             "#ed7953"
            ],
            [
             0.7777777777777778,
             "#fb9f3a"
            ],
            [
             0.8888888888888888,
             "#fdca26"
            ],
            [
             1,
             "#f0f921"
            ]
           ],
           "sequentialminus": [
            [
             0,
             "#0d0887"
            ],
            [
             0.1111111111111111,
             "#46039f"
            ],
            [
             0.2222222222222222,
             "#7201a8"
            ],
            [
             0.3333333333333333,
             "#9c179e"
            ],
            [
             0.4444444444444444,
             "#bd3786"
            ],
            [
             0.5555555555555556,
             "#d8576b"
            ],
            [
             0.6666666666666666,
             "#ed7953"
            ],
            [
             0.7777777777777778,
             "#fb9f3a"
            ],
            [
             0.8888888888888888,
             "#fdca26"
            ],
            [
             1,
             "#f0f921"
            ]
           ]
          },
          "colorway": [
           "#636efa",
           "#EF553B",
           "#00cc96",
           "#ab63fa",
           "#FFA15A",
           "#19d3f3",
           "#FF6692",
           "#B6E880",
           "#FF97FF",
           "#FECB52"
          ],
          "font": {
           "color": "#2a3f5f"
          },
          "geo": {
           "bgcolor": "white",
           "lakecolor": "white",
           "landcolor": "#E5ECF6",
           "showlakes": true,
           "showland": true,
           "subunitcolor": "white"
          },
          "hoverlabel": {
           "align": "left"
          },
          "hovermode": "closest",
          "mapbox": {
           "style": "light"
          },
          "paper_bgcolor": "white",
          "plot_bgcolor": "#E5ECF6",
          "polar": {
           "angularaxis": {
            "gridcolor": "white",
            "linecolor": "white",
            "ticks": ""
           },
           "bgcolor": "#E5ECF6",
           "radialaxis": {
            "gridcolor": "white",
            "linecolor": "white",
            "ticks": ""
           }
          },
          "scene": {
           "xaxis": {
            "backgroundcolor": "#E5ECF6",
            "gridcolor": "white",
            "gridwidth": 2,
            "linecolor": "white",
            "showbackground": true,
            "ticks": "",
            "zerolinecolor": "white"
           },
           "yaxis": {
            "backgroundcolor": "#E5ECF6",
            "gridcolor": "white",
            "gridwidth": 2,
            "linecolor": "white",
            "showbackground": true,
            "ticks": "",
            "zerolinecolor": "white"
           },
           "zaxis": {
            "backgroundcolor": "#E5ECF6",
            "gridcolor": "white",
            "gridwidth": 2,
            "linecolor": "white",
            "showbackground": true,
            "ticks": "",
            "zerolinecolor": "white"
           }
          },
          "shapedefaults": {
           "line": {
            "color": "#2a3f5f"
           }
          },
          "ternary": {
           "aaxis": {
            "gridcolor": "white",
            "linecolor": "white",
            "ticks": ""
           },
           "baxis": {
            "gridcolor": "white",
            "linecolor": "white",
            "ticks": ""
           },
           "bgcolor": "#E5ECF6",
           "caxis": {
            "gridcolor": "white",
            "linecolor": "white",
            "ticks": ""
           }
          },
          "title": {
           "x": 0.05
          },
          "xaxis": {
           "automargin": true,
           "gridcolor": "white",
           "linecolor": "white",
           "ticks": "",
           "title": {
            "standoff": 15
           },
           "zerolinecolor": "white",
           "zerolinewidth": 2
          },
          "yaxis": {
           "automargin": true,
           "gridcolor": "white",
           "linecolor": "white",
           "ticks": "",
           "title": {
            "standoff": 15
           },
           "zerolinecolor": "white",
           "zerolinewidth": 2
          }
         }
        },
        "xaxis": {
         "anchor": "y",
         "domain": [
          0,
          1
         ],
         "title": {
          "text": "company"
         }
        },
        "yaxis": {
         "anchor": "x",
         "domain": [
          0,
          1
         ],
         "title": {
          "text": "value"
         }
        }
       }
      },
      "text/html": [
       "<div>                            <div id=\"d171af9d-a077-4be1-b1ee-70bd031df879\" class=\"plotly-graph-div\" style=\"height:525px; width:100%;\"></div>            <script type=\"text/javascript\">                require([\"plotly\"], function(Plotly) {                    window.PLOTLYENV=window.PLOTLYENV || {};                                    if (document.getElementById(\"d171af9d-a077-4be1-b1ee-70bd031df879\")) {                    Plotly.newPlot(                        \"d171af9d-a077-4be1-b1ee-70bd031df879\",                        [{\"alignmentgroup\":\"True\",\"hovertemplate\":\"variable=job title<br>company=%{x}<br>value=%{y}<extra></extra>\",\"legendgroup\":\"job title\",\"marker\":{\"color\":\"#636efa\",\"pattern\":{\"shape\":\"\"}},\"name\":\"job title\",\"offsetgroup\":\"job title\",\"orientation\":\"v\",\"showlegend\":true,\"textposition\":\"auto\",\"x\":[\" Si-Vision\",\"34ML\",\"360Imaging\",\"AFKAR Technology\",\"Adm-Medsofts\",\"Advansys ESC\",\"Al Amin Technological Systems\",\"Al Rabat\",\"Alhokair Fashion Retail\",\"Allianz\",\"Alrayda Elkobra\",\"Aman Holding\",\"Anasia Egypt for Trading\",\"Andalusia Maadi Hospital \",\"Andela\",\"Arma Foods \",\"Ashtar.app\",\"Atomica\",\"Autsera Limited\",\"B.TECH\",\"BBI-Consultancy\",\"BI-Technologies\",\"Beyond Apps Group\",\"Beyond Solution\",\"BlinkApp\",\"Block Gemini\",\"Brainology\",\"Caduceus Lane\",\"Caelum Egypt\",\"Cairo Three A  for Agricultural and Animal Production\",\"Cairoscan\",\"Capital IT\",\"Careery For Talent Services \",\"Catalogz Technology\",\"Chefaa IT\",\"Chitosan.egypt\",\"Cilantro\",\"Click ITS\",\"Confidential Company -\\u00a0\",\"Construction & Design Co. SAE\",\"Contact\",\"Corporatica\",\"Dough and More Food Industries\",\"Dreem Mashreq Foods \",\"EGID company\",\"EGYTRAFO\",\"Easy System\",\"Edu-Zone\",\"Egybell\",\"Egyptian Engineering Company\",\"Elattal Holding \",\"Elsewedy industries\",\"Etisalat Misr\",\"Evolvice GmbH\",\"Expleo\",\"Fatura \",\"Fingerprint consultancy\",\"Fixed Solutions\",\"FlairsTech\",\"Floortec\",\"GS1\",\"Gap Polymers \",\"Gemssy Technologies S.L.\",\"Global Medical Solutions International \",\"Grafene Consulting\",\"Gulf United Group\",\"Hakaya\",\"ICON Holding\",\"IMS\",\"ITS \",\"Ibn Sina Pharma\",\"Icity\",\"Jazeera Paints\",\"JoviTronix \",\"Kick Start Interactive\",\"KnowledgeNet\",\"LEONI Wiring System Egypt S.A.E\",\"Lines Dev\",\"LxT\",\"M.Srour\",\"MB for Engineering\",\"ManEx Systems\",\"Maxab\",\"Micro Engineering\",\"Midea Egypt\",\"Mobica\",\"Mobile Wave 3\",\"M\\u00b2 Developments\",\"NaTakallam\",\"Nana\",\"Network International -Egypt\",\"Nile Projects & Trading\",\"Nile University\",\"OPPO Egypt \",\"OSN\",\"Paymob Solutions\",\"Perfect Presentation\",\"Petrological Integrated Solutions\",\"Pylon UMP\",\"Qsource\",\"RDI\",\"Rasan\",\"Raya Customer Experience\",\"Redcon Spain\",\"SSC Egypt\",\"Sahab Smart Solutions\",\"Sega_m\",\"Shiny White Dental Center \",\"Softec Technologies\",\"Solera\",\"Squadio\",\"Standout Solutions\",\"Stratoil Energy Services\",\"Sun Pharma\",\"Sykes Enterprises\",\"System Technique\",\"TMentors\",\"Tahaluf Al Emarat Technical Solutions\",\"Talent 360\",\"Talents Arena\",\"Tanta Motors \",\"Target Recruitment  & HR Solutions \",\"Tech SquAd\",\"Transmar International \",\"Trufla\",\"URANIUM\",\"Veripark\",\"Wadi Degla Trading \",\"Worex\",\"World Vest Base (WVB )\",\"World of systems and software\",\"Xceed\",\"Z2 Data\",\"Zeina Group\",\"beetleware\",\"e-finance\",\"egabi solutions\",\"iSchool\",\"prosylab\",\"skora tech\"],\"xaxis\":\"x\",\"y\":[1,3,2,2,1,1,2,1,1,1,1,1,1,1,2,1,2,12,1,1,6,2,2,1,1,1,1,1,1,1,1,2,1,1,2,2,1,1,23,1,1,1,1,1,1,1,1,3,1,1,1,1,1,1,2,1,2,2,2,1,1,1,1,2,1,1,2,1,1,1,1,1,2,1,1,1,1,1,2,2,1,2,1,2,1,2,3,1,1,7,1,1,1,1,1,6,2,1,1,2,2,1,2,1,1,1,1,1,5,1,1,1,1,1,1,1,5,9,1,1,1,1,1,1,3,1,1,1,1,1,2,3,3,1,1,1,1,5,1,2],\"yaxis\":\"y\",\"type\":\"bar\"}],                        {\"template\":{\"data\":{\"bar\":[{\"error_x\":{\"color\":\"#2a3f5f\"},\"error_y\":{\"color\":\"#2a3f5f\"},\"marker\":{\"line\":{\"color\":\"#E5ECF6\",\"width\":0.5},\"pattern\":{\"fillmode\":\"overlay\",\"size\":10,\"solidity\":0.2}},\"type\":\"bar\"}],\"barpolar\":[{\"marker\":{\"line\":{\"color\":\"#E5ECF6\",\"width\":0.5},\"pattern\":{\"fillmode\":\"overlay\",\"size\":10,\"solidity\":0.2}},\"type\":\"barpolar\"}],\"carpet\":[{\"aaxis\":{\"endlinecolor\":\"#2a3f5f\",\"gridcolor\":\"white\",\"linecolor\":\"white\",\"minorgridcolor\":\"white\",\"startlinecolor\":\"#2a3f5f\"},\"baxis\":{\"endlinecolor\":\"#2a3f5f\",\"gridcolor\":\"white\",\"linecolor\":\"white\",\"minorgridcolor\":\"white\",\"startlinecolor\":\"#2a3f5f\"},\"type\":\"carpet\"}],\"choropleth\":[{\"colorbar\":{\"outlinewidth\":0,\"ticks\":\"\"},\"type\":\"choropleth\"}],\"contour\":[{\"colorbar\":{\"outlinewidth\":0,\"ticks\":\"\"},\"colorscale\":[[0.0,\"#0d0887\"],[0.1111111111111111,\"#46039f\"],[0.2222222222222222,\"#7201a8\"],[0.3333333333333333,\"#9c179e\"],[0.4444444444444444,\"#bd3786\"],[0.5555555555555556,\"#d8576b\"],[0.6666666666666666,\"#ed7953\"],[0.7777777777777778,\"#fb9f3a\"],[0.8888888888888888,\"#fdca26\"],[1.0,\"#f0f921\"]],\"type\":\"contour\"}],\"contourcarpet\":[{\"colorbar\":{\"outlinewidth\":0,\"ticks\":\"\"},\"type\":\"contourcarpet\"}],\"heatmap\":[{\"colorbar\":{\"outlinewidth\":0,\"ticks\":\"\"},\"colorscale\":[[0.0,\"#0d0887\"],[0.1111111111111111,\"#46039f\"],[0.2222222222222222,\"#7201a8\"],[0.3333333333333333,\"#9c179e\"],[0.4444444444444444,\"#bd3786\"],[0.5555555555555556,\"#d8576b\"],[0.6666666666666666,\"#ed7953\"],[0.7777777777777778,\"#fb9f3a\"],[0.8888888888888888,\"#fdca26\"],[1.0,\"#f0f921\"]],\"type\":\"heatmap\"}],\"heatmapgl\":[{\"colorbar\":{\"outlinewidth\":0,\"ticks\":\"\"},\"colorscale\":[[0.0,\"#0d0887\"],[0.1111111111111111,\"#46039f\"],[0.2222222222222222,\"#7201a8\"],[0.3333333333333333,\"#9c179e\"],[0.4444444444444444,\"#bd3786\"],[0.5555555555555556,\"#d8576b\"],[0.6666666666666666,\"#ed7953\"],[0.7777777777777778,\"#fb9f3a\"],[0.8888888888888888,\"#fdca26\"],[1.0,\"#f0f921\"]],\"type\":\"heatmapgl\"}],\"histogram\":[{\"marker\":{\"pattern\":{\"fillmode\":\"overlay\",\"size\":10,\"solidity\":0.2}},\"type\":\"histogram\"}],\"histogram2d\":[{\"colorbar\":{\"outlinewidth\":0,\"ticks\":\"\"},\"colorscale\":[[0.0,\"#0d0887\"],[0.1111111111111111,\"#46039f\"],[0.2222222222222222,\"#7201a8\"],[0.3333333333333333,\"#9c179e\"],[0.4444444444444444,\"#bd3786\"],[0.5555555555555556,\"#d8576b\"],[0.6666666666666666,\"#ed7953\"],[0.7777777777777778,\"#fb9f3a\"],[0.8888888888888888,\"#fdca26\"],[1.0,\"#f0f921\"]],\"type\":\"histogram2d\"}],\"histogram2dcontour\":[{\"colorbar\":{\"outlinewidth\":0,\"ticks\":\"\"},\"colorscale\":[[0.0,\"#0d0887\"],[0.1111111111111111,\"#46039f\"],[0.2222222222222222,\"#7201a8\"],[0.3333333333333333,\"#9c179e\"],[0.4444444444444444,\"#bd3786\"],[0.5555555555555556,\"#d8576b\"],[0.6666666666666666,\"#ed7953\"],[0.7777777777777778,\"#fb9f3a\"],[0.8888888888888888,\"#fdca26\"],[1.0,\"#f0f921\"]],\"type\":\"histogram2dcontour\"}],\"mesh3d\":[{\"colorbar\":{\"outlinewidth\":0,\"ticks\":\"\"},\"type\":\"mesh3d\"}],\"parcoords\":[{\"line\":{\"colorbar\":{\"outlinewidth\":0,\"ticks\":\"\"}},\"type\":\"parcoords\"}],\"pie\":[{\"automargin\":true,\"type\":\"pie\"}],\"scatter\":[{\"marker\":{\"colorbar\":{\"outlinewidth\":0,\"ticks\":\"\"}},\"type\":\"scatter\"}],\"scatter3d\":[{\"line\":{\"colorbar\":{\"outlinewidth\":0,\"ticks\":\"\"}},\"marker\":{\"colorbar\":{\"outlinewidth\":0,\"ticks\":\"\"}},\"type\":\"scatter3d\"}],\"scattercarpet\":[{\"marker\":{\"colorbar\":{\"outlinewidth\":0,\"ticks\":\"\"}},\"type\":\"scattercarpet\"}],\"scattergeo\":[{\"marker\":{\"colorbar\":{\"outlinewidth\":0,\"ticks\":\"\"}},\"type\":\"scattergeo\"}],\"scattergl\":[{\"marker\":{\"colorbar\":{\"outlinewidth\":0,\"ticks\":\"\"}},\"type\":\"scattergl\"}],\"scattermapbox\":[{\"marker\":{\"colorbar\":{\"outlinewidth\":0,\"ticks\":\"\"}},\"type\":\"scattermapbox\"}],\"scatterpolar\":[{\"marker\":{\"colorbar\":{\"outlinewidth\":0,\"ticks\":\"\"}},\"type\":\"scatterpolar\"}],\"scatterpolargl\":[{\"marker\":{\"colorbar\":{\"outlinewidth\":0,\"ticks\":\"\"}},\"type\":\"scatterpolargl\"}],\"scatterternary\":[{\"marker\":{\"colorbar\":{\"outlinewidth\":0,\"ticks\":\"\"}},\"type\":\"scatterternary\"}],\"surface\":[{\"colorbar\":{\"outlinewidth\":0,\"ticks\":\"\"},\"colorscale\":[[0.0,\"#0d0887\"],[0.1111111111111111,\"#46039f\"],[0.2222222222222222,\"#7201a8\"],[0.3333333333333333,\"#9c179e\"],[0.4444444444444444,\"#bd3786\"],[0.5555555555555556,\"#d8576b\"],[0.6666666666666666,\"#ed7953\"],[0.7777777777777778,\"#fb9f3a\"],[0.8888888888888888,\"#fdca26\"],[1.0,\"#f0f921\"]],\"type\":\"surface\"}],\"table\":[{\"cells\":{\"fill\":{\"color\":\"#EBF0F8\"},\"line\":{\"color\":\"white\"}},\"header\":{\"fill\":{\"color\":\"#C8D4E3\"},\"line\":{\"color\":\"white\"}},\"type\":\"table\"}]},\"layout\":{\"annotationdefaults\":{\"arrowcolor\":\"#2a3f5f\",\"arrowhead\":0,\"arrowwidth\":1},\"autotypenumbers\":\"strict\",\"coloraxis\":{\"colorbar\":{\"outlinewidth\":0,\"ticks\":\"\"}},\"colorscale\":{\"diverging\":[[0,\"#8e0152\"],[0.1,\"#c51b7d\"],[0.2,\"#de77ae\"],[0.3,\"#f1b6da\"],[0.4,\"#fde0ef\"],[0.5,\"#f7f7f7\"],[0.6,\"#e6f5d0\"],[0.7,\"#b8e186\"],[0.8,\"#7fbc41\"],[0.9,\"#4d9221\"],[1,\"#276419\"]],\"sequential\":[[0.0,\"#0d0887\"],[0.1111111111111111,\"#46039f\"],[0.2222222222222222,\"#7201a8\"],[0.3333333333333333,\"#9c179e\"],[0.4444444444444444,\"#bd3786\"],[0.5555555555555556,\"#d8576b\"],[0.6666666666666666,\"#ed7953\"],[0.7777777777777778,\"#fb9f3a\"],[0.8888888888888888,\"#fdca26\"],[1.0,\"#f0f921\"]],\"sequentialminus\":[[0.0,\"#0d0887\"],[0.1111111111111111,\"#46039f\"],[0.2222222222222222,\"#7201a8\"],[0.3333333333333333,\"#9c179e\"],[0.4444444444444444,\"#bd3786\"],[0.5555555555555556,\"#d8576b\"],[0.6666666666666666,\"#ed7953\"],[0.7777777777777778,\"#fb9f3a\"],[0.8888888888888888,\"#fdca26\"],[1.0,\"#f0f921\"]]},\"colorway\":[\"#636efa\",\"#EF553B\",\"#00cc96\",\"#ab63fa\",\"#FFA15A\",\"#19d3f3\",\"#FF6692\",\"#B6E880\",\"#FF97FF\",\"#FECB52\"],\"font\":{\"color\":\"#2a3f5f\"},\"geo\":{\"bgcolor\":\"white\",\"lakecolor\":\"white\",\"landcolor\":\"#E5ECF6\",\"showlakes\":true,\"showland\":true,\"subunitcolor\":\"white\"},\"hoverlabel\":{\"align\":\"left\"},\"hovermode\":\"closest\",\"mapbox\":{\"style\":\"light\"},\"paper_bgcolor\":\"white\",\"plot_bgcolor\":\"#E5ECF6\",\"polar\":{\"angularaxis\":{\"gridcolor\":\"white\",\"linecolor\":\"white\",\"ticks\":\"\"},\"bgcolor\":\"#E5ECF6\",\"radialaxis\":{\"gridcolor\":\"white\",\"linecolor\":\"white\",\"ticks\":\"\"}},\"scene\":{\"xaxis\":{\"backgroundcolor\":\"#E5ECF6\",\"gridcolor\":\"white\",\"gridwidth\":2,\"linecolor\":\"white\",\"showbackground\":true,\"ticks\":\"\",\"zerolinecolor\":\"white\"},\"yaxis\":{\"backgroundcolor\":\"#E5ECF6\",\"gridcolor\":\"white\",\"gridwidth\":2,\"linecolor\":\"white\",\"showbackground\":true,\"ticks\":\"\",\"zerolinecolor\":\"white\"},\"zaxis\":{\"backgroundcolor\":\"#E5ECF6\",\"gridcolor\":\"white\",\"gridwidth\":2,\"linecolor\":\"white\",\"showbackground\":true,\"ticks\":\"\",\"zerolinecolor\":\"white\"}},\"shapedefaults\":{\"line\":{\"color\":\"#2a3f5f\"}},\"ternary\":{\"aaxis\":{\"gridcolor\":\"white\",\"linecolor\":\"white\",\"ticks\":\"\"},\"baxis\":{\"gridcolor\":\"white\",\"linecolor\":\"white\",\"ticks\":\"\"},\"bgcolor\":\"#E5ECF6\",\"caxis\":{\"gridcolor\":\"white\",\"linecolor\":\"white\",\"ticks\":\"\"}},\"title\":{\"x\":0.05},\"xaxis\":{\"automargin\":true,\"gridcolor\":\"white\",\"linecolor\":\"white\",\"ticks\":\"\",\"title\":{\"standoff\":15},\"zerolinecolor\":\"white\",\"zerolinewidth\":2},\"yaxis\":{\"automargin\":true,\"gridcolor\":\"white\",\"linecolor\":\"white\",\"ticks\":\"\",\"title\":{\"standoff\":15},\"zerolinecolor\":\"white\",\"zerolinewidth\":2}}},\"xaxis\":{\"anchor\":\"y\",\"domain\":[0.0,1.0],\"title\":{\"text\":\"company\"}},\"yaxis\":{\"anchor\":\"x\",\"domain\":[0.0,1.0],\"title\":{\"text\":\"value\"}},\"legend\":{\"title\":{\"text\":\"variable\"},\"tracegroupgap\":0},\"margin\":{\"t\":60},\"barmode\":\"relative\"},                        {\"responsive\": true}                    ).then(function(){\n",
       "                            \n",
       "var gd = document.getElementById('d171af9d-a077-4be1-b1ee-70bd031df879');\n",
       "var x = new MutationObserver(function (mutations, observer) {{\n",
       "        var display = window.getComputedStyle(gd).display;\n",
       "        if (!display || display === 'none') {{\n",
       "            console.log([gd, 'removed!']);\n",
       "            Plotly.purge(gd);\n",
       "            observer.disconnect();\n",
       "        }}\n",
       "}});\n",
       "\n",
       "// Listen for the removal of the full notebook cells\n",
       "var notebookContainer = gd.closest('#notebook-container');\n",
       "if (notebookContainer) {{\n",
       "    x.observe(notebookContainer, {childList: true});\n",
       "}}\n",
       "\n",
       "// Listen for the clearing of the current output cell\n",
       "var outputEl = gd.closest('.output');\n",
       "if (outputEl) {{\n",
       "    x.observe(outputEl, {childList: true});\n",
       "}}\n",
       "\n",
       "                        })                };                });            </script>        </div>"
      ]
     },
     "metadata": {},
     "output_type": "display_data"
    }
   ],
   "source": [
    "px.bar(Jobs_df.groupby('company')['job title'].count())"
   ]
  },
  {
   "cell_type": "code",
   "execution_count": 152,
   "id": "9a311ff4",
   "metadata": {},
   "outputs": [
    {
     "data": {
      "application/vnd.plotly.v1+json": {
       "config": {
        "plotlyServerURL": "https://plot.ly"
       },
       "data": [
        {
         "alignmentgroup": "True",
         "hovertemplate": "Career Level:=%{x}<br>count=%{y}<extra></extra>",
         "legendgroup": "",
         "marker": {
          "color": "#636efa",
          "pattern": {
           "shape": ""
          }
         },
         "name": "",
         "offsetgroup": "",
         "orientation": "v",
         "showlegend": false,
         "textposition": "auto",
         "type": "bar",
         "x": [
          "'Experienced (Non-Manager)'",
          "'Experienced (Non-Manager)'",
          "'Experienced (Non-Manager)'",
          "'Entry Level (Junior Level / Fresh Grad)'",
          "'Experienced (Non-Manager)'",
          "'Entry Level (Junior Level / Fresh Grad)'",
          "'Entry Level (Junior Level / Fresh Grad)'",
          "'Entry Level (Junior Level / Fresh Grad)'",
          "'Entry Level (Junior Level / Fresh Grad)'",
          "'Entry Level (Junior Level / Fresh Grad)'",
          "'Experienced (Non-Manager)'",
          "'Experienced (Non-Manager)'",
          "'Experienced (Non-Manager)'",
          "'Entry Level (Junior Level / Fresh Grad)'",
          "'Entry Level (Junior Level / Fresh Grad)'",
          "'Experienced (Non-Manager)'",
          "'Entry Level (Junior Level / Fresh Grad)'",
          "'Entry Level (Junior Level / Fresh Grad)'",
          "'Entry Level (Junior Level / Fresh Grad)'",
          "'Entry Level (Junior Level / Fresh Grad)'",
          "'Experienced (Non-Manager)'",
          "'Entry Level (Junior Level / Fresh Grad)'",
          "'Entry Level (Junior Level / Fresh Grad)'",
          "'Entry Level (Junior Level / Fresh Grad)'",
          "'Experienced (Non-Manager)'",
          "'Experienced (Non-Manager)'",
          "'Experienced (Non-Manager)'",
          "'Experienced (Non-Manager)'",
          "'Entry Level (Junior Level / Fresh Grad)'",
          "'Manager '",
          "'Manager '",
          "'Experienced (Non-Manager)'",
          "'Experienced (Non-Manager)'",
          "'Experienced (Non-Manager)'",
          "'Experienced (Non-Manager)'",
          "'Experienced (Non-Manager)'",
          "'Entry Level (Junior Level / Fresh Grad)'",
          "'Experienced (Non-Manager)'",
          "'Manager '",
          "'Experienced (Non-Manager)'",
          "'Experienced (Non-Manager)'",
          "'Experienced (Non-Manager)'",
          "'Experienced (Non-Manager)'",
          "'Experienced (Non-Manager)'",
          "'Experienced (Non-Manager)'",
          "'Student (Undergrad / Postgrad)'",
          "'Manager '",
          "'Entry Level (Junior Level / Fresh Grad)'",
          "'Experienced (Non-Manager)'",
          "'Entry Level (Junior Level / Fresh Grad)'",
          "'Experienced (Non-Manager)'",
          "'Entry Level (Junior Level / Fresh Grad)'",
          "'Experienced (Non-Manager)'",
          "'Experienced (Non-Manager)'",
          "'Experienced (Non-Manager)'",
          "'Manager '",
          "'Experienced (Non-Manager)'",
          "'Experienced (Non-Manager)'",
          "'Entry Level (Junior Level / Fresh Grad)'",
          "'Experienced (Non-Manager)'",
          "'Student (Undergrad / Postgrad)'",
          "'Experienced (Non-Manager)'",
          "'Entry Level (Junior Level / Fresh Grad)'",
          "'Experienced (Non-Manager)'",
          "'Experienced (Non-Manager)'",
          "'Experienced (Non-Manager)'",
          "'Experienced (Non-Manager)'",
          "'Entry Level (Junior Level / Fresh Grad)'",
          "'Experienced (Non-Manager)'",
          "'Student (Undergrad / Postgrad)'",
          "'Entry Level (Junior Level / Fresh Grad)'",
          "'Experienced (Non-Manager)'",
          "'Experienced (Non-Manager)'",
          "'Experienced (Non-Manager)'",
          "'Experienced (Non-Manager)'",
          "'Experienced (Non-Manager)'",
          "'Experienced (Non-Manager)'",
          "'Experienced (Non-Manager)'",
          "'Entry Level (Junior Level / Fresh Grad)'",
          "'Experienced (Non-Manager)'",
          "'Experienced (Non-Manager)'",
          "'Experienced (Non-Manager)'",
          "'Experienced (Non-Manager)'",
          "'Experienced (Non-Manager)'",
          "'Experienced (Non-Manager)'",
          "'Experienced (Non-Manager)'",
          "'Entry Level (Junior Level / Fresh Grad)'",
          "'Experienced (Non-Manager)'",
          "'Entry Level (Junior Level / Fresh Grad)'",
          "'Experienced (Non-Manager)'",
          "'Experienced (Non-Manager)'",
          "'Entry Level (Junior Level / Fresh Grad)'",
          "'Entry Level (Junior Level / Fresh Grad)'",
          "'Experienced (Non-Manager)'",
          "'Experienced (Non-Manager)'",
          "'Experienced (Non-Manager)'",
          "'Experienced (Non-Manager)'",
          "'Experienced (Non-Manager)'",
          "'Experienced (Non-Manager)'",
          "'Experienced (Non-Manager)'",
          "'Experienced (Non-Manager)'",
          "'Experienced (Non-Manager)'",
          "'Experienced (Non-Manager)'",
          "'Experienced (Non-Manager)'",
          "'Experienced (Non-Manager)'",
          "'Experienced (Non-Manager)'",
          "'Experienced (Non-Manager)'",
          "'Experienced (Non-Manager)'",
          "'Entry Level (Junior Level / Fresh Grad)'",
          "'Experienced (Non-Manager)'",
          "'Experienced (Non-Manager)'",
          "'Entry Level (Junior Level / Fresh Grad)'",
          "'Experienced (Non-Manager)'",
          "'Entry Level (Junior Level / Fresh Grad)'",
          "'Entry Level (Junior Level / Fresh Grad)'",
          "'Experienced (Non-Manager)'",
          "'Experienced (Non-Manager)'",
          "'Experienced (Non-Manager)'",
          "'Experienced (Non-Manager)'",
          "'Experienced (Non-Manager)'",
          "'Entry Level (Junior Level / Fresh Grad)'",
          "'Experienced (Non-Manager)'",
          "'Experienced (Non-Manager)'",
          "'Experienced (Non-Manager)'",
          "'Experienced (Non-Manager)'",
          "'Entry Level (Junior Level / Fresh Grad)'",
          "'Experienced (Non-Manager)'",
          "'Experienced (Non-Manager)'",
          "'Experienced (Non-Manager)'",
          "'Experienced (Non-Manager)'",
          "'Experienced (Non-Manager)'",
          "'Experienced (Non-Manager)'",
          "'Experienced (Non-Manager)'",
          "'Experienced (Non-Manager)'",
          "'Entry Level (Junior Level / Fresh Grad)'",
          "'Experienced (Non-Manager)'",
          "'Experienced (Non-Manager)'",
          "'Entry Level (Junior Level / Fresh Grad)'",
          "'Experienced (Non-Manager)'",
          "'Experienced (Non-Manager)'",
          "'Experienced (Non-Manager)'",
          "'Experienced (Non-Manager)'",
          "'Manager '",
          "'Experienced (Non-Manager)'",
          "'Experienced (Non-Manager)'",
          "'Entry Level (Junior Level / Fresh Grad)'",
          "'Experienced (Non-Manager)'",
          "'Entry Level (Junior Level / Fresh Grad)'",
          "'Entry Level (Junior Level / Fresh Grad)'",
          "'Experienced (Non-Manager)'",
          "'Experienced (Non-Manager)'",
          "'Experienced (Non-Manager)'",
          "'Experienced (Non-Manager)'",
          "'Experienced (Non-Manager)'",
          "'Experienced (Non-Manager)'",
          "'Experienced (Non-Manager)'",
          "'Experienced (Non-Manager)'",
          "'Entry Level (Junior Level / Fresh Grad)'",
          "'Experienced (Non-Manager)'",
          "'Experienced (Non-Manager)'",
          "'Entry Level (Junior Level / Fresh Grad)'",
          "'Manager '",
          "'Entry Level (Junior Level / Fresh Grad)'",
          "'Entry Level (Junior Level / Fresh Grad)'",
          "'Entry Level (Junior Level / Fresh Grad)'",
          "'Experienced (Non-Manager)'",
          "'Manager '",
          "'Entry Level (Junior Level / Fresh Grad)'",
          "'Experienced (Non-Manager)'",
          "'Entry Level (Junior Level / Fresh Grad)'",
          "'Experienced (Non-Manager)'",
          "'Entry Level (Junior Level / Fresh Grad)'",
          "'Experienced (Non-Manager)'",
          "'Experienced (Non-Manager)'",
          "'Experienced (Non-Manager)'",
          "'Experienced (Non-Manager)'",
          "'Experienced (Non-Manager)'",
          "'Experienced (Non-Manager)'",
          "'Entry Level (Junior Level / Fresh Grad)'",
          "'Experienced (Non-Manager)'",
          "'Manager '",
          "'Entry Level (Junior Level / Fresh Grad)'",
          "'Experienced (Non-Manager)'",
          "'Experienced (Non-Manager)'",
          "'Experienced (Non-Manager)'",
          "'Experienced (Non-Manager)'",
          "'Experienced (Non-Manager)'",
          "'Entry Level (Junior Level / Fresh Grad)'",
          "'Experienced (Non-Manager)'",
          "'Experienced (Non-Manager)'",
          "'Experienced (Non-Manager)'",
          "'Experienced (Non-Manager)'",
          "'Experienced (Non-Manager)'",
          "'Experienced (Non-Manager)'",
          "'Entry Level (Junior Level / Fresh Grad)'",
          "'Experienced (Non-Manager)'",
          "'Experienced (Non-Manager)'",
          "'Entry Level (Junior Level / Fresh Grad)'",
          "'Entry Level (Junior Level / Fresh Grad)'",
          "'Entry Level (Junior Level / Fresh Grad)'",
          "'Experienced (Non-Manager)'",
          "'Entry Level (Junior Level / Fresh Grad)'",
          "'Experienced (Non-Manager)'",
          "'Experienced (Non-Manager)'",
          "'Entry Level (Junior Level / Fresh Grad)'",
          "'Experienced (Non-Manager)'",
          "'Experienced (Non-Manager)'",
          "'Experienced (Non-Manager)'",
          "'Experienced (Non-Manager)'",
          "'Experienced (Non-Manager)'",
          "'Experienced (Non-Manager)'",
          "'Experienced (Non-Manager)'",
          "'Experienced (Non-Manager)'",
          "'Experienced (Non-Manager)'",
          "'Experienced (Non-Manager)'",
          "'Experienced (Non-Manager)'",
          "'Entry Level (Junior Level / Fresh Grad)'",
          "'Experienced (Non-Manager)'",
          "'Entry Level (Junior Level / Fresh Grad)'",
          "'Experienced (Non-Manager)'",
          "'Manager '",
          "'Experienced (Non-Manager)'",
          "'Experienced (Non-Manager)'",
          "'Experienced (Non-Manager)'",
          "'Experienced (Non-Manager)'",
          "'Entry Level (Junior Level / Fresh Grad)'",
          "'Experienced (Non-Manager)'",
          "'Experienced (Non-Manager)'",
          "'Entry Level (Junior Level / Fresh Grad)'",
          "'Manager '",
          "'Experienced (Non-Manager)'",
          "'Experienced (Non-Manager)'",
          "'Entry Level (Junior Level / Fresh Grad)'",
          "'Entry Level (Junior Level / Fresh Grad)'",
          "'Experienced (Non-Manager)'",
          "'Experienced (Non-Manager)'",
          "'Experienced (Non-Manager)'",
          "'Experienced (Non-Manager)'",
          "'Experienced (Non-Manager)'",
          "'Experienced (Non-Manager)'",
          "'Experienced (Non-Manager)'",
          "'Experienced (Non-Manager)'",
          "'Experienced (Non-Manager)'",
          "'Experienced (Non-Manager)'",
          "'Experienced (Non-Manager)'",
          "'Experienced (Non-Manager)'",
          "'Experienced (Non-Manager)'",
          "'Experienced (Non-Manager)'",
          "'Entry Level (Junior Level / Fresh Grad)'"
         ],
         "xaxis": "x",
         "y": [
          1,
          1,
          1,
          1,
          1,
          1,
          1,
          1,
          1,
          1,
          1,
          1,
          1,
          1,
          1,
          1,
          1,
          1,
          1,
          1,
          1,
          1,
          1,
          1,
          1,
          1,
          1,
          1,
          1,
          1,
          1,
          1,
          1,
          1,
          1,
          1,
          1,
          1,
          1,
          1,
          1,
          1,
          1,
          1,
          1,
          1,
          1,
          1,
          1,
          1,
          1,
          1,
          1,
          1,
          1,
          1,
          1,
          1,
          1,
          1,
          1,
          1,
          1,
          1,
          1,
          1,
          1,
          1,
          1,
          1,
          1,
          1,
          1,
          1,
          1,
          1,
          1,
          1,
          1,
          1,
          1,
          1,
          1,
          1,
          1,
          1,
          1,
          1,
          1,
          1,
          1,
          1,
          1,
          1,
          1,
          1,
          1,
          1,
          1,
          1,
          1,
          1,
          1,
          1,
          1,
          1,
          1,
          1,
          1,
          1,
          1,
          1,
          1,
          1,
          1,
          1,
          1,
          1,
          1,
          1,
          1,
          1,
          1,
          1,
          1,
          1,
          1,
          1,
          1,
          1,
          1,
          1,
          1,
          1,
          1,
          1,
          1,
          1,
          1,
          1,
          1,
          1,
          1,
          1,
          1,
          1,
          1,
          1,
          1,
          1,
          1,
          1,
          1,
          1,
          1,
          1,
          1,
          1,
          1,
          1,
          1,
          1,
          1,
          1,
          1,
          1,
          1,
          1,
          1,
          1,
          1,
          1,
          1,
          1,
          1,
          1,
          1,
          1,
          1,
          1,
          1,
          1,
          1,
          1,
          1,
          1,
          1,
          1,
          1,
          1,
          1,
          1,
          1,
          1,
          1,
          1,
          1,
          1,
          1,
          1,
          1,
          1,
          1,
          1,
          1,
          1,
          1,
          1,
          1,
          1,
          1,
          1,
          1,
          1,
          1,
          1,
          1,
          1,
          1,
          1,
          1,
          1,
          1,
          1,
          1,
          1,
          1,
          1,
          1,
          1,
          1,
          1,
          1,
          1,
          1,
          1,
          1,
          1,
          1,
          1,
          1,
          1,
          1,
          1,
          1,
          1,
          1,
          1,
          1
         ],
         "yaxis": "y"
        }
       ],
       "layout": {
        "barmode": "relative",
        "legend": {
         "tracegroupgap": 0
        },
        "margin": {
         "t": 60
        },
        "template": {
         "data": {
          "bar": [
           {
            "error_x": {
             "color": "#2a3f5f"
            },
            "error_y": {
             "color": "#2a3f5f"
            },
            "marker": {
             "line": {
              "color": "#E5ECF6",
              "width": 0.5
             },
             "pattern": {
              "fillmode": "overlay",
              "size": 10,
              "solidity": 0.2
             }
            },
            "type": "bar"
           }
          ],
          "barpolar": [
           {
            "marker": {
             "line": {
              "color": "#E5ECF6",
              "width": 0.5
             },
             "pattern": {
              "fillmode": "overlay",
              "size": 10,
              "solidity": 0.2
             }
            },
            "type": "barpolar"
           }
          ],
          "carpet": [
           {
            "aaxis": {
             "endlinecolor": "#2a3f5f",
             "gridcolor": "white",
             "linecolor": "white",
             "minorgridcolor": "white",
             "startlinecolor": "#2a3f5f"
            },
            "baxis": {
             "endlinecolor": "#2a3f5f",
             "gridcolor": "white",
             "linecolor": "white",
             "minorgridcolor": "white",
             "startlinecolor": "#2a3f5f"
            },
            "type": "carpet"
           }
          ],
          "choropleth": [
           {
            "colorbar": {
             "outlinewidth": 0,
             "ticks": ""
            },
            "type": "choropleth"
           }
          ],
          "contour": [
           {
            "colorbar": {
             "outlinewidth": 0,
             "ticks": ""
            },
            "colorscale": [
             [
              0,
              "#0d0887"
             ],
             [
              0.1111111111111111,
              "#46039f"
             ],
             [
              0.2222222222222222,
              "#7201a8"
             ],
             [
              0.3333333333333333,
              "#9c179e"
             ],
             [
              0.4444444444444444,
              "#bd3786"
             ],
             [
              0.5555555555555556,
              "#d8576b"
             ],
             [
              0.6666666666666666,
              "#ed7953"
             ],
             [
              0.7777777777777778,
              "#fb9f3a"
             ],
             [
              0.8888888888888888,
              "#fdca26"
             ],
             [
              1,
              "#f0f921"
             ]
            ],
            "type": "contour"
           }
          ],
          "contourcarpet": [
           {
            "colorbar": {
             "outlinewidth": 0,
             "ticks": ""
            },
            "type": "contourcarpet"
           }
          ],
          "heatmap": [
           {
            "colorbar": {
             "outlinewidth": 0,
             "ticks": ""
            },
            "colorscale": [
             [
              0,
              "#0d0887"
             ],
             [
              0.1111111111111111,
              "#46039f"
             ],
             [
              0.2222222222222222,
              "#7201a8"
             ],
             [
              0.3333333333333333,
              "#9c179e"
             ],
             [
              0.4444444444444444,
              "#bd3786"
             ],
             [
              0.5555555555555556,
              "#d8576b"
             ],
             [
              0.6666666666666666,
              "#ed7953"
             ],
             [
              0.7777777777777778,
              "#fb9f3a"
             ],
             [
              0.8888888888888888,
              "#fdca26"
             ],
             [
              1,
              "#f0f921"
             ]
            ],
            "type": "heatmap"
           }
          ],
          "heatmapgl": [
           {
            "colorbar": {
             "outlinewidth": 0,
             "ticks": ""
            },
            "colorscale": [
             [
              0,
              "#0d0887"
             ],
             [
              0.1111111111111111,
              "#46039f"
             ],
             [
              0.2222222222222222,
              "#7201a8"
             ],
             [
              0.3333333333333333,
              "#9c179e"
             ],
             [
              0.4444444444444444,
              "#bd3786"
             ],
             [
              0.5555555555555556,
              "#d8576b"
             ],
             [
              0.6666666666666666,
              "#ed7953"
             ],
             [
              0.7777777777777778,
              "#fb9f3a"
             ],
             [
              0.8888888888888888,
              "#fdca26"
             ],
             [
              1,
              "#f0f921"
             ]
            ],
            "type": "heatmapgl"
           }
          ],
          "histogram": [
           {
            "marker": {
             "pattern": {
              "fillmode": "overlay",
              "size": 10,
              "solidity": 0.2
             }
            },
            "type": "histogram"
           }
          ],
          "histogram2d": [
           {
            "colorbar": {
             "outlinewidth": 0,
             "ticks": ""
            },
            "colorscale": [
             [
              0,
              "#0d0887"
             ],
             [
              0.1111111111111111,
              "#46039f"
             ],
             [
              0.2222222222222222,
              "#7201a8"
             ],
             [
              0.3333333333333333,
              "#9c179e"
             ],
             [
              0.4444444444444444,
              "#bd3786"
             ],
             [
              0.5555555555555556,
              "#d8576b"
             ],
             [
              0.6666666666666666,
              "#ed7953"
             ],
             [
              0.7777777777777778,
              "#fb9f3a"
             ],
             [
              0.8888888888888888,
              "#fdca26"
             ],
             [
              1,
              "#f0f921"
             ]
            ],
            "type": "histogram2d"
           }
          ],
          "histogram2dcontour": [
           {
            "colorbar": {
             "outlinewidth": 0,
             "ticks": ""
            },
            "colorscale": [
             [
              0,
              "#0d0887"
             ],
             [
              0.1111111111111111,
              "#46039f"
             ],
             [
              0.2222222222222222,
              "#7201a8"
             ],
             [
              0.3333333333333333,
              "#9c179e"
             ],
             [
              0.4444444444444444,
              "#bd3786"
             ],
             [
              0.5555555555555556,
              "#d8576b"
             ],
             [
              0.6666666666666666,
              "#ed7953"
             ],
             [
              0.7777777777777778,
              "#fb9f3a"
             ],
             [
              0.8888888888888888,
              "#fdca26"
             ],
             [
              1,
              "#f0f921"
             ]
            ],
            "type": "histogram2dcontour"
           }
          ],
          "mesh3d": [
           {
            "colorbar": {
             "outlinewidth": 0,
             "ticks": ""
            },
            "type": "mesh3d"
           }
          ],
          "parcoords": [
           {
            "line": {
             "colorbar": {
              "outlinewidth": 0,
              "ticks": ""
             }
            },
            "type": "parcoords"
           }
          ],
          "pie": [
           {
            "automargin": true,
            "type": "pie"
           }
          ],
          "scatter": [
           {
            "marker": {
             "colorbar": {
              "outlinewidth": 0,
              "ticks": ""
             }
            },
            "type": "scatter"
           }
          ],
          "scatter3d": [
           {
            "line": {
             "colorbar": {
              "outlinewidth": 0,
              "ticks": ""
             }
            },
            "marker": {
             "colorbar": {
              "outlinewidth": 0,
              "ticks": ""
             }
            },
            "type": "scatter3d"
           }
          ],
          "scattercarpet": [
           {
            "marker": {
             "colorbar": {
              "outlinewidth": 0,
              "ticks": ""
             }
            },
            "type": "scattercarpet"
           }
          ],
          "scattergeo": [
           {
            "marker": {
             "colorbar": {
              "outlinewidth": 0,
              "ticks": ""
             }
            },
            "type": "scattergeo"
           }
          ],
          "scattergl": [
           {
            "marker": {
             "colorbar": {
              "outlinewidth": 0,
              "ticks": ""
             }
            },
            "type": "scattergl"
           }
          ],
          "scattermapbox": [
           {
            "marker": {
             "colorbar": {
              "outlinewidth": 0,
              "ticks": ""
             }
            },
            "type": "scattermapbox"
           }
          ],
          "scatterpolar": [
           {
            "marker": {
             "colorbar": {
              "outlinewidth": 0,
              "ticks": ""
             }
            },
            "type": "scatterpolar"
           }
          ],
          "scatterpolargl": [
           {
            "marker": {
             "colorbar": {
              "outlinewidth": 0,
              "ticks": ""
             }
            },
            "type": "scatterpolargl"
           }
          ],
          "scatterternary": [
           {
            "marker": {
             "colorbar": {
              "outlinewidth": 0,
              "ticks": ""
             }
            },
            "type": "scatterternary"
           }
          ],
          "surface": [
           {
            "colorbar": {
             "outlinewidth": 0,
             "ticks": ""
            },
            "colorscale": [
             [
              0,
              "#0d0887"
             ],
             [
              0.1111111111111111,
              "#46039f"
             ],
             [
              0.2222222222222222,
              "#7201a8"
             ],
             [
              0.3333333333333333,
              "#9c179e"
             ],
             [
              0.4444444444444444,
              "#bd3786"
             ],
             [
              0.5555555555555556,
              "#d8576b"
             ],
             [
              0.6666666666666666,
              "#ed7953"
             ],
             [
              0.7777777777777778,
              "#fb9f3a"
             ],
             [
              0.8888888888888888,
              "#fdca26"
             ],
             [
              1,
              "#f0f921"
             ]
            ],
            "type": "surface"
           }
          ],
          "table": [
           {
            "cells": {
             "fill": {
              "color": "#EBF0F8"
             },
             "line": {
              "color": "white"
             }
            },
            "header": {
             "fill": {
              "color": "#C8D4E3"
             },
             "line": {
              "color": "white"
             }
            },
            "type": "table"
           }
          ]
         },
         "layout": {
          "annotationdefaults": {
           "arrowcolor": "#2a3f5f",
           "arrowhead": 0,
           "arrowwidth": 1
          },
          "autotypenumbers": "strict",
          "coloraxis": {
           "colorbar": {
            "outlinewidth": 0,
            "ticks": ""
           }
          },
          "colorscale": {
           "diverging": [
            [
             0,
             "#8e0152"
            ],
            [
             0.1,
             "#c51b7d"
            ],
            [
             0.2,
             "#de77ae"
            ],
            [
             0.3,
             "#f1b6da"
            ],
            [
             0.4,
             "#fde0ef"
            ],
            [
             0.5,
             "#f7f7f7"
            ],
            [
             0.6,
             "#e6f5d0"
            ],
            [
             0.7,
             "#b8e186"
            ],
            [
             0.8,
             "#7fbc41"
            ],
            [
             0.9,
             "#4d9221"
            ],
            [
             1,
             "#276419"
            ]
           ],
           "sequential": [
            [
             0,
             "#0d0887"
            ],
            [
             0.1111111111111111,
             "#46039f"
            ],
            [
             0.2222222222222222,
             "#7201a8"
            ],
            [
             0.3333333333333333,
             "#9c179e"
            ],
            [
             0.4444444444444444,
             "#bd3786"
            ],
            [
             0.5555555555555556,
             "#d8576b"
            ],
            [
             0.6666666666666666,
             "#ed7953"
            ],
            [
             0.7777777777777778,
             "#fb9f3a"
            ],
            [
             0.8888888888888888,
             "#fdca26"
            ],
            [
             1,
             "#f0f921"
            ]
           ],
           "sequentialminus": [
            [
             0,
             "#0d0887"
            ],
            [
             0.1111111111111111,
             "#46039f"
            ],
            [
             0.2222222222222222,
             "#7201a8"
            ],
            [
             0.3333333333333333,
             "#9c179e"
            ],
            [
             0.4444444444444444,
             "#bd3786"
            ],
            [
             0.5555555555555556,
             "#d8576b"
            ],
            [
             0.6666666666666666,
             "#ed7953"
            ],
            [
             0.7777777777777778,
             "#fb9f3a"
            ],
            [
             0.8888888888888888,
             "#fdca26"
            ],
            [
             1,
             "#f0f921"
            ]
           ]
          },
          "colorway": [
           "#636efa",
           "#EF553B",
           "#00cc96",
           "#ab63fa",
           "#FFA15A",
           "#19d3f3",
           "#FF6692",
           "#B6E880",
           "#FF97FF",
           "#FECB52"
          ],
          "font": {
           "color": "#2a3f5f"
          },
          "geo": {
           "bgcolor": "white",
           "lakecolor": "white",
           "landcolor": "#E5ECF6",
           "showlakes": true,
           "showland": true,
           "subunitcolor": "white"
          },
          "hoverlabel": {
           "align": "left"
          },
          "hovermode": "closest",
          "mapbox": {
           "style": "light"
          },
          "paper_bgcolor": "white",
          "plot_bgcolor": "#E5ECF6",
          "polar": {
           "angularaxis": {
            "gridcolor": "white",
            "linecolor": "white",
            "ticks": ""
           },
           "bgcolor": "#E5ECF6",
           "radialaxis": {
            "gridcolor": "white",
            "linecolor": "white",
            "ticks": ""
           }
          },
          "scene": {
           "xaxis": {
            "backgroundcolor": "#E5ECF6",
            "gridcolor": "white",
            "gridwidth": 2,
            "linecolor": "white",
            "showbackground": true,
            "ticks": "",
            "zerolinecolor": "white"
           },
           "yaxis": {
            "backgroundcolor": "#E5ECF6",
            "gridcolor": "white",
            "gridwidth": 2,
            "linecolor": "white",
            "showbackground": true,
            "ticks": "",
            "zerolinecolor": "white"
           },
           "zaxis": {
            "backgroundcolor": "#E5ECF6",
            "gridcolor": "white",
            "gridwidth": 2,
            "linecolor": "white",
            "showbackground": true,
            "ticks": "",
            "zerolinecolor": "white"
           }
          },
          "shapedefaults": {
           "line": {
            "color": "#2a3f5f"
           }
          },
          "ternary": {
           "aaxis": {
            "gridcolor": "white",
            "linecolor": "white",
            "ticks": ""
           },
           "baxis": {
            "gridcolor": "white",
            "linecolor": "white",
            "ticks": ""
           },
           "bgcolor": "#E5ECF6",
           "caxis": {
            "gridcolor": "white",
            "linecolor": "white",
            "ticks": ""
           }
          },
          "title": {
           "x": 0.05
          },
          "xaxis": {
           "automargin": true,
           "gridcolor": "white",
           "linecolor": "white",
           "ticks": "",
           "title": {
            "standoff": 15
           },
           "zerolinecolor": "white",
           "zerolinewidth": 2
          },
          "yaxis": {
           "automargin": true,
           "gridcolor": "white",
           "linecolor": "white",
           "ticks": "",
           "title": {
            "standoff": 15
           },
           "zerolinecolor": "white",
           "zerolinewidth": 2
          }
         }
        },
        "xaxis": {
         "anchor": "y",
         "domain": [
          0,
          1
         ],
         "title": {
          "text": "Career Level:"
         }
        },
        "yaxis": {
         "anchor": "x",
         "domain": [
          0,
          1
         ],
         "title": {
          "text": "count"
         }
        }
       }
      },
      "text/html": [
       "<div>                            <div id=\"df3fb794-a4f6-456d-9f00-211f7f8a4a82\" class=\"plotly-graph-div\" style=\"height:525px; width:100%;\"></div>            <script type=\"text/javascript\">                require([\"plotly\"], function(Plotly) {                    window.PLOTLYENV=window.PLOTLYENV || {};                                    if (document.getElementById(\"df3fb794-a4f6-456d-9f00-211f7f8a4a82\")) {                    Plotly.newPlot(                        \"df3fb794-a4f6-456d-9f00-211f7f8a4a82\",                        [{\"alignmentgroup\":\"True\",\"hovertemplate\":\"Career Level:=%{x}<br>count=%{y}<extra></extra>\",\"legendgroup\":\"\",\"marker\":{\"color\":\"#636efa\",\"pattern\":{\"shape\":\"\"}},\"name\":\"\",\"offsetgroup\":\"\",\"orientation\":\"v\",\"showlegend\":false,\"textposition\":\"auto\",\"x\":[\"'Experienced (Non-Manager)'\",\"'Experienced (Non-Manager)'\",\"'Experienced (Non-Manager)'\",\"'Entry Level (Junior Level / Fresh Grad)'\",\"'Experienced (Non-Manager)'\",\"'Entry Level (Junior Level / Fresh Grad)'\",\"'Entry Level (Junior Level / Fresh Grad)'\",\"'Entry Level (Junior Level / Fresh Grad)'\",\"'Entry Level (Junior Level / Fresh Grad)'\",\"'Entry Level (Junior Level / Fresh Grad)'\",\"'Experienced (Non-Manager)'\",\"'Experienced (Non-Manager)'\",\"'Experienced (Non-Manager)'\",\"'Entry Level (Junior Level / Fresh Grad)'\",\"'Entry Level (Junior Level / Fresh Grad)'\",\"'Experienced (Non-Manager)'\",\"'Entry Level (Junior Level / Fresh Grad)'\",\"'Entry Level (Junior Level / Fresh Grad)'\",\"'Entry Level (Junior Level / Fresh Grad)'\",\"'Entry Level (Junior Level / Fresh Grad)'\",\"'Experienced (Non-Manager)'\",\"'Entry Level (Junior Level / Fresh Grad)'\",\"'Entry Level (Junior Level / Fresh Grad)'\",\"'Entry Level (Junior Level / Fresh Grad)'\",\"'Experienced (Non-Manager)'\",\"'Experienced (Non-Manager)'\",\"'Experienced (Non-Manager)'\",\"'Experienced (Non-Manager)'\",\"'Entry Level (Junior Level / Fresh Grad)'\",\"'Manager '\",\"'Manager '\",\"'Experienced (Non-Manager)'\",\"'Experienced (Non-Manager)'\",\"'Experienced (Non-Manager)'\",\"'Experienced (Non-Manager)'\",\"'Experienced (Non-Manager)'\",\"'Entry Level (Junior Level / Fresh Grad)'\",\"'Experienced (Non-Manager)'\",\"'Manager '\",\"'Experienced (Non-Manager)'\",\"'Experienced (Non-Manager)'\",\"'Experienced (Non-Manager)'\",\"'Experienced (Non-Manager)'\",\"'Experienced (Non-Manager)'\",\"'Experienced (Non-Manager)'\",\"'Student (Undergrad / Postgrad)'\",\"'Manager '\",\"'Entry Level (Junior Level / Fresh Grad)'\",\"'Experienced (Non-Manager)'\",\"'Entry Level (Junior Level / Fresh Grad)'\",\"'Experienced (Non-Manager)'\",\"'Entry Level (Junior Level / Fresh Grad)'\",\"'Experienced (Non-Manager)'\",\"'Experienced (Non-Manager)'\",\"'Experienced (Non-Manager)'\",\"'Manager '\",\"'Experienced (Non-Manager)'\",\"'Experienced (Non-Manager)'\",\"'Entry Level (Junior Level / Fresh Grad)'\",\"'Experienced (Non-Manager)'\",\"'Student (Undergrad / Postgrad)'\",\"'Experienced (Non-Manager)'\",\"'Entry Level (Junior Level / Fresh Grad)'\",\"'Experienced (Non-Manager)'\",\"'Experienced (Non-Manager)'\",\"'Experienced (Non-Manager)'\",\"'Experienced (Non-Manager)'\",\"'Entry Level (Junior Level / Fresh Grad)'\",\"'Experienced (Non-Manager)'\",\"'Student (Undergrad / Postgrad)'\",\"'Entry Level (Junior Level / Fresh Grad)'\",\"'Experienced (Non-Manager)'\",\"'Experienced (Non-Manager)'\",\"'Experienced (Non-Manager)'\",\"'Experienced (Non-Manager)'\",\"'Experienced (Non-Manager)'\",\"'Experienced (Non-Manager)'\",\"'Experienced (Non-Manager)'\",\"'Entry Level (Junior Level / Fresh Grad)'\",\"'Experienced (Non-Manager)'\",\"'Experienced (Non-Manager)'\",\"'Experienced (Non-Manager)'\",\"'Experienced (Non-Manager)'\",\"'Experienced (Non-Manager)'\",\"'Experienced (Non-Manager)'\",\"'Experienced (Non-Manager)'\",\"'Entry Level (Junior Level / Fresh Grad)'\",\"'Experienced (Non-Manager)'\",\"'Entry Level (Junior Level / Fresh Grad)'\",\"'Experienced (Non-Manager)'\",\"'Experienced (Non-Manager)'\",\"'Entry Level (Junior Level / Fresh Grad)'\",\"'Entry Level (Junior Level / Fresh Grad)'\",\"'Experienced (Non-Manager)'\",\"'Experienced (Non-Manager)'\",\"'Experienced (Non-Manager)'\",\"'Experienced (Non-Manager)'\",\"'Experienced (Non-Manager)'\",\"'Experienced (Non-Manager)'\",\"'Experienced (Non-Manager)'\",\"'Experienced (Non-Manager)'\",\"'Experienced (Non-Manager)'\",\"'Experienced (Non-Manager)'\",\"'Experienced (Non-Manager)'\",\"'Experienced (Non-Manager)'\",\"'Experienced (Non-Manager)'\",\"'Experienced (Non-Manager)'\",\"'Experienced (Non-Manager)'\",\"'Entry Level (Junior Level / Fresh Grad)'\",\"'Experienced (Non-Manager)'\",\"'Experienced (Non-Manager)'\",\"'Entry Level (Junior Level / Fresh Grad)'\",\"'Experienced (Non-Manager)'\",\"'Entry Level (Junior Level / Fresh Grad)'\",\"'Entry Level (Junior Level / Fresh Grad)'\",\"'Experienced (Non-Manager)'\",\"'Experienced (Non-Manager)'\",\"'Experienced (Non-Manager)'\",\"'Experienced (Non-Manager)'\",\"'Experienced (Non-Manager)'\",\"'Entry Level (Junior Level / Fresh Grad)'\",\"'Experienced (Non-Manager)'\",\"'Experienced (Non-Manager)'\",\"'Experienced (Non-Manager)'\",\"'Experienced (Non-Manager)'\",\"'Entry Level (Junior Level / Fresh Grad)'\",\"'Experienced (Non-Manager)'\",\"'Experienced (Non-Manager)'\",\"'Experienced (Non-Manager)'\",\"'Experienced (Non-Manager)'\",\"'Experienced (Non-Manager)'\",\"'Experienced (Non-Manager)'\",\"'Experienced (Non-Manager)'\",\"'Experienced (Non-Manager)'\",\"'Entry Level (Junior Level / Fresh Grad)'\",\"'Experienced (Non-Manager)'\",\"'Experienced (Non-Manager)'\",\"'Entry Level (Junior Level / Fresh Grad)'\",\"'Experienced (Non-Manager)'\",\"'Experienced (Non-Manager)'\",\"'Experienced (Non-Manager)'\",\"'Experienced (Non-Manager)'\",\"'Manager '\",\"'Experienced (Non-Manager)'\",\"'Experienced (Non-Manager)'\",\"'Entry Level (Junior Level / Fresh Grad)'\",\"'Experienced (Non-Manager)'\",\"'Entry Level (Junior Level / Fresh Grad)'\",\"'Entry Level (Junior Level / Fresh Grad)'\",\"'Experienced (Non-Manager)'\",\"'Experienced (Non-Manager)'\",\"'Experienced (Non-Manager)'\",\"'Experienced (Non-Manager)'\",\"'Experienced (Non-Manager)'\",\"'Experienced (Non-Manager)'\",\"'Experienced (Non-Manager)'\",\"'Experienced (Non-Manager)'\",\"'Entry Level (Junior Level / Fresh Grad)'\",\"'Experienced (Non-Manager)'\",\"'Experienced (Non-Manager)'\",\"'Entry Level (Junior Level / Fresh Grad)'\",\"'Manager '\",\"'Entry Level (Junior Level / Fresh Grad)'\",\"'Entry Level (Junior Level / Fresh Grad)'\",\"'Entry Level (Junior Level / Fresh Grad)'\",\"'Experienced (Non-Manager)'\",\"'Manager '\",\"'Entry Level (Junior Level / Fresh Grad)'\",\"'Experienced (Non-Manager)'\",\"'Entry Level (Junior Level / Fresh Grad)'\",\"'Experienced (Non-Manager)'\",\"'Entry Level (Junior Level / Fresh Grad)'\",\"'Experienced (Non-Manager)'\",\"'Experienced (Non-Manager)'\",\"'Experienced (Non-Manager)'\",\"'Experienced (Non-Manager)'\",\"'Experienced (Non-Manager)'\",\"'Experienced (Non-Manager)'\",\"'Entry Level (Junior Level / Fresh Grad)'\",\"'Experienced (Non-Manager)'\",\"'Manager '\",\"'Entry Level (Junior Level / Fresh Grad)'\",\"'Experienced (Non-Manager)'\",\"'Experienced (Non-Manager)'\",\"'Experienced (Non-Manager)'\",\"'Experienced (Non-Manager)'\",\"'Experienced (Non-Manager)'\",\"'Entry Level (Junior Level / Fresh Grad)'\",\"'Experienced (Non-Manager)'\",\"'Experienced (Non-Manager)'\",\"'Experienced (Non-Manager)'\",\"'Experienced (Non-Manager)'\",\"'Experienced (Non-Manager)'\",\"'Experienced (Non-Manager)'\",\"'Entry Level (Junior Level / Fresh Grad)'\",\"'Experienced (Non-Manager)'\",\"'Experienced (Non-Manager)'\",\"'Entry Level (Junior Level / Fresh Grad)'\",\"'Entry Level (Junior Level / Fresh Grad)'\",\"'Entry Level (Junior Level / Fresh Grad)'\",\"'Experienced (Non-Manager)'\",\"'Entry Level (Junior Level / Fresh Grad)'\",\"'Experienced (Non-Manager)'\",\"'Experienced (Non-Manager)'\",\"'Entry Level (Junior Level / Fresh Grad)'\",\"'Experienced (Non-Manager)'\",\"'Experienced (Non-Manager)'\",\"'Experienced (Non-Manager)'\",\"'Experienced (Non-Manager)'\",\"'Experienced (Non-Manager)'\",\"'Experienced (Non-Manager)'\",\"'Experienced (Non-Manager)'\",\"'Experienced (Non-Manager)'\",\"'Experienced (Non-Manager)'\",\"'Experienced (Non-Manager)'\",\"'Experienced (Non-Manager)'\",\"'Entry Level (Junior Level / Fresh Grad)'\",\"'Experienced (Non-Manager)'\",\"'Entry Level (Junior Level / Fresh Grad)'\",\"'Experienced (Non-Manager)'\",\"'Manager '\",\"'Experienced (Non-Manager)'\",\"'Experienced (Non-Manager)'\",\"'Experienced (Non-Manager)'\",\"'Experienced (Non-Manager)'\",\"'Entry Level (Junior Level / Fresh Grad)'\",\"'Experienced (Non-Manager)'\",\"'Experienced (Non-Manager)'\",\"'Entry Level (Junior Level / Fresh Grad)'\",\"'Manager '\",\"'Experienced (Non-Manager)'\",\"'Experienced (Non-Manager)'\",\"'Entry Level (Junior Level / Fresh Grad)'\",\"'Entry Level (Junior Level / Fresh Grad)'\",\"'Experienced (Non-Manager)'\",\"'Experienced (Non-Manager)'\",\"'Experienced (Non-Manager)'\",\"'Experienced (Non-Manager)'\",\"'Experienced (Non-Manager)'\",\"'Experienced (Non-Manager)'\",\"'Experienced (Non-Manager)'\",\"'Experienced (Non-Manager)'\",\"'Experienced (Non-Manager)'\",\"'Experienced (Non-Manager)'\",\"'Experienced (Non-Manager)'\",\"'Experienced (Non-Manager)'\",\"'Experienced (Non-Manager)'\",\"'Experienced (Non-Manager)'\",\"'Entry Level (Junior Level / Fresh Grad)'\"],\"xaxis\":\"x\",\"y\":[1,1,1,1,1,1,1,1,1,1,1,1,1,1,1,1,1,1,1,1,1,1,1,1,1,1,1,1,1,1,1,1,1,1,1,1,1,1,1,1,1,1,1,1,1,1,1,1,1,1,1,1,1,1,1,1,1,1,1,1,1,1,1,1,1,1,1,1,1,1,1,1,1,1,1,1,1,1,1,1,1,1,1,1,1,1,1,1,1,1,1,1,1,1,1,1,1,1,1,1,1,1,1,1,1,1,1,1,1,1,1,1,1,1,1,1,1,1,1,1,1,1,1,1,1,1,1,1,1,1,1,1,1,1,1,1,1,1,1,1,1,1,1,1,1,1,1,1,1,1,1,1,1,1,1,1,1,1,1,1,1,1,1,1,1,1,1,1,1,1,1,1,1,1,1,1,1,1,1,1,1,1,1,1,1,1,1,1,1,1,1,1,1,1,1,1,1,1,1,1,1,1,1,1,1,1,1,1,1,1,1,1,1,1,1,1,1,1,1,1,1,1,1,1,1,1,1,1,1,1,1,1,1,1,1,1,1,1,1,1,1,1,1,1,1,1,1,1,1],\"yaxis\":\"y\",\"type\":\"bar\"}],                        {\"template\":{\"data\":{\"bar\":[{\"error_x\":{\"color\":\"#2a3f5f\"},\"error_y\":{\"color\":\"#2a3f5f\"},\"marker\":{\"line\":{\"color\":\"#E5ECF6\",\"width\":0.5},\"pattern\":{\"fillmode\":\"overlay\",\"size\":10,\"solidity\":0.2}},\"type\":\"bar\"}],\"barpolar\":[{\"marker\":{\"line\":{\"color\":\"#E5ECF6\",\"width\":0.5},\"pattern\":{\"fillmode\":\"overlay\",\"size\":10,\"solidity\":0.2}},\"type\":\"barpolar\"}],\"carpet\":[{\"aaxis\":{\"endlinecolor\":\"#2a3f5f\",\"gridcolor\":\"white\",\"linecolor\":\"white\",\"minorgridcolor\":\"white\",\"startlinecolor\":\"#2a3f5f\"},\"baxis\":{\"endlinecolor\":\"#2a3f5f\",\"gridcolor\":\"white\",\"linecolor\":\"white\",\"minorgridcolor\":\"white\",\"startlinecolor\":\"#2a3f5f\"},\"type\":\"carpet\"}],\"choropleth\":[{\"colorbar\":{\"outlinewidth\":0,\"ticks\":\"\"},\"type\":\"choropleth\"}],\"contour\":[{\"colorbar\":{\"outlinewidth\":0,\"ticks\":\"\"},\"colorscale\":[[0.0,\"#0d0887\"],[0.1111111111111111,\"#46039f\"],[0.2222222222222222,\"#7201a8\"],[0.3333333333333333,\"#9c179e\"],[0.4444444444444444,\"#bd3786\"],[0.5555555555555556,\"#d8576b\"],[0.6666666666666666,\"#ed7953\"],[0.7777777777777778,\"#fb9f3a\"],[0.8888888888888888,\"#fdca26\"],[1.0,\"#f0f921\"]],\"type\":\"contour\"}],\"contourcarpet\":[{\"colorbar\":{\"outlinewidth\":0,\"ticks\":\"\"},\"type\":\"contourcarpet\"}],\"heatmap\":[{\"colorbar\":{\"outlinewidth\":0,\"ticks\":\"\"},\"colorscale\":[[0.0,\"#0d0887\"],[0.1111111111111111,\"#46039f\"],[0.2222222222222222,\"#7201a8\"],[0.3333333333333333,\"#9c179e\"],[0.4444444444444444,\"#bd3786\"],[0.5555555555555556,\"#d8576b\"],[0.6666666666666666,\"#ed7953\"],[0.7777777777777778,\"#fb9f3a\"],[0.8888888888888888,\"#fdca26\"],[1.0,\"#f0f921\"]],\"type\":\"heatmap\"}],\"heatmapgl\":[{\"colorbar\":{\"outlinewidth\":0,\"ticks\":\"\"},\"colorscale\":[[0.0,\"#0d0887\"],[0.1111111111111111,\"#46039f\"],[0.2222222222222222,\"#7201a8\"],[0.3333333333333333,\"#9c179e\"],[0.4444444444444444,\"#bd3786\"],[0.5555555555555556,\"#d8576b\"],[0.6666666666666666,\"#ed7953\"],[0.7777777777777778,\"#fb9f3a\"],[0.8888888888888888,\"#fdca26\"],[1.0,\"#f0f921\"]],\"type\":\"heatmapgl\"}],\"histogram\":[{\"marker\":{\"pattern\":{\"fillmode\":\"overlay\",\"size\":10,\"solidity\":0.2}},\"type\":\"histogram\"}],\"histogram2d\":[{\"colorbar\":{\"outlinewidth\":0,\"ticks\":\"\"},\"colorscale\":[[0.0,\"#0d0887\"],[0.1111111111111111,\"#46039f\"],[0.2222222222222222,\"#7201a8\"],[0.3333333333333333,\"#9c179e\"],[0.4444444444444444,\"#bd3786\"],[0.5555555555555556,\"#d8576b\"],[0.6666666666666666,\"#ed7953\"],[0.7777777777777778,\"#fb9f3a\"],[0.8888888888888888,\"#fdca26\"],[1.0,\"#f0f921\"]],\"type\":\"histogram2d\"}],\"histogram2dcontour\":[{\"colorbar\":{\"outlinewidth\":0,\"ticks\":\"\"},\"colorscale\":[[0.0,\"#0d0887\"],[0.1111111111111111,\"#46039f\"],[0.2222222222222222,\"#7201a8\"],[0.3333333333333333,\"#9c179e\"],[0.4444444444444444,\"#bd3786\"],[0.5555555555555556,\"#d8576b\"],[0.6666666666666666,\"#ed7953\"],[0.7777777777777778,\"#fb9f3a\"],[0.8888888888888888,\"#fdca26\"],[1.0,\"#f0f921\"]],\"type\":\"histogram2dcontour\"}],\"mesh3d\":[{\"colorbar\":{\"outlinewidth\":0,\"ticks\":\"\"},\"type\":\"mesh3d\"}],\"parcoords\":[{\"line\":{\"colorbar\":{\"outlinewidth\":0,\"ticks\":\"\"}},\"type\":\"parcoords\"}],\"pie\":[{\"automargin\":true,\"type\":\"pie\"}],\"scatter\":[{\"marker\":{\"colorbar\":{\"outlinewidth\":0,\"ticks\":\"\"}},\"type\":\"scatter\"}],\"scatter3d\":[{\"line\":{\"colorbar\":{\"outlinewidth\":0,\"ticks\":\"\"}},\"marker\":{\"colorbar\":{\"outlinewidth\":0,\"ticks\":\"\"}},\"type\":\"scatter3d\"}],\"scattercarpet\":[{\"marker\":{\"colorbar\":{\"outlinewidth\":0,\"ticks\":\"\"}},\"type\":\"scattercarpet\"}],\"scattergeo\":[{\"marker\":{\"colorbar\":{\"outlinewidth\":0,\"ticks\":\"\"}},\"type\":\"scattergeo\"}],\"scattergl\":[{\"marker\":{\"colorbar\":{\"outlinewidth\":0,\"ticks\":\"\"}},\"type\":\"scattergl\"}],\"scattermapbox\":[{\"marker\":{\"colorbar\":{\"outlinewidth\":0,\"ticks\":\"\"}},\"type\":\"scattermapbox\"}],\"scatterpolar\":[{\"marker\":{\"colorbar\":{\"outlinewidth\":0,\"ticks\":\"\"}},\"type\":\"scatterpolar\"}],\"scatterpolargl\":[{\"marker\":{\"colorbar\":{\"outlinewidth\":0,\"ticks\":\"\"}},\"type\":\"scatterpolargl\"}],\"scatterternary\":[{\"marker\":{\"colorbar\":{\"outlinewidth\":0,\"ticks\":\"\"}},\"type\":\"scatterternary\"}],\"surface\":[{\"colorbar\":{\"outlinewidth\":0,\"ticks\":\"\"},\"colorscale\":[[0.0,\"#0d0887\"],[0.1111111111111111,\"#46039f\"],[0.2222222222222222,\"#7201a8\"],[0.3333333333333333,\"#9c179e\"],[0.4444444444444444,\"#bd3786\"],[0.5555555555555556,\"#d8576b\"],[0.6666666666666666,\"#ed7953\"],[0.7777777777777778,\"#fb9f3a\"],[0.8888888888888888,\"#fdca26\"],[1.0,\"#f0f921\"]],\"type\":\"surface\"}],\"table\":[{\"cells\":{\"fill\":{\"color\":\"#EBF0F8\"},\"line\":{\"color\":\"white\"}},\"header\":{\"fill\":{\"color\":\"#C8D4E3\"},\"line\":{\"color\":\"white\"}},\"type\":\"table\"}]},\"layout\":{\"annotationdefaults\":{\"arrowcolor\":\"#2a3f5f\",\"arrowhead\":0,\"arrowwidth\":1},\"autotypenumbers\":\"strict\",\"coloraxis\":{\"colorbar\":{\"outlinewidth\":0,\"ticks\":\"\"}},\"colorscale\":{\"diverging\":[[0,\"#8e0152\"],[0.1,\"#c51b7d\"],[0.2,\"#de77ae\"],[0.3,\"#f1b6da\"],[0.4,\"#fde0ef\"],[0.5,\"#f7f7f7\"],[0.6,\"#e6f5d0\"],[0.7,\"#b8e186\"],[0.8,\"#7fbc41\"],[0.9,\"#4d9221\"],[1,\"#276419\"]],\"sequential\":[[0.0,\"#0d0887\"],[0.1111111111111111,\"#46039f\"],[0.2222222222222222,\"#7201a8\"],[0.3333333333333333,\"#9c179e\"],[0.4444444444444444,\"#bd3786\"],[0.5555555555555556,\"#d8576b\"],[0.6666666666666666,\"#ed7953\"],[0.7777777777777778,\"#fb9f3a\"],[0.8888888888888888,\"#fdca26\"],[1.0,\"#f0f921\"]],\"sequentialminus\":[[0.0,\"#0d0887\"],[0.1111111111111111,\"#46039f\"],[0.2222222222222222,\"#7201a8\"],[0.3333333333333333,\"#9c179e\"],[0.4444444444444444,\"#bd3786\"],[0.5555555555555556,\"#d8576b\"],[0.6666666666666666,\"#ed7953\"],[0.7777777777777778,\"#fb9f3a\"],[0.8888888888888888,\"#fdca26\"],[1.0,\"#f0f921\"]]},\"colorway\":[\"#636efa\",\"#EF553B\",\"#00cc96\",\"#ab63fa\",\"#FFA15A\",\"#19d3f3\",\"#FF6692\",\"#B6E880\",\"#FF97FF\",\"#FECB52\"],\"font\":{\"color\":\"#2a3f5f\"},\"geo\":{\"bgcolor\":\"white\",\"lakecolor\":\"white\",\"landcolor\":\"#E5ECF6\",\"showlakes\":true,\"showland\":true,\"subunitcolor\":\"white\"},\"hoverlabel\":{\"align\":\"left\"},\"hovermode\":\"closest\",\"mapbox\":{\"style\":\"light\"},\"paper_bgcolor\":\"white\",\"plot_bgcolor\":\"#E5ECF6\",\"polar\":{\"angularaxis\":{\"gridcolor\":\"white\",\"linecolor\":\"white\",\"ticks\":\"\"},\"bgcolor\":\"#E5ECF6\",\"radialaxis\":{\"gridcolor\":\"white\",\"linecolor\":\"white\",\"ticks\":\"\"}},\"scene\":{\"xaxis\":{\"backgroundcolor\":\"#E5ECF6\",\"gridcolor\":\"white\",\"gridwidth\":2,\"linecolor\":\"white\",\"showbackground\":true,\"ticks\":\"\",\"zerolinecolor\":\"white\"},\"yaxis\":{\"backgroundcolor\":\"#E5ECF6\",\"gridcolor\":\"white\",\"gridwidth\":2,\"linecolor\":\"white\",\"showbackground\":true,\"ticks\":\"\",\"zerolinecolor\":\"white\"},\"zaxis\":{\"backgroundcolor\":\"#E5ECF6\",\"gridcolor\":\"white\",\"gridwidth\":2,\"linecolor\":\"white\",\"showbackground\":true,\"ticks\":\"\",\"zerolinecolor\":\"white\"}},\"shapedefaults\":{\"line\":{\"color\":\"#2a3f5f\"}},\"ternary\":{\"aaxis\":{\"gridcolor\":\"white\",\"linecolor\":\"white\",\"ticks\":\"\"},\"baxis\":{\"gridcolor\":\"white\",\"linecolor\":\"white\",\"ticks\":\"\"},\"bgcolor\":\"#E5ECF6\",\"caxis\":{\"gridcolor\":\"white\",\"linecolor\":\"white\",\"ticks\":\"\"}},\"title\":{\"x\":0.05},\"xaxis\":{\"automargin\":true,\"gridcolor\":\"white\",\"linecolor\":\"white\",\"ticks\":\"\",\"title\":{\"standoff\":15},\"zerolinecolor\":\"white\",\"zerolinewidth\":2},\"yaxis\":{\"automargin\":true,\"gridcolor\":\"white\",\"linecolor\":\"white\",\"ticks\":\"\",\"title\":{\"standoff\":15},\"zerolinecolor\":\"white\",\"zerolinewidth\":2}}},\"xaxis\":{\"anchor\":\"y\",\"domain\":[0.0,1.0],\"title\":{\"text\":\"Career Level:\"}},\"yaxis\":{\"anchor\":\"x\",\"domain\":[0.0,1.0],\"title\":{\"text\":\"count\"}},\"legend\":{\"tracegroupgap\":0},\"margin\":{\"t\":60},\"barmode\":\"relative\"},                        {\"responsive\": true}                    ).then(function(){\n",
       "                            \n",
       "var gd = document.getElementById('df3fb794-a4f6-456d-9f00-211f7f8a4a82');\n",
       "var x = new MutationObserver(function (mutations, observer) {{\n",
       "        var display = window.getComputedStyle(gd).display;\n",
       "        if (!display || display === 'none') {{\n",
       "            console.log([gd, 'removed!']);\n",
       "            Plotly.purge(gd);\n",
       "            observer.disconnect();\n",
       "        }}\n",
       "}});\n",
       "\n",
       "// Listen for the removal of the full notebook cells\n",
       "var notebookContainer = gd.closest('#notebook-container');\n",
       "if (notebookContainer) {{\n",
       "    x.observe(notebookContainer, {childList: true});\n",
       "}}\n",
       "\n",
       "// Listen for the clearing of the current output cell\n",
       "var outputEl = gd.closest('.output');\n",
       "if (outputEl) {{\n",
       "    x.observe(outputEl, {childList: true});\n",
       "}}\n",
       "\n",
       "                        })                };                });            </script>        </div>"
      ]
     },
     "metadata": {},
     "output_type": "display_data"
    }
   ],
   "source": [
    "px.bar(Jobs_df,x= 'Career Level:')"
   ]
  },
  {
   "cell_type": "code",
   "execution_count": 154,
   "id": "1faf7f7d",
   "metadata": {},
   "outputs": [
    {
     "data": {
      "application/vnd.plotly.v1+json": {
       "config": {
        "plotlyServerURL": "https://plot.ly"
       },
       "data": [
        {
         "domain": {
          "x": [
           0,
           1
          ],
          "y": [
           0,
           1
          ]
         },
         "hovertemplate": "Career Level:=%{label}<extra></extra>",
         "labels": [
          "'Experienced (Non-Manager)'",
          "'Experienced (Non-Manager)'",
          "'Experienced (Non-Manager)'",
          "'Entry Level (Junior Level / Fresh Grad)'",
          "'Experienced (Non-Manager)'",
          "'Entry Level (Junior Level / Fresh Grad)'",
          "'Entry Level (Junior Level / Fresh Grad)'",
          "'Entry Level (Junior Level / Fresh Grad)'",
          "'Entry Level (Junior Level / Fresh Grad)'",
          "'Entry Level (Junior Level / Fresh Grad)'",
          "'Experienced (Non-Manager)'",
          "'Experienced (Non-Manager)'",
          "'Experienced (Non-Manager)'",
          "'Entry Level (Junior Level / Fresh Grad)'",
          "'Entry Level (Junior Level / Fresh Grad)'",
          "'Experienced (Non-Manager)'",
          "'Entry Level (Junior Level / Fresh Grad)'",
          "'Entry Level (Junior Level / Fresh Grad)'",
          "'Entry Level (Junior Level / Fresh Grad)'",
          "'Entry Level (Junior Level / Fresh Grad)'",
          "'Experienced (Non-Manager)'",
          "'Entry Level (Junior Level / Fresh Grad)'",
          "'Entry Level (Junior Level / Fresh Grad)'",
          "'Entry Level (Junior Level / Fresh Grad)'",
          "'Experienced (Non-Manager)'",
          "'Experienced (Non-Manager)'",
          "'Experienced (Non-Manager)'",
          "'Experienced (Non-Manager)'",
          "'Entry Level (Junior Level / Fresh Grad)'",
          "'Manager '",
          "'Manager '",
          "'Experienced (Non-Manager)'",
          "'Experienced (Non-Manager)'",
          "'Experienced (Non-Manager)'",
          "'Experienced (Non-Manager)'",
          "'Experienced (Non-Manager)'",
          "'Entry Level (Junior Level / Fresh Grad)'",
          "'Experienced (Non-Manager)'",
          "'Manager '",
          "'Experienced (Non-Manager)'",
          "'Experienced (Non-Manager)'",
          "'Experienced (Non-Manager)'",
          "'Experienced (Non-Manager)'",
          "'Experienced (Non-Manager)'",
          "'Experienced (Non-Manager)'",
          "'Student (Undergrad / Postgrad)'",
          "'Manager '",
          "'Entry Level (Junior Level / Fresh Grad)'",
          "'Experienced (Non-Manager)'",
          "'Entry Level (Junior Level / Fresh Grad)'",
          "'Experienced (Non-Manager)'",
          "'Entry Level (Junior Level / Fresh Grad)'",
          "'Experienced (Non-Manager)'",
          "'Experienced (Non-Manager)'",
          "'Experienced (Non-Manager)'",
          "'Manager '",
          "'Experienced (Non-Manager)'",
          "'Experienced (Non-Manager)'",
          "'Entry Level (Junior Level / Fresh Grad)'",
          "'Experienced (Non-Manager)'",
          "'Student (Undergrad / Postgrad)'",
          "'Experienced (Non-Manager)'",
          "'Entry Level (Junior Level / Fresh Grad)'",
          "'Experienced (Non-Manager)'",
          "'Experienced (Non-Manager)'",
          "'Experienced (Non-Manager)'",
          "'Experienced (Non-Manager)'",
          "'Entry Level (Junior Level / Fresh Grad)'",
          "'Experienced (Non-Manager)'",
          "'Student (Undergrad / Postgrad)'",
          "'Entry Level (Junior Level / Fresh Grad)'",
          "'Experienced (Non-Manager)'",
          "'Experienced (Non-Manager)'",
          "'Experienced (Non-Manager)'",
          "'Experienced (Non-Manager)'",
          "'Experienced (Non-Manager)'",
          "'Experienced (Non-Manager)'",
          "'Experienced (Non-Manager)'",
          "'Entry Level (Junior Level / Fresh Grad)'",
          "'Experienced (Non-Manager)'",
          "'Experienced (Non-Manager)'",
          "'Experienced (Non-Manager)'",
          "'Experienced (Non-Manager)'",
          "'Experienced (Non-Manager)'",
          "'Experienced (Non-Manager)'",
          "'Experienced (Non-Manager)'",
          "'Entry Level (Junior Level / Fresh Grad)'",
          "'Experienced (Non-Manager)'",
          "'Entry Level (Junior Level / Fresh Grad)'",
          "'Experienced (Non-Manager)'",
          "'Experienced (Non-Manager)'",
          "'Entry Level (Junior Level / Fresh Grad)'",
          "'Entry Level (Junior Level / Fresh Grad)'",
          "'Experienced (Non-Manager)'",
          "'Experienced (Non-Manager)'",
          "'Experienced (Non-Manager)'",
          "'Experienced (Non-Manager)'",
          "'Experienced (Non-Manager)'",
          "'Experienced (Non-Manager)'",
          "'Experienced (Non-Manager)'",
          "'Experienced (Non-Manager)'",
          "'Experienced (Non-Manager)'",
          "'Experienced (Non-Manager)'",
          "'Experienced (Non-Manager)'",
          "'Experienced (Non-Manager)'",
          "'Experienced (Non-Manager)'",
          "'Experienced (Non-Manager)'",
          "'Experienced (Non-Manager)'",
          "'Entry Level (Junior Level / Fresh Grad)'",
          "'Experienced (Non-Manager)'",
          "'Experienced (Non-Manager)'",
          "'Entry Level (Junior Level / Fresh Grad)'",
          "'Experienced (Non-Manager)'",
          "'Entry Level (Junior Level / Fresh Grad)'",
          "'Entry Level (Junior Level / Fresh Grad)'",
          "'Experienced (Non-Manager)'",
          "'Experienced (Non-Manager)'",
          "'Experienced (Non-Manager)'",
          "'Experienced (Non-Manager)'",
          "'Experienced (Non-Manager)'",
          "'Entry Level (Junior Level / Fresh Grad)'",
          "'Experienced (Non-Manager)'",
          "'Experienced (Non-Manager)'",
          "'Experienced (Non-Manager)'",
          "'Experienced (Non-Manager)'",
          "'Entry Level (Junior Level / Fresh Grad)'",
          "'Experienced (Non-Manager)'",
          "'Experienced (Non-Manager)'",
          "'Experienced (Non-Manager)'",
          "'Experienced (Non-Manager)'",
          "'Experienced (Non-Manager)'",
          "'Experienced (Non-Manager)'",
          "'Experienced (Non-Manager)'",
          "'Experienced (Non-Manager)'",
          "'Entry Level (Junior Level / Fresh Grad)'",
          "'Experienced (Non-Manager)'",
          "'Experienced (Non-Manager)'",
          "'Entry Level (Junior Level / Fresh Grad)'",
          "'Experienced (Non-Manager)'",
          "'Experienced (Non-Manager)'",
          "'Experienced (Non-Manager)'",
          "'Experienced (Non-Manager)'",
          "'Manager '",
          "'Experienced (Non-Manager)'",
          "'Experienced (Non-Manager)'",
          "'Entry Level (Junior Level / Fresh Grad)'",
          "'Experienced (Non-Manager)'",
          "'Entry Level (Junior Level / Fresh Grad)'",
          "'Entry Level (Junior Level / Fresh Grad)'",
          "'Experienced (Non-Manager)'",
          "'Experienced (Non-Manager)'",
          "'Experienced (Non-Manager)'",
          "'Experienced (Non-Manager)'",
          "'Experienced (Non-Manager)'",
          "'Experienced (Non-Manager)'",
          "'Experienced (Non-Manager)'",
          "'Experienced (Non-Manager)'",
          "'Entry Level (Junior Level / Fresh Grad)'",
          "'Experienced (Non-Manager)'",
          "'Experienced (Non-Manager)'",
          "'Entry Level (Junior Level / Fresh Grad)'",
          "'Manager '",
          "'Entry Level (Junior Level / Fresh Grad)'",
          "'Entry Level (Junior Level / Fresh Grad)'",
          "'Entry Level (Junior Level / Fresh Grad)'",
          "'Experienced (Non-Manager)'",
          "'Manager '",
          "'Entry Level (Junior Level / Fresh Grad)'",
          "'Experienced (Non-Manager)'",
          "'Entry Level (Junior Level / Fresh Grad)'",
          "'Experienced (Non-Manager)'",
          "'Entry Level (Junior Level / Fresh Grad)'",
          "'Experienced (Non-Manager)'",
          "'Experienced (Non-Manager)'",
          "'Experienced (Non-Manager)'",
          "'Experienced (Non-Manager)'",
          "'Experienced (Non-Manager)'",
          "'Experienced (Non-Manager)'",
          "'Entry Level (Junior Level / Fresh Grad)'",
          "'Experienced (Non-Manager)'",
          "'Manager '",
          "'Entry Level (Junior Level / Fresh Grad)'",
          "'Experienced (Non-Manager)'",
          "'Experienced (Non-Manager)'",
          "'Experienced (Non-Manager)'",
          "'Experienced (Non-Manager)'",
          "'Experienced (Non-Manager)'",
          "'Entry Level (Junior Level / Fresh Grad)'",
          "'Experienced (Non-Manager)'",
          "'Experienced (Non-Manager)'",
          "'Experienced (Non-Manager)'",
          "'Experienced (Non-Manager)'",
          "'Experienced (Non-Manager)'",
          "'Experienced (Non-Manager)'",
          "'Entry Level (Junior Level / Fresh Grad)'",
          "'Experienced (Non-Manager)'",
          "'Experienced (Non-Manager)'",
          "'Entry Level (Junior Level / Fresh Grad)'",
          "'Entry Level (Junior Level / Fresh Grad)'",
          "'Entry Level (Junior Level / Fresh Grad)'",
          "'Experienced (Non-Manager)'",
          "'Entry Level (Junior Level / Fresh Grad)'",
          "'Experienced (Non-Manager)'",
          "'Experienced (Non-Manager)'",
          "'Entry Level (Junior Level / Fresh Grad)'",
          "'Experienced (Non-Manager)'",
          "'Experienced (Non-Manager)'",
          "'Experienced (Non-Manager)'",
          "'Experienced (Non-Manager)'",
          "'Experienced (Non-Manager)'",
          "'Experienced (Non-Manager)'",
          "'Experienced (Non-Manager)'",
          "'Experienced (Non-Manager)'",
          "'Experienced (Non-Manager)'",
          "'Experienced (Non-Manager)'",
          "'Experienced (Non-Manager)'",
          "'Entry Level (Junior Level / Fresh Grad)'",
          "'Experienced (Non-Manager)'",
          "'Entry Level (Junior Level / Fresh Grad)'",
          "'Experienced (Non-Manager)'",
          "'Manager '",
          "'Experienced (Non-Manager)'",
          "'Experienced (Non-Manager)'",
          "'Experienced (Non-Manager)'",
          "'Experienced (Non-Manager)'",
          "'Entry Level (Junior Level / Fresh Grad)'",
          "'Experienced (Non-Manager)'",
          "'Experienced (Non-Manager)'",
          "'Entry Level (Junior Level / Fresh Grad)'",
          "'Manager '",
          "'Experienced (Non-Manager)'",
          "'Experienced (Non-Manager)'",
          "'Entry Level (Junior Level / Fresh Grad)'",
          "'Entry Level (Junior Level / Fresh Grad)'",
          "'Experienced (Non-Manager)'",
          "'Experienced (Non-Manager)'",
          "'Experienced (Non-Manager)'",
          "'Experienced (Non-Manager)'",
          "'Experienced (Non-Manager)'",
          "'Experienced (Non-Manager)'",
          "'Experienced (Non-Manager)'",
          "'Experienced (Non-Manager)'",
          "'Experienced (Non-Manager)'",
          "'Experienced (Non-Manager)'",
          "'Experienced (Non-Manager)'",
          "'Experienced (Non-Manager)'",
          "'Experienced (Non-Manager)'",
          "'Experienced (Non-Manager)'",
          "'Entry Level (Junior Level / Fresh Grad)'"
         ],
         "legendgroup": "",
         "name": "",
         "showlegend": true,
         "type": "pie"
        }
       ],
       "layout": {
        "legend": {
         "tracegroupgap": 0
        },
        "margin": {
         "t": 60
        },
        "template": {
         "data": {
          "bar": [
           {
            "error_x": {
             "color": "#2a3f5f"
            },
            "error_y": {
             "color": "#2a3f5f"
            },
            "marker": {
             "line": {
              "color": "#E5ECF6",
              "width": 0.5
             },
             "pattern": {
              "fillmode": "overlay",
              "size": 10,
              "solidity": 0.2
             }
            },
            "type": "bar"
           }
          ],
          "barpolar": [
           {
            "marker": {
             "line": {
              "color": "#E5ECF6",
              "width": 0.5
             },
             "pattern": {
              "fillmode": "overlay",
              "size": 10,
              "solidity": 0.2
             }
            },
            "type": "barpolar"
           }
          ],
          "carpet": [
           {
            "aaxis": {
             "endlinecolor": "#2a3f5f",
             "gridcolor": "white",
             "linecolor": "white",
             "minorgridcolor": "white",
             "startlinecolor": "#2a3f5f"
            },
            "baxis": {
             "endlinecolor": "#2a3f5f",
             "gridcolor": "white",
             "linecolor": "white",
             "minorgridcolor": "white",
             "startlinecolor": "#2a3f5f"
            },
            "type": "carpet"
           }
          ],
          "choropleth": [
           {
            "colorbar": {
             "outlinewidth": 0,
             "ticks": ""
            },
            "type": "choropleth"
           }
          ],
          "contour": [
           {
            "colorbar": {
             "outlinewidth": 0,
             "ticks": ""
            },
            "colorscale": [
             [
              0,
              "#0d0887"
             ],
             [
              0.1111111111111111,
              "#46039f"
             ],
             [
              0.2222222222222222,
              "#7201a8"
             ],
             [
              0.3333333333333333,
              "#9c179e"
             ],
             [
              0.4444444444444444,
              "#bd3786"
             ],
             [
              0.5555555555555556,
              "#d8576b"
             ],
             [
              0.6666666666666666,
              "#ed7953"
             ],
             [
              0.7777777777777778,
              "#fb9f3a"
             ],
             [
              0.8888888888888888,
              "#fdca26"
             ],
             [
              1,
              "#f0f921"
             ]
            ],
            "type": "contour"
           }
          ],
          "contourcarpet": [
           {
            "colorbar": {
             "outlinewidth": 0,
             "ticks": ""
            },
            "type": "contourcarpet"
           }
          ],
          "heatmap": [
           {
            "colorbar": {
             "outlinewidth": 0,
             "ticks": ""
            },
            "colorscale": [
             [
              0,
              "#0d0887"
             ],
             [
              0.1111111111111111,
              "#46039f"
             ],
             [
              0.2222222222222222,
              "#7201a8"
             ],
             [
              0.3333333333333333,
              "#9c179e"
             ],
             [
              0.4444444444444444,
              "#bd3786"
             ],
             [
              0.5555555555555556,
              "#d8576b"
             ],
             [
              0.6666666666666666,
              "#ed7953"
             ],
             [
              0.7777777777777778,
              "#fb9f3a"
             ],
             [
              0.8888888888888888,
              "#fdca26"
             ],
             [
              1,
              "#f0f921"
             ]
            ],
            "type": "heatmap"
           }
          ],
          "heatmapgl": [
           {
            "colorbar": {
             "outlinewidth": 0,
             "ticks": ""
            },
            "colorscale": [
             [
              0,
              "#0d0887"
             ],
             [
              0.1111111111111111,
              "#46039f"
             ],
             [
              0.2222222222222222,
              "#7201a8"
             ],
             [
              0.3333333333333333,
              "#9c179e"
             ],
             [
              0.4444444444444444,
              "#bd3786"
             ],
             [
              0.5555555555555556,
              "#d8576b"
             ],
             [
              0.6666666666666666,
              "#ed7953"
             ],
             [
              0.7777777777777778,
              "#fb9f3a"
             ],
             [
              0.8888888888888888,
              "#fdca26"
             ],
             [
              1,
              "#f0f921"
             ]
            ],
            "type": "heatmapgl"
           }
          ],
          "histogram": [
           {
            "marker": {
             "pattern": {
              "fillmode": "overlay",
              "size": 10,
              "solidity": 0.2
             }
            },
            "type": "histogram"
           }
          ],
          "histogram2d": [
           {
            "colorbar": {
             "outlinewidth": 0,
             "ticks": ""
            },
            "colorscale": [
             [
              0,
              "#0d0887"
             ],
             [
              0.1111111111111111,
              "#46039f"
             ],
             [
              0.2222222222222222,
              "#7201a8"
             ],
             [
              0.3333333333333333,
              "#9c179e"
             ],
             [
              0.4444444444444444,
              "#bd3786"
             ],
             [
              0.5555555555555556,
              "#d8576b"
             ],
             [
              0.6666666666666666,
              "#ed7953"
             ],
             [
              0.7777777777777778,
              "#fb9f3a"
             ],
             [
              0.8888888888888888,
              "#fdca26"
             ],
             [
              1,
              "#f0f921"
             ]
            ],
            "type": "histogram2d"
           }
          ],
          "histogram2dcontour": [
           {
            "colorbar": {
             "outlinewidth": 0,
             "ticks": ""
            },
            "colorscale": [
             [
              0,
              "#0d0887"
             ],
             [
              0.1111111111111111,
              "#46039f"
             ],
             [
              0.2222222222222222,
              "#7201a8"
             ],
             [
              0.3333333333333333,
              "#9c179e"
             ],
             [
              0.4444444444444444,
              "#bd3786"
             ],
             [
              0.5555555555555556,
              "#d8576b"
             ],
             [
              0.6666666666666666,
              "#ed7953"
             ],
             [
              0.7777777777777778,
              "#fb9f3a"
             ],
             [
              0.8888888888888888,
              "#fdca26"
             ],
             [
              1,
              "#f0f921"
             ]
            ],
            "type": "histogram2dcontour"
           }
          ],
          "mesh3d": [
           {
            "colorbar": {
             "outlinewidth": 0,
             "ticks": ""
            },
            "type": "mesh3d"
           }
          ],
          "parcoords": [
           {
            "line": {
             "colorbar": {
              "outlinewidth": 0,
              "ticks": ""
             }
            },
            "type": "parcoords"
           }
          ],
          "pie": [
           {
            "automargin": true,
            "type": "pie"
           }
          ],
          "scatter": [
           {
            "marker": {
             "colorbar": {
              "outlinewidth": 0,
              "ticks": ""
             }
            },
            "type": "scatter"
           }
          ],
          "scatter3d": [
           {
            "line": {
             "colorbar": {
              "outlinewidth": 0,
              "ticks": ""
             }
            },
            "marker": {
             "colorbar": {
              "outlinewidth": 0,
              "ticks": ""
             }
            },
            "type": "scatter3d"
           }
          ],
          "scattercarpet": [
           {
            "marker": {
             "colorbar": {
              "outlinewidth": 0,
              "ticks": ""
             }
            },
            "type": "scattercarpet"
           }
          ],
          "scattergeo": [
           {
            "marker": {
             "colorbar": {
              "outlinewidth": 0,
              "ticks": ""
             }
            },
            "type": "scattergeo"
           }
          ],
          "scattergl": [
           {
            "marker": {
             "colorbar": {
              "outlinewidth": 0,
              "ticks": ""
             }
            },
            "type": "scattergl"
           }
          ],
          "scattermapbox": [
           {
            "marker": {
             "colorbar": {
              "outlinewidth": 0,
              "ticks": ""
             }
            },
            "type": "scattermapbox"
           }
          ],
          "scatterpolar": [
           {
            "marker": {
             "colorbar": {
              "outlinewidth": 0,
              "ticks": ""
             }
            },
            "type": "scatterpolar"
           }
          ],
          "scatterpolargl": [
           {
            "marker": {
             "colorbar": {
              "outlinewidth": 0,
              "ticks": ""
             }
            },
            "type": "scatterpolargl"
           }
          ],
          "scatterternary": [
           {
            "marker": {
             "colorbar": {
              "outlinewidth": 0,
              "ticks": ""
             }
            },
            "type": "scatterternary"
           }
          ],
          "surface": [
           {
            "colorbar": {
             "outlinewidth": 0,
             "ticks": ""
            },
            "colorscale": [
             [
              0,
              "#0d0887"
             ],
             [
              0.1111111111111111,
              "#46039f"
             ],
             [
              0.2222222222222222,
              "#7201a8"
             ],
             [
              0.3333333333333333,
              "#9c179e"
             ],
             [
              0.4444444444444444,
              "#bd3786"
             ],
             [
              0.5555555555555556,
              "#d8576b"
             ],
             [
              0.6666666666666666,
              "#ed7953"
             ],
             [
              0.7777777777777778,
              "#fb9f3a"
             ],
             [
              0.8888888888888888,
              "#fdca26"
             ],
             [
              1,
              "#f0f921"
             ]
            ],
            "type": "surface"
           }
          ],
          "table": [
           {
            "cells": {
             "fill": {
              "color": "#EBF0F8"
             },
             "line": {
              "color": "white"
             }
            },
            "header": {
             "fill": {
              "color": "#C8D4E3"
             },
             "line": {
              "color": "white"
             }
            },
            "type": "table"
           }
          ]
         },
         "layout": {
          "annotationdefaults": {
           "arrowcolor": "#2a3f5f",
           "arrowhead": 0,
           "arrowwidth": 1
          },
          "autotypenumbers": "strict",
          "coloraxis": {
           "colorbar": {
            "outlinewidth": 0,
            "ticks": ""
           }
          },
          "colorscale": {
           "diverging": [
            [
             0,
             "#8e0152"
            ],
            [
             0.1,
             "#c51b7d"
            ],
            [
             0.2,
             "#de77ae"
            ],
            [
             0.3,
             "#f1b6da"
            ],
            [
             0.4,
             "#fde0ef"
            ],
            [
             0.5,
             "#f7f7f7"
            ],
            [
             0.6,
             "#e6f5d0"
            ],
            [
             0.7,
             "#b8e186"
            ],
            [
             0.8,
             "#7fbc41"
            ],
            [
             0.9,
             "#4d9221"
            ],
            [
             1,
             "#276419"
            ]
           ],
           "sequential": [
            [
             0,
             "#0d0887"
            ],
            [
             0.1111111111111111,
             "#46039f"
            ],
            [
             0.2222222222222222,
             "#7201a8"
            ],
            [
             0.3333333333333333,
             "#9c179e"
            ],
            [
             0.4444444444444444,
             "#bd3786"
            ],
            [
             0.5555555555555556,
             "#d8576b"
            ],
            [
             0.6666666666666666,
             "#ed7953"
            ],
            [
             0.7777777777777778,
             "#fb9f3a"
            ],
            [
             0.8888888888888888,
             "#fdca26"
            ],
            [
             1,
             "#f0f921"
            ]
           ],
           "sequentialminus": [
            [
             0,
             "#0d0887"
            ],
            [
             0.1111111111111111,
             "#46039f"
            ],
            [
             0.2222222222222222,
             "#7201a8"
            ],
            [
             0.3333333333333333,
             "#9c179e"
            ],
            [
             0.4444444444444444,
             "#bd3786"
            ],
            [
             0.5555555555555556,
             "#d8576b"
            ],
            [
             0.6666666666666666,
             "#ed7953"
            ],
            [
             0.7777777777777778,
             "#fb9f3a"
            ],
            [
             0.8888888888888888,
             "#fdca26"
            ],
            [
             1,
             "#f0f921"
            ]
           ]
          },
          "colorway": [
           "#636efa",
           "#EF553B",
           "#00cc96",
           "#ab63fa",
           "#FFA15A",
           "#19d3f3",
           "#FF6692",
           "#B6E880",
           "#FF97FF",
           "#FECB52"
          ],
          "font": {
           "color": "#2a3f5f"
          },
          "geo": {
           "bgcolor": "white",
           "lakecolor": "white",
           "landcolor": "#E5ECF6",
           "showlakes": true,
           "showland": true,
           "subunitcolor": "white"
          },
          "hoverlabel": {
           "align": "left"
          },
          "hovermode": "closest",
          "mapbox": {
           "style": "light"
          },
          "paper_bgcolor": "white",
          "plot_bgcolor": "#E5ECF6",
          "polar": {
           "angularaxis": {
            "gridcolor": "white",
            "linecolor": "white",
            "ticks": ""
           },
           "bgcolor": "#E5ECF6",
           "radialaxis": {
            "gridcolor": "white",
            "linecolor": "white",
            "ticks": ""
           }
          },
          "scene": {
           "xaxis": {
            "backgroundcolor": "#E5ECF6",
            "gridcolor": "white",
            "gridwidth": 2,
            "linecolor": "white",
            "showbackground": true,
            "ticks": "",
            "zerolinecolor": "white"
           },
           "yaxis": {
            "backgroundcolor": "#E5ECF6",
            "gridcolor": "white",
            "gridwidth": 2,
            "linecolor": "white",
            "showbackground": true,
            "ticks": "",
            "zerolinecolor": "white"
           },
           "zaxis": {
            "backgroundcolor": "#E5ECF6",
            "gridcolor": "white",
            "gridwidth": 2,
            "linecolor": "white",
            "showbackground": true,
            "ticks": "",
            "zerolinecolor": "white"
           }
          },
          "shapedefaults": {
           "line": {
            "color": "#2a3f5f"
           }
          },
          "ternary": {
           "aaxis": {
            "gridcolor": "white",
            "linecolor": "white",
            "ticks": ""
           },
           "baxis": {
            "gridcolor": "white",
            "linecolor": "white",
            "ticks": ""
           },
           "bgcolor": "#E5ECF6",
           "caxis": {
            "gridcolor": "white",
            "linecolor": "white",
            "ticks": ""
           }
          },
          "title": {
           "x": 0.05
          },
          "xaxis": {
           "automargin": true,
           "gridcolor": "white",
           "linecolor": "white",
           "ticks": "",
           "title": {
            "standoff": 15
           },
           "zerolinecolor": "white",
           "zerolinewidth": 2
          },
          "yaxis": {
           "automargin": true,
           "gridcolor": "white",
           "linecolor": "white",
           "ticks": "",
           "title": {
            "standoff": 15
           },
           "zerolinecolor": "white",
           "zerolinewidth": 2
          }
         }
        }
       }
      },
      "text/html": [
       "<div>                            <div id=\"d81d1ad9-ba4a-4862-a6c0-7ece32289d8c\" class=\"plotly-graph-div\" style=\"height:525px; width:100%;\"></div>            <script type=\"text/javascript\">                require([\"plotly\"], function(Plotly) {                    window.PLOTLYENV=window.PLOTLYENV || {};                                    if (document.getElementById(\"d81d1ad9-ba4a-4862-a6c0-7ece32289d8c\")) {                    Plotly.newPlot(                        \"d81d1ad9-ba4a-4862-a6c0-7ece32289d8c\",                        [{\"domain\":{\"x\":[0.0,1.0],\"y\":[0.0,1.0]},\"hovertemplate\":\"Career Level:=%{label}<extra></extra>\",\"labels\":[\"'Experienced (Non-Manager)'\",\"'Experienced (Non-Manager)'\",\"'Experienced (Non-Manager)'\",\"'Entry Level (Junior Level / Fresh Grad)'\",\"'Experienced (Non-Manager)'\",\"'Entry Level (Junior Level / Fresh Grad)'\",\"'Entry Level (Junior Level / Fresh Grad)'\",\"'Entry Level (Junior Level / Fresh Grad)'\",\"'Entry Level (Junior Level / Fresh Grad)'\",\"'Entry Level (Junior Level / Fresh Grad)'\",\"'Experienced (Non-Manager)'\",\"'Experienced (Non-Manager)'\",\"'Experienced (Non-Manager)'\",\"'Entry Level (Junior Level / Fresh Grad)'\",\"'Entry Level (Junior Level / Fresh Grad)'\",\"'Experienced (Non-Manager)'\",\"'Entry Level (Junior Level / Fresh Grad)'\",\"'Entry Level (Junior Level / Fresh Grad)'\",\"'Entry Level (Junior Level / Fresh Grad)'\",\"'Entry Level (Junior Level / Fresh Grad)'\",\"'Experienced (Non-Manager)'\",\"'Entry Level (Junior Level / Fresh Grad)'\",\"'Entry Level (Junior Level / Fresh Grad)'\",\"'Entry Level (Junior Level / Fresh Grad)'\",\"'Experienced (Non-Manager)'\",\"'Experienced (Non-Manager)'\",\"'Experienced (Non-Manager)'\",\"'Experienced (Non-Manager)'\",\"'Entry Level (Junior Level / Fresh Grad)'\",\"'Manager '\",\"'Manager '\",\"'Experienced (Non-Manager)'\",\"'Experienced (Non-Manager)'\",\"'Experienced (Non-Manager)'\",\"'Experienced (Non-Manager)'\",\"'Experienced (Non-Manager)'\",\"'Entry Level (Junior Level / Fresh Grad)'\",\"'Experienced (Non-Manager)'\",\"'Manager '\",\"'Experienced (Non-Manager)'\",\"'Experienced (Non-Manager)'\",\"'Experienced (Non-Manager)'\",\"'Experienced (Non-Manager)'\",\"'Experienced (Non-Manager)'\",\"'Experienced (Non-Manager)'\",\"'Student (Undergrad / Postgrad)'\",\"'Manager '\",\"'Entry Level (Junior Level / Fresh Grad)'\",\"'Experienced (Non-Manager)'\",\"'Entry Level (Junior Level / Fresh Grad)'\",\"'Experienced (Non-Manager)'\",\"'Entry Level (Junior Level / Fresh Grad)'\",\"'Experienced (Non-Manager)'\",\"'Experienced (Non-Manager)'\",\"'Experienced (Non-Manager)'\",\"'Manager '\",\"'Experienced (Non-Manager)'\",\"'Experienced (Non-Manager)'\",\"'Entry Level (Junior Level / Fresh Grad)'\",\"'Experienced (Non-Manager)'\",\"'Student (Undergrad / Postgrad)'\",\"'Experienced (Non-Manager)'\",\"'Entry Level (Junior Level / Fresh Grad)'\",\"'Experienced (Non-Manager)'\",\"'Experienced (Non-Manager)'\",\"'Experienced (Non-Manager)'\",\"'Experienced (Non-Manager)'\",\"'Entry Level (Junior Level / Fresh Grad)'\",\"'Experienced (Non-Manager)'\",\"'Student (Undergrad / Postgrad)'\",\"'Entry Level (Junior Level / Fresh Grad)'\",\"'Experienced (Non-Manager)'\",\"'Experienced (Non-Manager)'\",\"'Experienced (Non-Manager)'\",\"'Experienced (Non-Manager)'\",\"'Experienced (Non-Manager)'\",\"'Experienced (Non-Manager)'\",\"'Experienced (Non-Manager)'\",\"'Entry Level (Junior Level / Fresh Grad)'\",\"'Experienced (Non-Manager)'\",\"'Experienced (Non-Manager)'\",\"'Experienced (Non-Manager)'\",\"'Experienced (Non-Manager)'\",\"'Experienced (Non-Manager)'\",\"'Experienced (Non-Manager)'\",\"'Experienced (Non-Manager)'\",\"'Entry Level (Junior Level / Fresh Grad)'\",\"'Experienced (Non-Manager)'\",\"'Entry Level (Junior Level / Fresh Grad)'\",\"'Experienced (Non-Manager)'\",\"'Experienced (Non-Manager)'\",\"'Entry Level (Junior Level / Fresh Grad)'\",\"'Entry Level (Junior Level / Fresh Grad)'\",\"'Experienced (Non-Manager)'\",\"'Experienced (Non-Manager)'\",\"'Experienced (Non-Manager)'\",\"'Experienced (Non-Manager)'\",\"'Experienced (Non-Manager)'\",\"'Experienced (Non-Manager)'\",\"'Experienced (Non-Manager)'\",\"'Experienced (Non-Manager)'\",\"'Experienced (Non-Manager)'\",\"'Experienced (Non-Manager)'\",\"'Experienced (Non-Manager)'\",\"'Experienced (Non-Manager)'\",\"'Experienced (Non-Manager)'\",\"'Experienced (Non-Manager)'\",\"'Experienced (Non-Manager)'\",\"'Entry Level (Junior Level / Fresh Grad)'\",\"'Experienced (Non-Manager)'\",\"'Experienced (Non-Manager)'\",\"'Entry Level (Junior Level / Fresh Grad)'\",\"'Experienced (Non-Manager)'\",\"'Entry Level (Junior Level / Fresh Grad)'\",\"'Entry Level (Junior Level / Fresh Grad)'\",\"'Experienced (Non-Manager)'\",\"'Experienced (Non-Manager)'\",\"'Experienced (Non-Manager)'\",\"'Experienced (Non-Manager)'\",\"'Experienced (Non-Manager)'\",\"'Entry Level (Junior Level / Fresh Grad)'\",\"'Experienced (Non-Manager)'\",\"'Experienced (Non-Manager)'\",\"'Experienced (Non-Manager)'\",\"'Experienced (Non-Manager)'\",\"'Entry Level (Junior Level / Fresh Grad)'\",\"'Experienced (Non-Manager)'\",\"'Experienced (Non-Manager)'\",\"'Experienced (Non-Manager)'\",\"'Experienced (Non-Manager)'\",\"'Experienced (Non-Manager)'\",\"'Experienced (Non-Manager)'\",\"'Experienced (Non-Manager)'\",\"'Experienced (Non-Manager)'\",\"'Entry Level (Junior Level / Fresh Grad)'\",\"'Experienced (Non-Manager)'\",\"'Experienced (Non-Manager)'\",\"'Entry Level (Junior Level / Fresh Grad)'\",\"'Experienced (Non-Manager)'\",\"'Experienced (Non-Manager)'\",\"'Experienced (Non-Manager)'\",\"'Experienced (Non-Manager)'\",\"'Manager '\",\"'Experienced (Non-Manager)'\",\"'Experienced (Non-Manager)'\",\"'Entry Level (Junior Level / Fresh Grad)'\",\"'Experienced (Non-Manager)'\",\"'Entry Level (Junior Level / Fresh Grad)'\",\"'Entry Level (Junior Level / Fresh Grad)'\",\"'Experienced (Non-Manager)'\",\"'Experienced (Non-Manager)'\",\"'Experienced (Non-Manager)'\",\"'Experienced (Non-Manager)'\",\"'Experienced (Non-Manager)'\",\"'Experienced (Non-Manager)'\",\"'Experienced (Non-Manager)'\",\"'Experienced (Non-Manager)'\",\"'Entry Level (Junior Level / Fresh Grad)'\",\"'Experienced (Non-Manager)'\",\"'Experienced (Non-Manager)'\",\"'Entry Level (Junior Level / Fresh Grad)'\",\"'Manager '\",\"'Entry Level (Junior Level / Fresh Grad)'\",\"'Entry Level (Junior Level / Fresh Grad)'\",\"'Entry Level (Junior Level / Fresh Grad)'\",\"'Experienced (Non-Manager)'\",\"'Manager '\",\"'Entry Level (Junior Level / Fresh Grad)'\",\"'Experienced (Non-Manager)'\",\"'Entry Level (Junior Level / Fresh Grad)'\",\"'Experienced (Non-Manager)'\",\"'Entry Level (Junior Level / Fresh Grad)'\",\"'Experienced (Non-Manager)'\",\"'Experienced (Non-Manager)'\",\"'Experienced (Non-Manager)'\",\"'Experienced (Non-Manager)'\",\"'Experienced (Non-Manager)'\",\"'Experienced (Non-Manager)'\",\"'Entry Level (Junior Level / Fresh Grad)'\",\"'Experienced (Non-Manager)'\",\"'Manager '\",\"'Entry Level (Junior Level / Fresh Grad)'\",\"'Experienced (Non-Manager)'\",\"'Experienced (Non-Manager)'\",\"'Experienced (Non-Manager)'\",\"'Experienced (Non-Manager)'\",\"'Experienced (Non-Manager)'\",\"'Entry Level (Junior Level / Fresh Grad)'\",\"'Experienced (Non-Manager)'\",\"'Experienced (Non-Manager)'\",\"'Experienced (Non-Manager)'\",\"'Experienced (Non-Manager)'\",\"'Experienced (Non-Manager)'\",\"'Experienced (Non-Manager)'\",\"'Entry Level (Junior Level / Fresh Grad)'\",\"'Experienced (Non-Manager)'\",\"'Experienced (Non-Manager)'\",\"'Entry Level (Junior Level / Fresh Grad)'\",\"'Entry Level (Junior Level / Fresh Grad)'\",\"'Entry Level (Junior Level / Fresh Grad)'\",\"'Experienced (Non-Manager)'\",\"'Entry Level (Junior Level / Fresh Grad)'\",\"'Experienced (Non-Manager)'\",\"'Experienced (Non-Manager)'\",\"'Entry Level (Junior Level / Fresh Grad)'\",\"'Experienced (Non-Manager)'\",\"'Experienced (Non-Manager)'\",\"'Experienced (Non-Manager)'\",\"'Experienced (Non-Manager)'\",\"'Experienced (Non-Manager)'\",\"'Experienced (Non-Manager)'\",\"'Experienced (Non-Manager)'\",\"'Experienced (Non-Manager)'\",\"'Experienced (Non-Manager)'\",\"'Experienced (Non-Manager)'\",\"'Experienced (Non-Manager)'\",\"'Entry Level (Junior Level / Fresh Grad)'\",\"'Experienced (Non-Manager)'\",\"'Entry Level (Junior Level / Fresh Grad)'\",\"'Experienced (Non-Manager)'\",\"'Manager '\",\"'Experienced (Non-Manager)'\",\"'Experienced (Non-Manager)'\",\"'Experienced (Non-Manager)'\",\"'Experienced (Non-Manager)'\",\"'Entry Level (Junior Level / Fresh Grad)'\",\"'Experienced (Non-Manager)'\",\"'Experienced (Non-Manager)'\",\"'Entry Level (Junior Level / Fresh Grad)'\",\"'Manager '\",\"'Experienced (Non-Manager)'\",\"'Experienced (Non-Manager)'\",\"'Entry Level (Junior Level / Fresh Grad)'\",\"'Entry Level (Junior Level / Fresh Grad)'\",\"'Experienced (Non-Manager)'\",\"'Experienced (Non-Manager)'\",\"'Experienced (Non-Manager)'\",\"'Experienced (Non-Manager)'\",\"'Experienced (Non-Manager)'\",\"'Experienced (Non-Manager)'\",\"'Experienced (Non-Manager)'\",\"'Experienced (Non-Manager)'\",\"'Experienced (Non-Manager)'\",\"'Experienced (Non-Manager)'\",\"'Experienced (Non-Manager)'\",\"'Experienced (Non-Manager)'\",\"'Experienced (Non-Manager)'\",\"'Experienced (Non-Manager)'\",\"'Entry Level (Junior Level / Fresh Grad)'\"],\"legendgroup\":\"\",\"name\":\"\",\"showlegend\":true,\"type\":\"pie\"}],                        {\"template\":{\"data\":{\"bar\":[{\"error_x\":{\"color\":\"#2a3f5f\"},\"error_y\":{\"color\":\"#2a3f5f\"},\"marker\":{\"line\":{\"color\":\"#E5ECF6\",\"width\":0.5},\"pattern\":{\"fillmode\":\"overlay\",\"size\":10,\"solidity\":0.2}},\"type\":\"bar\"}],\"barpolar\":[{\"marker\":{\"line\":{\"color\":\"#E5ECF6\",\"width\":0.5},\"pattern\":{\"fillmode\":\"overlay\",\"size\":10,\"solidity\":0.2}},\"type\":\"barpolar\"}],\"carpet\":[{\"aaxis\":{\"endlinecolor\":\"#2a3f5f\",\"gridcolor\":\"white\",\"linecolor\":\"white\",\"minorgridcolor\":\"white\",\"startlinecolor\":\"#2a3f5f\"},\"baxis\":{\"endlinecolor\":\"#2a3f5f\",\"gridcolor\":\"white\",\"linecolor\":\"white\",\"minorgridcolor\":\"white\",\"startlinecolor\":\"#2a3f5f\"},\"type\":\"carpet\"}],\"choropleth\":[{\"colorbar\":{\"outlinewidth\":0,\"ticks\":\"\"},\"type\":\"choropleth\"}],\"contour\":[{\"colorbar\":{\"outlinewidth\":0,\"ticks\":\"\"},\"colorscale\":[[0.0,\"#0d0887\"],[0.1111111111111111,\"#46039f\"],[0.2222222222222222,\"#7201a8\"],[0.3333333333333333,\"#9c179e\"],[0.4444444444444444,\"#bd3786\"],[0.5555555555555556,\"#d8576b\"],[0.6666666666666666,\"#ed7953\"],[0.7777777777777778,\"#fb9f3a\"],[0.8888888888888888,\"#fdca26\"],[1.0,\"#f0f921\"]],\"type\":\"contour\"}],\"contourcarpet\":[{\"colorbar\":{\"outlinewidth\":0,\"ticks\":\"\"},\"type\":\"contourcarpet\"}],\"heatmap\":[{\"colorbar\":{\"outlinewidth\":0,\"ticks\":\"\"},\"colorscale\":[[0.0,\"#0d0887\"],[0.1111111111111111,\"#46039f\"],[0.2222222222222222,\"#7201a8\"],[0.3333333333333333,\"#9c179e\"],[0.4444444444444444,\"#bd3786\"],[0.5555555555555556,\"#d8576b\"],[0.6666666666666666,\"#ed7953\"],[0.7777777777777778,\"#fb9f3a\"],[0.8888888888888888,\"#fdca26\"],[1.0,\"#f0f921\"]],\"type\":\"heatmap\"}],\"heatmapgl\":[{\"colorbar\":{\"outlinewidth\":0,\"ticks\":\"\"},\"colorscale\":[[0.0,\"#0d0887\"],[0.1111111111111111,\"#46039f\"],[0.2222222222222222,\"#7201a8\"],[0.3333333333333333,\"#9c179e\"],[0.4444444444444444,\"#bd3786\"],[0.5555555555555556,\"#d8576b\"],[0.6666666666666666,\"#ed7953\"],[0.7777777777777778,\"#fb9f3a\"],[0.8888888888888888,\"#fdca26\"],[1.0,\"#f0f921\"]],\"type\":\"heatmapgl\"}],\"histogram\":[{\"marker\":{\"pattern\":{\"fillmode\":\"overlay\",\"size\":10,\"solidity\":0.2}},\"type\":\"histogram\"}],\"histogram2d\":[{\"colorbar\":{\"outlinewidth\":0,\"ticks\":\"\"},\"colorscale\":[[0.0,\"#0d0887\"],[0.1111111111111111,\"#46039f\"],[0.2222222222222222,\"#7201a8\"],[0.3333333333333333,\"#9c179e\"],[0.4444444444444444,\"#bd3786\"],[0.5555555555555556,\"#d8576b\"],[0.6666666666666666,\"#ed7953\"],[0.7777777777777778,\"#fb9f3a\"],[0.8888888888888888,\"#fdca26\"],[1.0,\"#f0f921\"]],\"type\":\"histogram2d\"}],\"histogram2dcontour\":[{\"colorbar\":{\"outlinewidth\":0,\"ticks\":\"\"},\"colorscale\":[[0.0,\"#0d0887\"],[0.1111111111111111,\"#46039f\"],[0.2222222222222222,\"#7201a8\"],[0.3333333333333333,\"#9c179e\"],[0.4444444444444444,\"#bd3786\"],[0.5555555555555556,\"#d8576b\"],[0.6666666666666666,\"#ed7953\"],[0.7777777777777778,\"#fb9f3a\"],[0.8888888888888888,\"#fdca26\"],[1.0,\"#f0f921\"]],\"type\":\"histogram2dcontour\"}],\"mesh3d\":[{\"colorbar\":{\"outlinewidth\":0,\"ticks\":\"\"},\"type\":\"mesh3d\"}],\"parcoords\":[{\"line\":{\"colorbar\":{\"outlinewidth\":0,\"ticks\":\"\"}},\"type\":\"parcoords\"}],\"pie\":[{\"automargin\":true,\"type\":\"pie\"}],\"scatter\":[{\"marker\":{\"colorbar\":{\"outlinewidth\":0,\"ticks\":\"\"}},\"type\":\"scatter\"}],\"scatter3d\":[{\"line\":{\"colorbar\":{\"outlinewidth\":0,\"ticks\":\"\"}},\"marker\":{\"colorbar\":{\"outlinewidth\":0,\"ticks\":\"\"}},\"type\":\"scatter3d\"}],\"scattercarpet\":[{\"marker\":{\"colorbar\":{\"outlinewidth\":0,\"ticks\":\"\"}},\"type\":\"scattercarpet\"}],\"scattergeo\":[{\"marker\":{\"colorbar\":{\"outlinewidth\":0,\"ticks\":\"\"}},\"type\":\"scattergeo\"}],\"scattergl\":[{\"marker\":{\"colorbar\":{\"outlinewidth\":0,\"ticks\":\"\"}},\"type\":\"scattergl\"}],\"scattermapbox\":[{\"marker\":{\"colorbar\":{\"outlinewidth\":0,\"ticks\":\"\"}},\"type\":\"scattermapbox\"}],\"scatterpolar\":[{\"marker\":{\"colorbar\":{\"outlinewidth\":0,\"ticks\":\"\"}},\"type\":\"scatterpolar\"}],\"scatterpolargl\":[{\"marker\":{\"colorbar\":{\"outlinewidth\":0,\"ticks\":\"\"}},\"type\":\"scatterpolargl\"}],\"scatterternary\":[{\"marker\":{\"colorbar\":{\"outlinewidth\":0,\"ticks\":\"\"}},\"type\":\"scatterternary\"}],\"surface\":[{\"colorbar\":{\"outlinewidth\":0,\"ticks\":\"\"},\"colorscale\":[[0.0,\"#0d0887\"],[0.1111111111111111,\"#46039f\"],[0.2222222222222222,\"#7201a8\"],[0.3333333333333333,\"#9c179e\"],[0.4444444444444444,\"#bd3786\"],[0.5555555555555556,\"#d8576b\"],[0.6666666666666666,\"#ed7953\"],[0.7777777777777778,\"#fb9f3a\"],[0.8888888888888888,\"#fdca26\"],[1.0,\"#f0f921\"]],\"type\":\"surface\"}],\"table\":[{\"cells\":{\"fill\":{\"color\":\"#EBF0F8\"},\"line\":{\"color\":\"white\"}},\"header\":{\"fill\":{\"color\":\"#C8D4E3\"},\"line\":{\"color\":\"white\"}},\"type\":\"table\"}]},\"layout\":{\"annotationdefaults\":{\"arrowcolor\":\"#2a3f5f\",\"arrowhead\":0,\"arrowwidth\":1},\"autotypenumbers\":\"strict\",\"coloraxis\":{\"colorbar\":{\"outlinewidth\":0,\"ticks\":\"\"}},\"colorscale\":{\"diverging\":[[0,\"#8e0152\"],[0.1,\"#c51b7d\"],[0.2,\"#de77ae\"],[0.3,\"#f1b6da\"],[0.4,\"#fde0ef\"],[0.5,\"#f7f7f7\"],[0.6,\"#e6f5d0\"],[0.7,\"#b8e186\"],[0.8,\"#7fbc41\"],[0.9,\"#4d9221\"],[1,\"#276419\"]],\"sequential\":[[0.0,\"#0d0887\"],[0.1111111111111111,\"#46039f\"],[0.2222222222222222,\"#7201a8\"],[0.3333333333333333,\"#9c179e\"],[0.4444444444444444,\"#bd3786\"],[0.5555555555555556,\"#d8576b\"],[0.6666666666666666,\"#ed7953\"],[0.7777777777777778,\"#fb9f3a\"],[0.8888888888888888,\"#fdca26\"],[1.0,\"#f0f921\"]],\"sequentialminus\":[[0.0,\"#0d0887\"],[0.1111111111111111,\"#46039f\"],[0.2222222222222222,\"#7201a8\"],[0.3333333333333333,\"#9c179e\"],[0.4444444444444444,\"#bd3786\"],[0.5555555555555556,\"#d8576b\"],[0.6666666666666666,\"#ed7953\"],[0.7777777777777778,\"#fb9f3a\"],[0.8888888888888888,\"#fdca26\"],[1.0,\"#f0f921\"]]},\"colorway\":[\"#636efa\",\"#EF553B\",\"#00cc96\",\"#ab63fa\",\"#FFA15A\",\"#19d3f3\",\"#FF6692\",\"#B6E880\",\"#FF97FF\",\"#FECB52\"],\"font\":{\"color\":\"#2a3f5f\"},\"geo\":{\"bgcolor\":\"white\",\"lakecolor\":\"white\",\"landcolor\":\"#E5ECF6\",\"showlakes\":true,\"showland\":true,\"subunitcolor\":\"white\"},\"hoverlabel\":{\"align\":\"left\"},\"hovermode\":\"closest\",\"mapbox\":{\"style\":\"light\"},\"paper_bgcolor\":\"white\",\"plot_bgcolor\":\"#E5ECF6\",\"polar\":{\"angularaxis\":{\"gridcolor\":\"white\",\"linecolor\":\"white\",\"ticks\":\"\"},\"bgcolor\":\"#E5ECF6\",\"radialaxis\":{\"gridcolor\":\"white\",\"linecolor\":\"white\",\"ticks\":\"\"}},\"scene\":{\"xaxis\":{\"backgroundcolor\":\"#E5ECF6\",\"gridcolor\":\"white\",\"gridwidth\":2,\"linecolor\":\"white\",\"showbackground\":true,\"ticks\":\"\",\"zerolinecolor\":\"white\"},\"yaxis\":{\"backgroundcolor\":\"#E5ECF6\",\"gridcolor\":\"white\",\"gridwidth\":2,\"linecolor\":\"white\",\"showbackground\":true,\"ticks\":\"\",\"zerolinecolor\":\"white\"},\"zaxis\":{\"backgroundcolor\":\"#E5ECF6\",\"gridcolor\":\"white\",\"gridwidth\":2,\"linecolor\":\"white\",\"showbackground\":true,\"ticks\":\"\",\"zerolinecolor\":\"white\"}},\"shapedefaults\":{\"line\":{\"color\":\"#2a3f5f\"}},\"ternary\":{\"aaxis\":{\"gridcolor\":\"white\",\"linecolor\":\"white\",\"ticks\":\"\"},\"baxis\":{\"gridcolor\":\"white\",\"linecolor\":\"white\",\"ticks\":\"\"},\"bgcolor\":\"#E5ECF6\",\"caxis\":{\"gridcolor\":\"white\",\"linecolor\":\"white\",\"ticks\":\"\"}},\"title\":{\"x\":0.05},\"xaxis\":{\"automargin\":true,\"gridcolor\":\"white\",\"linecolor\":\"white\",\"ticks\":\"\",\"title\":{\"standoff\":15},\"zerolinecolor\":\"white\",\"zerolinewidth\":2},\"yaxis\":{\"automargin\":true,\"gridcolor\":\"white\",\"linecolor\":\"white\",\"ticks\":\"\",\"title\":{\"standoff\":15},\"zerolinecolor\":\"white\",\"zerolinewidth\":2}}},\"legend\":{\"tracegroupgap\":0},\"margin\":{\"t\":60}},                        {\"responsive\": true}                    ).then(function(){\n",
       "                            \n",
       "var gd = document.getElementById('d81d1ad9-ba4a-4862-a6c0-7ece32289d8c');\n",
       "var x = new MutationObserver(function (mutations, observer) {{\n",
       "        var display = window.getComputedStyle(gd).display;\n",
       "        if (!display || display === 'none') {{\n",
       "            console.log([gd, 'removed!']);\n",
       "            Plotly.purge(gd);\n",
       "            observer.disconnect();\n",
       "        }}\n",
       "}});\n",
       "\n",
       "// Listen for the removal of the full notebook cells\n",
       "var notebookContainer = gd.closest('#notebook-container');\n",
       "if (notebookContainer) {{\n",
       "    x.observe(notebookContainer, {childList: true});\n",
       "}}\n",
       "\n",
       "// Listen for the clearing of the current output cell\n",
       "var outputEl = gd.closest('.output');\n",
       "if (outputEl) {{\n",
       "    x.observe(outputEl, {childList: true});\n",
       "}}\n",
       "\n",
       "                        })                };                });            </script>        </div>"
      ]
     },
     "metadata": {},
     "output_type": "display_data"
    }
   ],
   "source": [
    "px.pie(Jobs_df , names='Career Level:')"
   ]
  },
  {
   "cell_type": "code",
   "execution_count": 159,
   "id": "c260d3d8",
   "metadata": {},
   "outputs": [
    {
     "data": {
      "application/vnd.plotly.v1+json": {
       "config": {
        "plotlyServerURL": "https://plot.ly"
       },
       "data": [
        {
         "alignmentgroup": "True",
         "hovertemplate": "Career Level:='Experienced (Non-Manager)'<br>x=%{x}<br>count=%{y}<extra></extra>",
         "legendgroup": "'Experienced (Non-Manager)'",
         "marker": {
          "color": "#636efa",
          "pattern": {
           "shape": ""
          }
         },
         "name": "'Experienced (Non-Manager)'",
         "offsetgroup": "'Experienced (Non-Manager)'",
         "orientation": "v",
         "showlegend": true,
         "textposition": "auto",
         "type": "bar",
         "x": [
          "'0 to 1 year'",
          "'0 to 1 year'",
          "'0 to 1 year'",
          "'0 to 1 year'",
          "'0 to 2 years'",
          "'0 to 2 years'",
          "'0 to 3 years'",
          "'0 to 3 years'",
          "'1 to 2 years'",
          "'1 to 2 years'",
          "'1 to 2 years'",
          "'1 to 2 years'",
          "'1 to 2 years'",
          "'1 to 3 years'",
          "'1 to 3 years'",
          "'1 to 3 years'",
          "'1 to 3 years'",
          "'1 to 3 years'",
          "'1 to 3 years'",
          "'1 to 3 years'",
          "'1 to 3 years'",
          "'1 to 3 years'",
          "'1 to 3 years'",
          "'1 to 3 years'",
          "'1 to 3 years'",
          "'1 to 3 years'",
          "'1 to 3 years'",
          "'1 to 4 years'",
          "'1 to 4 years'",
          "'1 to 5 years'",
          "'10 to 17 years'",
          "'10 to 17 years'",
          "'12 to 14 years'",
          "'12 to 15 years'",
          "'2 to 3 years'",
          "'2 to 3 years'",
          "'2 to 3 years'",
          "'2 to 3 years'",
          "'2 to 4 years'",
          "'2 to 4 years'",
          "'2 to 4 years'",
          "'2 to 4 years'",
          "'2 to 5 years'",
          "'2 to 5 years'",
          "'2 to 5 years'",
          "'2 to 5 years'",
          "'2 to 5 years'",
          "'2 to 5 years'",
          "'2 to 5 years'",
          "'2 to 5 years'",
          "'2 to 5 years'",
          "'2 to 5 years'",
          "'2 to 5 years'",
          "'2 to 5 years'",
          "'2 to 6 years'",
          "'2 to 8 years'",
          "'3 to 4 years'",
          "'3 to 5 years'",
          "'3 to 5 years'",
          "'3 to 5 years'",
          "'3 to 5 years'",
          "'3 to 5 years'",
          "'3 to 5 years'",
          "'3 to 5 years'",
          "'3 to 5 years'",
          "'3 to 5 years'",
          "'3 to 5 years'",
          "'3 to 5 years'",
          "'3 to 5 years'",
          "'3 to 5 years'",
          "'3 to 5 years'",
          "'3 to 5 years'",
          "'3 to 5 years'",
          "'3 to 5 years'",
          "'3 to 5 years'",
          "'3 to 5 years'",
          "'3 to 6 years'",
          "'3 to 6 years'",
          "'3 to 6 years'",
          "'3 to 6 years'",
          "'3 to 6 years'",
          "'3 to 6 years'",
          "'3 to 6 years'",
          "'3 to 6 years'",
          "'3 to 7 years'",
          "'3 to 7 years'",
          "'3 to 7 years'",
          "'3 to 7 years'",
          "'3 to 7 years'",
          "'3 to 7 years'",
          "'4 to 10 years'",
          "'4 to 10 years'",
          "'4 to 14 years'",
          "'4 to 6 years'",
          "'4 to 6 years'",
          "'4 to 6 years'",
          "'4 to 6 years'",
          "'4 to 6 years'",
          "'4 to 6 years'",
          "'4 to 7 years'",
          "'4 to 8 years'",
          "'4 to 8 years'",
          "'4 to 9 years'",
          "'5 to 10 years'",
          "'5 to 10 years'",
          "'5 to 10 years'",
          "'5 to 10 years'",
          "'5 to 10 years'",
          "'5 to 7 years'",
          "'5 to 7 years'",
          "'5 to 8 years'",
          "'5 to 8 years'",
          "'5 to 8 years'",
          "'5 to 8 years'",
          "'5 to 8 years'",
          "'5 years'",
          "'6 to 15 years'",
          "'6 to 8 years'",
          "'6 to 8 years'",
          "'7 to 10 years'",
          "'7 to 12 years'",
          "'8 to 12 years'",
          "'More than 1 year'",
          "'More than 1 year'",
          "'More than 1 year'",
          "'More than 1 year'",
          "'More than 1 year'",
          "'More than 1 year'",
          "'More than 2 years'",
          "'More than 2 years'",
          "'More than 2 years'",
          "'More than 2 years'",
          "'More than 2 years'",
          "'More than 2 years'",
          "'More than 2 years'",
          "'More than 2 years'",
          "'More than 3 years'",
          "'More than 3 years'",
          "'More than 3 years'",
          "'More than 3 years'",
          "'More than 3 years'",
          "'More than 3 years'",
          "'More than 3 years'",
          "'More than 3 years'",
          "'More than 3 years'",
          "'More than 3 years'",
          "'More than 3 years'",
          "'More than 4 years'",
          "'More than 4 years'",
          "'More than 5 years'",
          "'More than 5 years'",
          "'More than 5 years'",
          "'More than 5 years'",
          "'More than 5 years'",
          "'More than 5 years'",
          "'More than 5 years'",
          "'More than 5 years'",
          "'More than 5 years'",
          "'More than 5 years'",
          "'More than 7 years'",
          "'More than 8 years'",
          "'More than 8 years'",
          "'More than 8 years'",
          "'More than 8 years'",
          "'More than 8 years'",
          "'Not Specified'",
          "'Not Specified'",
          "'Not Specified'",
          "'Not Specified'",
          "'Not Specified'",
          "'Not Specified'"
         ],
         "xaxis": "x",
         "y": [
          1,
          1,
          1,
          1,
          1,
          1,
          1,
          1,
          1,
          1,
          1,
          1,
          1,
          1,
          1,
          1,
          1,
          1,
          1,
          1,
          1,
          1,
          1,
          1,
          1,
          1,
          1,
          1,
          1,
          1,
          1,
          1,
          1,
          1,
          1,
          1,
          1,
          1,
          1,
          1,
          1,
          1,
          1,
          1,
          1,
          1,
          1,
          1,
          1,
          1,
          1,
          1,
          1,
          1,
          1,
          1,
          1,
          1,
          1,
          1,
          1,
          1,
          1,
          1,
          1,
          1,
          1,
          1,
          1,
          1,
          1,
          1,
          1,
          1,
          1,
          1,
          1,
          1,
          1,
          1,
          1,
          1,
          1,
          1,
          1,
          1,
          1,
          1,
          1,
          1,
          1,
          1,
          1,
          1,
          1,
          1,
          1,
          1,
          1,
          1,
          1,
          1,
          1,
          1,
          1,
          1,
          1,
          1,
          1,
          1,
          1,
          1,
          1,
          1,
          1,
          1,
          1,
          1,
          1,
          1,
          1,
          1,
          1,
          1,
          1,
          1,
          1,
          1,
          1,
          1,
          1,
          1,
          1,
          1,
          1,
          1,
          1,
          1,
          1,
          1,
          1,
          1,
          1,
          1,
          1,
          1,
          1,
          1,
          1,
          1,
          1,
          1,
          1,
          1,
          1,
          1,
          1,
          1,
          1,
          1,
          1,
          1,
          1,
          1,
          1,
          1,
          1,
          1,
          1,
          1,
          1
         ],
         "yaxis": "y"
        },
        {
         "alignmentgroup": "True",
         "hovertemplate": "Career Level:='Entry Level (Junior Level / Fresh Grad)'<br>x=%{x}<br>count=%{y}<extra></extra>",
         "legendgroup": "'Entry Level (Junior Level / Fresh Grad)'",
         "marker": {
          "color": "#EF553B",
          "pattern": {
           "shape": ""
          }
         },
         "name": "'Entry Level (Junior Level / Fresh Grad)'",
         "offsetgroup": "'Entry Level (Junior Level / Fresh Grad)'",
         "orientation": "v",
         "showlegend": true,
         "textposition": "auto",
         "type": "bar",
         "x": [
          "'0 to 1 year'",
          "'0 to 1 year'",
          "'0 to 2 years'",
          "'0 to 2 years'",
          "'0 to 2 years'",
          "'0 to 2 years'",
          "'0 to 3 years'",
          "'0 to 3 years'",
          "'0 to 4 years'",
          "'1 to 10 years'",
          "'1 to 10 years'",
          "'1 to 2 years'",
          "'1 to 2 years'",
          "'1 to 2 years'",
          "'1 to 2 years'",
          "'1 to 3 years'",
          "'1 to 3 years'",
          "'1 to 3 years'",
          "'1 to 3 years'",
          "'1 to 3 years'",
          "'10 to 20 years'",
          "'2 to 3 years'",
          "'2 to 4 years'",
          "'2 to 4 years'",
          "'2 to 5 years'",
          "'2 to 5 years'",
          "'2 to 6 years'",
          "'2 to 8 years'",
          "'3 to 4 years'",
          "'3 to 5 years'",
          "'3 to 5 years'",
          "'3 to 5 years'",
          "'3 to 5 years'",
          "'3 to 6 years'",
          "'3 to 6 years'",
          "'4 to 10 years'",
          "'4 to 6 years'",
          "'4 to 7 years'",
          "'4 to 8 years'",
          "'4 to 8 years'",
          "'5 to 20 years'",
          "'5 to 7 years'",
          "'5 to 7 years'",
          "'5 to 7 years'",
          "'5 to 7 years'",
          "'5 to 8 years'",
          "'5 to 8 years'",
          "'5 to 8 years'",
          "'7 to 10 years'",
          "'7 to 10 years'",
          "'More than 1 year'",
          "'More than 2 years'",
          "'More than 2 years'",
          "'More than 2 years'",
          "'More than 2 years'",
          "'More than 2 years'",
          "'More than 3 years'",
          "'More than 4 years'",
          "'More than 4 years'",
          "'More than 5 years'",
          "'More than 5 years'",
          "'More than 5 years'",
          "'More than 5 years'",
          "'Not Specified'"
         ],
         "xaxis": "x",
         "y": [
          1,
          1,
          1,
          1,
          1,
          1,
          1,
          1,
          1,
          1,
          1,
          1,
          1,
          1,
          1,
          1,
          1,
          1,
          1,
          1,
          1,
          1,
          1,
          1,
          1,
          1,
          1,
          1,
          1,
          1,
          1,
          1,
          1,
          1,
          1,
          1,
          1,
          1,
          1,
          1,
          1,
          1,
          1,
          1,
          1,
          1,
          1,
          1,
          1,
          1,
          1,
          1,
          1,
          1,
          1,
          1,
          1,
          1,
          1,
          1,
          1,
          1,
          1,
          1
         ],
         "yaxis": "y"
        },
        {
         "alignmentgroup": "True",
         "hovertemplate": "Career Level:='Manager '<br>x=%{x}<br>count=%{y}<extra></extra>",
         "legendgroup": "'Manager '",
         "marker": {
          "color": "#00cc96",
          "pattern": {
           "shape": ""
          }
         },
         "name": "'Manager '",
         "offsetgroup": "'Manager '",
         "orientation": "v",
         "showlegend": true,
         "textposition": "auto",
         "type": "bar",
         "x": [
          "'1 to 3 years'",
          "'1 to 3 years'",
          "'1 to 3 years'",
          "'1 to 3 years'",
          "'10 to 11 years'",
          "'4 to 6 years'",
          "'5 to 7 years'",
          "'5 to 8 years'",
          "'7 to 10 years'",
          "'More than 4 years'",
          "'More than 5 years'"
         ],
         "xaxis": "x",
         "y": [
          1,
          1,
          1,
          1,
          1,
          1,
          1,
          1,
          1,
          1,
          1
         ],
         "yaxis": "y"
        },
        {
         "alignmentgroup": "True",
         "hovertemplate": "Career Level:='Student (Undergrad / Postgrad)'<br>x=%{x}<br>count=%{y}<extra></extra>",
         "legendgroup": "'Student (Undergrad / Postgrad)'",
         "marker": {
          "color": "#ab63fa",
          "pattern": {
           "shape": ""
          }
         },
         "name": "'Student (Undergrad / Postgrad)'",
         "offsetgroup": "'Student (Undergrad / Postgrad)'",
         "orientation": "v",
         "showlegend": true,
         "textposition": "auto",
         "type": "bar",
         "x": [
          "'1 to 3 years'",
          "'12 to 15 years'",
          "'2 to 4 years'"
         ],
         "xaxis": "x",
         "y": [
          1,
          1,
          1
         ],
         "yaxis": "y"
        }
       ],
       "layout": {
        "barmode": "relative",
        "legend": {
         "title": {
          "text": "Career Level:"
         },
         "tracegroupgap": 0
        },
        "margin": {
         "t": 60
        },
        "template": {
         "data": {
          "bar": [
           {
            "error_x": {
             "color": "#2a3f5f"
            },
            "error_y": {
             "color": "#2a3f5f"
            },
            "marker": {
             "line": {
              "color": "#E5ECF6",
              "width": 0.5
             },
             "pattern": {
              "fillmode": "overlay",
              "size": 10,
              "solidity": 0.2
             }
            },
            "type": "bar"
           }
          ],
          "barpolar": [
           {
            "marker": {
             "line": {
              "color": "#E5ECF6",
              "width": 0.5
             },
             "pattern": {
              "fillmode": "overlay",
              "size": 10,
              "solidity": 0.2
             }
            },
            "type": "barpolar"
           }
          ],
          "carpet": [
           {
            "aaxis": {
             "endlinecolor": "#2a3f5f",
             "gridcolor": "white",
             "linecolor": "white",
             "minorgridcolor": "white",
             "startlinecolor": "#2a3f5f"
            },
            "baxis": {
             "endlinecolor": "#2a3f5f",
             "gridcolor": "white",
             "linecolor": "white",
             "minorgridcolor": "white",
             "startlinecolor": "#2a3f5f"
            },
            "type": "carpet"
           }
          ],
          "choropleth": [
           {
            "colorbar": {
             "outlinewidth": 0,
             "ticks": ""
            },
            "type": "choropleth"
           }
          ],
          "contour": [
           {
            "colorbar": {
             "outlinewidth": 0,
             "ticks": ""
            },
            "colorscale": [
             [
              0,
              "#0d0887"
             ],
             [
              0.1111111111111111,
              "#46039f"
             ],
             [
              0.2222222222222222,
              "#7201a8"
             ],
             [
              0.3333333333333333,
              "#9c179e"
             ],
             [
              0.4444444444444444,
              "#bd3786"
             ],
             [
              0.5555555555555556,
              "#d8576b"
             ],
             [
              0.6666666666666666,
              "#ed7953"
             ],
             [
              0.7777777777777778,
              "#fb9f3a"
             ],
             [
              0.8888888888888888,
              "#fdca26"
             ],
             [
              1,
              "#f0f921"
             ]
            ],
            "type": "contour"
           }
          ],
          "contourcarpet": [
           {
            "colorbar": {
             "outlinewidth": 0,
             "ticks": ""
            },
            "type": "contourcarpet"
           }
          ],
          "heatmap": [
           {
            "colorbar": {
             "outlinewidth": 0,
             "ticks": ""
            },
            "colorscale": [
             [
              0,
              "#0d0887"
             ],
             [
              0.1111111111111111,
              "#46039f"
             ],
             [
              0.2222222222222222,
              "#7201a8"
             ],
             [
              0.3333333333333333,
              "#9c179e"
             ],
             [
              0.4444444444444444,
              "#bd3786"
             ],
             [
              0.5555555555555556,
              "#d8576b"
             ],
             [
              0.6666666666666666,
              "#ed7953"
             ],
             [
              0.7777777777777778,
              "#fb9f3a"
             ],
             [
              0.8888888888888888,
              "#fdca26"
             ],
             [
              1,
              "#f0f921"
             ]
            ],
            "type": "heatmap"
           }
          ],
          "heatmapgl": [
           {
            "colorbar": {
             "outlinewidth": 0,
             "ticks": ""
            },
            "colorscale": [
             [
              0,
              "#0d0887"
             ],
             [
              0.1111111111111111,
              "#46039f"
             ],
             [
              0.2222222222222222,
              "#7201a8"
             ],
             [
              0.3333333333333333,
              "#9c179e"
             ],
             [
              0.4444444444444444,
              "#bd3786"
             ],
             [
              0.5555555555555556,
              "#d8576b"
             ],
             [
              0.6666666666666666,
              "#ed7953"
             ],
             [
              0.7777777777777778,
              "#fb9f3a"
             ],
             [
              0.8888888888888888,
              "#fdca26"
             ],
             [
              1,
              "#f0f921"
             ]
            ],
            "type": "heatmapgl"
           }
          ],
          "histogram": [
           {
            "marker": {
             "pattern": {
              "fillmode": "overlay",
              "size": 10,
              "solidity": 0.2
             }
            },
            "type": "histogram"
           }
          ],
          "histogram2d": [
           {
            "colorbar": {
             "outlinewidth": 0,
             "ticks": ""
            },
            "colorscale": [
             [
              0,
              "#0d0887"
             ],
             [
              0.1111111111111111,
              "#46039f"
             ],
             [
              0.2222222222222222,
              "#7201a8"
             ],
             [
              0.3333333333333333,
              "#9c179e"
             ],
             [
              0.4444444444444444,
              "#bd3786"
             ],
             [
              0.5555555555555556,
              "#d8576b"
             ],
             [
              0.6666666666666666,
              "#ed7953"
             ],
             [
              0.7777777777777778,
              "#fb9f3a"
             ],
             [
              0.8888888888888888,
              "#fdca26"
             ],
             [
              1,
              "#f0f921"
             ]
            ],
            "type": "histogram2d"
           }
          ],
          "histogram2dcontour": [
           {
            "colorbar": {
             "outlinewidth": 0,
             "ticks": ""
            },
            "colorscale": [
             [
              0,
              "#0d0887"
             ],
             [
              0.1111111111111111,
              "#46039f"
             ],
             [
              0.2222222222222222,
              "#7201a8"
             ],
             [
              0.3333333333333333,
              "#9c179e"
             ],
             [
              0.4444444444444444,
              "#bd3786"
             ],
             [
              0.5555555555555556,
              "#d8576b"
             ],
             [
              0.6666666666666666,
              "#ed7953"
             ],
             [
              0.7777777777777778,
              "#fb9f3a"
             ],
             [
              0.8888888888888888,
              "#fdca26"
             ],
             [
              1,
              "#f0f921"
             ]
            ],
            "type": "histogram2dcontour"
           }
          ],
          "mesh3d": [
           {
            "colorbar": {
             "outlinewidth": 0,
             "ticks": ""
            },
            "type": "mesh3d"
           }
          ],
          "parcoords": [
           {
            "line": {
             "colorbar": {
              "outlinewidth": 0,
              "ticks": ""
             }
            },
            "type": "parcoords"
           }
          ],
          "pie": [
           {
            "automargin": true,
            "type": "pie"
           }
          ],
          "scatter": [
           {
            "marker": {
             "colorbar": {
              "outlinewidth": 0,
              "ticks": ""
             }
            },
            "type": "scatter"
           }
          ],
          "scatter3d": [
           {
            "line": {
             "colorbar": {
              "outlinewidth": 0,
              "ticks": ""
             }
            },
            "marker": {
             "colorbar": {
              "outlinewidth": 0,
              "ticks": ""
             }
            },
            "type": "scatter3d"
           }
          ],
          "scattercarpet": [
           {
            "marker": {
             "colorbar": {
              "outlinewidth": 0,
              "ticks": ""
             }
            },
            "type": "scattercarpet"
           }
          ],
          "scattergeo": [
           {
            "marker": {
             "colorbar": {
              "outlinewidth": 0,
              "ticks": ""
             }
            },
            "type": "scattergeo"
           }
          ],
          "scattergl": [
           {
            "marker": {
             "colorbar": {
              "outlinewidth": 0,
              "ticks": ""
             }
            },
            "type": "scattergl"
           }
          ],
          "scattermapbox": [
           {
            "marker": {
             "colorbar": {
              "outlinewidth": 0,
              "ticks": ""
             }
            },
            "type": "scattermapbox"
           }
          ],
          "scatterpolar": [
           {
            "marker": {
             "colorbar": {
              "outlinewidth": 0,
              "ticks": ""
             }
            },
            "type": "scatterpolar"
           }
          ],
          "scatterpolargl": [
           {
            "marker": {
             "colorbar": {
              "outlinewidth": 0,
              "ticks": ""
             }
            },
            "type": "scatterpolargl"
           }
          ],
          "scatterternary": [
           {
            "marker": {
             "colorbar": {
              "outlinewidth": 0,
              "ticks": ""
             }
            },
            "type": "scatterternary"
           }
          ],
          "surface": [
           {
            "colorbar": {
             "outlinewidth": 0,
             "ticks": ""
            },
            "colorscale": [
             [
              0,
              "#0d0887"
             ],
             [
              0.1111111111111111,
              "#46039f"
             ],
             [
              0.2222222222222222,
              "#7201a8"
             ],
             [
              0.3333333333333333,
              "#9c179e"
             ],
             [
              0.4444444444444444,
              "#bd3786"
             ],
             [
              0.5555555555555556,
              "#d8576b"
             ],
             [
              0.6666666666666666,
              "#ed7953"
             ],
             [
              0.7777777777777778,
              "#fb9f3a"
             ],
             [
              0.8888888888888888,
              "#fdca26"
             ],
             [
              1,
              "#f0f921"
             ]
            ],
            "type": "surface"
           }
          ],
          "table": [
           {
            "cells": {
             "fill": {
              "color": "#EBF0F8"
             },
             "line": {
              "color": "white"
             }
            },
            "header": {
             "fill": {
              "color": "#C8D4E3"
             },
             "line": {
              "color": "white"
             }
            },
            "type": "table"
           }
          ]
         },
         "layout": {
          "annotationdefaults": {
           "arrowcolor": "#2a3f5f",
           "arrowhead": 0,
           "arrowwidth": 1
          },
          "autotypenumbers": "strict",
          "coloraxis": {
           "colorbar": {
            "outlinewidth": 0,
            "ticks": ""
           }
          },
          "colorscale": {
           "diverging": [
            [
             0,
             "#8e0152"
            ],
            [
             0.1,
             "#c51b7d"
            ],
            [
             0.2,
             "#de77ae"
            ],
            [
             0.3,
             "#f1b6da"
            ],
            [
             0.4,
             "#fde0ef"
            ],
            [
             0.5,
             "#f7f7f7"
            ],
            [
             0.6,
             "#e6f5d0"
            ],
            [
             0.7,
             "#b8e186"
            ],
            [
             0.8,
             "#7fbc41"
            ],
            [
             0.9,
             "#4d9221"
            ],
            [
             1,
             "#276419"
            ]
           ],
           "sequential": [
            [
             0,
             "#0d0887"
            ],
            [
             0.1111111111111111,
             "#46039f"
            ],
            [
             0.2222222222222222,
             "#7201a8"
            ],
            [
             0.3333333333333333,
             "#9c179e"
            ],
            [
             0.4444444444444444,
             "#bd3786"
            ],
            [
             0.5555555555555556,
             "#d8576b"
            ],
            [
             0.6666666666666666,
             "#ed7953"
            ],
            [
             0.7777777777777778,
             "#fb9f3a"
            ],
            [
             0.8888888888888888,
             "#fdca26"
            ],
            [
             1,
             "#f0f921"
            ]
           ],
           "sequentialminus": [
            [
             0,
             "#0d0887"
            ],
            [
             0.1111111111111111,
             "#46039f"
            ],
            [
             0.2222222222222222,
             "#7201a8"
            ],
            [
             0.3333333333333333,
             "#9c179e"
            ],
            [
             0.4444444444444444,
             "#bd3786"
            ],
            [
             0.5555555555555556,
             "#d8576b"
            ],
            [
             0.6666666666666666,
             "#ed7953"
            ],
            [
             0.7777777777777778,
             "#fb9f3a"
            ],
            [
             0.8888888888888888,
             "#fdca26"
            ],
            [
             1,
             "#f0f921"
            ]
           ]
          },
          "colorway": [
           "#636efa",
           "#EF553B",
           "#00cc96",
           "#ab63fa",
           "#FFA15A",
           "#19d3f3",
           "#FF6692",
           "#B6E880",
           "#FF97FF",
           "#FECB52"
          ],
          "font": {
           "color": "#2a3f5f"
          },
          "geo": {
           "bgcolor": "white",
           "lakecolor": "white",
           "landcolor": "#E5ECF6",
           "showlakes": true,
           "showland": true,
           "subunitcolor": "white"
          },
          "hoverlabel": {
           "align": "left"
          },
          "hovermode": "closest",
          "mapbox": {
           "style": "light"
          },
          "paper_bgcolor": "white",
          "plot_bgcolor": "#E5ECF6",
          "polar": {
           "angularaxis": {
            "gridcolor": "white",
            "linecolor": "white",
            "ticks": ""
           },
           "bgcolor": "#E5ECF6",
           "radialaxis": {
            "gridcolor": "white",
            "linecolor": "white",
            "ticks": ""
           }
          },
          "scene": {
           "xaxis": {
            "backgroundcolor": "#E5ECF6",
            "gridcolor": "white",
            "gridwidth": 2,
            "linecolor": "white",
            "showbackground": true,
            "ticks": "",
            "zerolinecolor": "white"
           },
           "yaxis": {
            "backgroundcolor": "#E5ECF6",
            "gridcolor": "white",
            "gridwidth": 2,
            "linecolor": "white",
            "showbackground": true,
            "ticks": "",
            "zerolinecolor": "white"
           },
           "zaxis": {
            "backgroundcolor": "#E5ECF6",
            "gridcolor": "white",
            "gridwidth": 2,
            "linecolor": "white",
            "showbackground": true,
            "ticks": "",
            "zerolinecolor": "white"
           }
          },
          "shapedefaults": {
           "line": {
            "color": "#2a3f5f"
           }
          },
          "ternary": {
           "aaxis": {
            "gridcolor": "white",
            "linecolor": "white",
            "ticks": ""
           },
           "baxis": {
            "gridcolor": "white",
            "linecolor": "white",
            "ticks": ""
           },
           "bgcolor": "#E5ECF6",
           "caxis": {
            "gridcolor": "white",
            "linecolor": "white",
            "ticks": ""
           }
          },
          "title": {
           "x": 0.05
          },
          "xaxis": {
           "automargin": true,
           "gridcolor": "white",
           "linecolor": "white",
           "ticks": "",
           "title": {
            "standoff": 15
           },
           "zerolinecolor": "white",
           "zerolinewidth": 2
          },
          "yaxis": {
           "automargin": true,
           "gridcolor": "white",
           "linecolor": "white",
           "ticks": "",
           "title": {
            "standoff": 15
           },
           "zerolinecolor": "white",
           "zerolinewidth": 2
          }
         }
        },
        "xaxis": {
         "anchor": "y",
         "domain": [
          0,
          1
         ],
         "title": {
          "text": "x"
         }
        },
        "yaxis": {
         "anchor": "x",
         "domain": [
          0,
          1
         ],
         "title": {
          "text": "count"
         }
        }
       }
      },
      "text/html": [
       "<div>                            <div id=\"fec7ec62-96a6-4b0e-afaa-3671c1bde9f0\" class=\"plotly-graph-div\" style=\"height:525px; width:100%;\"></div>            <script type=\"text/javascript\">                require([\"plotly\"], function(Plotly) {                    window.PLOTLYENV=window.PLOTLYENV || {};                                    if (document.getElementById(\"fec7ec62-96a6-4b0e-afaa-3671c1bde9f0\")) {                    Plotly.newPlot(                        \"fec7ec62-96a6-4b0e-afaa-3671c1bde9f0\",                        [{\"alignmentgroup\":\"True\",\"hovertemplate\":\"Career Level:='Experienced (Non-Manager)'<br>x=%{x}<br>count=%{y}<extra></extra>\",\"legendgroup\":\"'Experienced (Non-Manager)'\",\"marker\":{\"color\":\"#636efa\",\"pattern\":{\"shape\":\"\"}},\"name\":\"'Experienced (Non-Manager)'\",\"offsetgroup\":\"'Experienced (Non-Manager)'\",\"orientation\":\"v\",\"showlegend\":true,\"textposition\":\"auto\",\"x\":[\"'0 to 1 year'\",\"'0 to 1 year'\",\"'0 to 1 year'\",\"'0 to 1 year'\",\"'0 to 2 years'\",\"'0 to 2 years'\",\"'0 to 3 years'\",\"'0 to 3 years'\",\"'1 to 2 years'\",\"'1 to 2 years'\",\"'1 to 2 years'\",\"'1 to 2 years'\",\"'1 to 2 years'\",\"'1 to 3 years'\",\"'1 to 3 years'\",\"'1 to 3 years'\",\"'1 to 3 years'\",\"'1 to 3 years'\",\"'1 to 3 years'\",\"'1 to 3 years'\",\"'1 to 3 years'\",\"'1 to 3 years'\",\"'1 to 3 years'\",\"'1 to 3 years'\",\"'1 to 3 years'\",\"'1 to 3 years'\",\"'1 to 3 years'\",\"'1 to 4 years'\",\"'1 to 4 years'\",\"'1 to 5 years'\",\"'10 to 17 years'\",\"'10 to 17 years'\",\"'12 to 14 years'\",\"'12 to 15 years'\",\"'2 to 3 years'\",\"'2 to 3 years'\",\"'2 to 3 years'\",\"'2 to 3 years'\",\"'2 to 4 years'\",\"'2 to 4 years'\",\"'2 to 4 years'\",\"'2 to 4 years'\",\"'2 to 5 years'\",\"'2 to 5 years'\",\"'2 to 5 years'\",\"'2 to 5 years'\",\"'2 to 5 years'\",\"'2 to 5 years'\",\"'2 to 5 years'\",\"'2 to 5 years'\",\"'2 to 5 years'\",\"'2 to 5 years'\",\"'2 to 5 years'\",\"'2 to 5 years'\",\"'2 to 6 years'\",\"'2 to 8 years'\",\"'3 to 4 years'\",\"'3 to 5 years'\",\"'3 to 5 years'\",\"'3 to 5 years'\",\"'3 to 5 years'\",\"'3 to 5 years'\",\"'3 to 5 years'\",\"'3 to 5 years'\",\"'3 to 5 years'\",\"'3 to 5 years'\",\"'3 to 5 years'\",\"'3 to 5 years'\",\"'3 to 5 years'\",\"'3 to 5 years'\",\"'3 to 5 years'\",\"'3 to 5 years'\",\"'3 to 5 years'\",\"'3 to 5 years'\",\"'3 to 5 years'\",\"'3 to 5 years'\",\"'3 to 6 years'\",\"'3 to 6 years'\",\"'3 to 6 years'\",\"'3 to 6 years'\",\"'3 to 6 years'\",\"'3 to 6 years'\",\"'3 to 6 years'\",\"'3 to 6 years'\",\"'3 to 7 years'\",\"'3 to 7 years'\",\"'3 to 7 years'\",\"'3 to 7 years'\",\"'3 to 7 years'\",\"'3 to 7 years'\",\"'4 to 10 years'\",\"'4 to 10 years'\",\"'4 to 14 years'\",\"'4 to 6 years'\",\"'4 to 6 years'\",\"'4 to 6 years'\",\"'4 to 6 years'\",\"'4 to 6 years'\",\"'4 to 6 years'\",\"'4 to 7 years'\",\"'4 to 8 years'\",\"'4 to 8 years'\",\"'4 to 9 years'\",\"'5 to 10 years'\",\"'5 to 10 years'\",\"'5 to 10 years'\",\"'5 to 10 years'\",\"'5 to 10 years'\",\"'5 to 7 years'\",\"'5 to 7 years'\",\"'5 to 8 years'\",\"'5 to 8 years'\",\"'5 to 8 years'\",\"'5 to 8 years'\",\"'5 to 8 years'\",\"'5 years'\",\"'6 to 15 years'\",\"'6 to 8 years'\",\"'6 to 8 years'\",\"'7 to 10 years'\",\"'7 to 12 years'\",\"'8 to 12 years'\",\"'More than 1 year'\",\"'More than 1 year'\",\"'More than 1 year'\",\"'More than 1 year'\",\"'More than 1 year'\",\"'More than 1 year'\",\"'More than 2 years'\",\"'More than 2 years'\",\"'More than 2 years'\",\"'More than 2 years'\",\"'More than 2 years'\",\"'More than 2 years'\",\"'More than 2 years'\",\"'More than 2 years'\",\"'More than 3 years'\",\"'More than 3 years'\",\"'More than 3 years'\",\"'More than 3 years'\",\"'More than 3 years'\",\"'More than 3 years'\",\"'More than 3 years'\",\"'More than 3 years'\",\"'More than 3 years'\",\"'More than 3 years'\",\"'More than 3 years'\",\"'More than 4 years'\",\"'More than 4 years'\",\"'More than 5 years'\",\"'More than 5 years'\",\"'More than 5 years'\",\"'More than 5 years'\",\"'More than 5 years'\",\"'More than 5 years'\",\"'More than 5 years'\",\"'More than 5 years'\",\"'More than 5 years'\",\"'More than 5 years'\",\"'More than 7 years'\",\"'More than 8 years'\",\"'More than 8 years'\",\"'More than 8 years'\",\"'More than 8 years'\",\"'More than 8 years'\",\"'Not Specified'\",\"'Not Specified'\",\"'Not Specified'\",\"'Not Specified'\",\"'Not Specified'\",\"'Not Specified'\"],\"xaxis\":\"x\",\"y\":[1,1,1,1,1,1,1,1,1,1,1,1,1,1,1,1,1,1,1,1,1,1,1,1,1,1,1,1,1,1,1,1,1,1,1,1,1,1,1,1,1,1,1,1,1,1,1,1,1,1,1,1,1,1,1,1,1,1,1,1,1,1,1,1,1,1,1,1,1,1,1,1,1,1,1,1,1,1,1,1,1,1,1,1,1,1,1,1,1,1,1,1,1,1,1,1,1,1,1,1,1,1,1,1,1,1,1,1,1,1,1,1,1,1,1,1,1,1,1,1,1,1,1,1,1,1,1,1,1,1,1,1,1,1,1,1,1,1,1,1,1,1,1,1,1,1,1,1,1,1,1,1,1,1,1,1,1,1,1,1,1,1,1,1,1,1,1,1,1,1,1],\"yaxis\":\"y\",\"type\":\"bar\"},{\"alignmentgroup\":\"True\",\"hovertemplate\":\"Career Level:='Entry Level (Junior Level / Fresh Grad)'<br>x=%{x}<br>count=%{y}<extra></extra>\",\"legendgroup\":\"'Entry Level (Junior Level / Fresh Grad)'\",\"marker\":{\"color\":\"#EF553B\",\"pattern\":{\"shape\":\"\"}},\"name\":\"'Entry Level (Junior Level / Fresh Grad)'\",\"offsetgroup\":\"'Entry Level (Junior Level / Fresh Grad)'\",\"orientation\":\"v\",\"showlegend\":true,\"textposition\":\"auto\",\"x\":[\"'0 to 1 year'\",\"'0 to 1 year'\",\"'0 to 2 years'\",\"'0 to 2 years'\",\"'0 to 2 years'\",\"'0 to 2 years'\",\"'0 to 3 years'\",\"'0 to 3 years'\",\"'0 to 4 years'\",\"'1 to 10 years'\",\"'1 to 10 years'\",\"'1 to 2 years'\",\"'1 to 2 years'\",\"'1 to 2 years'\",\"'1 to 2 years'\",\"'1 to 3 years'\",\"'1 to 3 years'\",\"'1 to 3 years'\",\"'1 to 3 years'\",\"'1 to 3 years'\",\"'10 to 20 years'\",\"'2 to 3 years'\",\"'2 to 4 years'\",\"'2 to 4 years'\",\"'2 to 5 years'\",\"'2 to 5 years'\",\"'2 to 6 years'\",\"'2 to 8 years'\",\"'3 to 4 years'\",\"'3 to 5 years'\",\"'3 to 5 years'\",\"'3 to 5 years'\",\"'3 to 5 years'\",\"'3 to 6 years'\",\"'3 to 6 years'\",\"'4 to 10 years'\",\"'4 to 6 years'\",\"'4 to 7 years'\",\"'4 to 8 years'\",\"'4 to 8 years'\",\"'5 to 20 years'\",\"'5 to 7 years'\",\"'5 to 7 years'\",\"'5 to 7 years'\",\"'5 to 7 years'\",\"'5 to 8 years'\",\"'5 to 8 years'\",\"'5 to 8 years'\",\"'7 to 10 years'\",\"'7 to 10 years'\",\"'More than 1 year'\",\"'More than 2 years'\",\"'More than 2 years'\",\"'More than 2 years'\",\"'More than 2 years'\",\"'More than 2 years'\",\"'More than 3 years'\",\"'More than 4 years'\",\"'More than 4 years'\",\"'More than 5 years'\",\"'More than 5 years'\",\"'More than 5 years'\",\"'More than 5 years'\",\"'Not Specified'\"],\"xaxis\":\"x\",\"y\":[1,1,1,1,1,1,1,1,1,1,1,1,1,1,1,1,1,1,1,1,1,1,1,1,1,1,1,1,1,1,1,1,1,1,1,1,1,1,1,1,1,1,1,1,1,1,1,1,1,1,1,1,1,1,1,1,1,1,1,1,1,1,1,1],\"yaxis\":\"y\",\"type\":\"bar\"},{\"alignmentgroup\":\"True\",\"hovertemplate\":\"Career Level:='Manager '<br>x=%{x}<br>count=%{y}<extra></extra>\",\"legendgroup\":\"'Manager '\",\"marker\":{\"color\":\"#00cc96\",\"pattern\":{\"shape\":\"\"}},\"name\":\"'Manager '\",\"offsetgroup\":\"'Manager '\",\"orientation\":\"v\",\"showlegend\":true,\"textposition\":\"auto\",\"x\":[\"'1 to 3 years'\",\"'1 to 3 years'\",\"'1 to 3 years'\",\"'1 to 3 years'\",\"'10 to 11 years'\",\"'4 to 6 years'\",\"'5 to 7 years'\",\"'5 to 8 years'\",\"'7 to 10 years'\",\"'More than 4 years'\",\"'More than 5 years'\"],\"xaxis\":\"x\",\"y\":[1,1,1,1,1,1,1,1,1,1,1],\"yaxis\":\"y\",\"type\":\"bar\"},{\"alignmentgroup\":\"True\",\"hovertemplate\":\"Career Level:='Student (Undergrad / Postgrad)'<br>x=%{x}<br>count=%{y}<extra></extra>\",\"legendgroup\":\"'Student (Undergrad / Postgrad)'\",\"marker\":{\"color\":\"#ab63fa\",\"pattern\":{\"shape\":\"\"}},\"name\":\"'Student (Undergrad / Postgrad)'\",\"offsetgroup\":\"'Student (Undergrad / Postgrad)'\",\"orientation\":\"v\",\"showlegend\":true,\"textposition\":\"auto\",\"x\":[\"'1 to 3 years'\",\"'12 to 15 years'\",\"'2 to 4 years'\"],\"xaxis\":\"x\",\"y\":[1,1,1],\"yaxis\":\"y\",\"type\":\"bar\"}],                        {\"template\":{\"data\":{\"bar\":[{\"error_x\":{\"color\":\"#2a3f5f\"},\"error_y\":{\"color\":\"#2a3f5f\"},\"marker\":{\"line\":{\"color\":\"#E5ECF6\",\"width\":0.5},\"pattern\":{\"fillmode\":\"overlay\",\"size\":10,\"solidity\":0.2}},\"type\":\"bar\"}],\"barpolar\":[{\"marker\":{\"line\":{\"color\":\"#E5ECF6\",\"width\":0.5},\"pattern\":{\"fillmode\":\"overlay\",\"size\":10,\"solidity\":0.2}},\"type\":\"barpolar\"}],\"carpet\":[{\"aaxis\":{\"endlinecolor\":\"#2a3f5f\",\"gridcolor\":\"white\",\"linecolor\":\"white\",\"minorgridcolor\":\"white\",\"startlinecolor\":\"#2a3f5f\"},\"baxis\":{\"endlinecolor\":\"#2a3f5f\",\"gridcolor\":\"white\",\"linecolor\":\"white\",\"minorgridcolor\":\"white\",\"startlinecolor\":\"#2a3f5f\"},\"type\":\"carpet\"}],\"choropleth\":[{\"colorbar\":{\"outlinewidth\":0,\"ticks\":\"\"},\"type\":\"choropleth\"}],\"contour\":[{\"colorbar\":{\"outlinewidth\":0,\"ticks\":\"\"},\"colorscale\":[[0.0,\"#0d0887\"],[0.1111111111111111,\"#46039f\"],[0.2222222222222222,\"#7201a8\"],[0.3333333333333333,\"#9c179e\"],[0.4444444444444444,\"#bd3786\"],[0.5555555555555556,\"#d8576b\"],[0.6666666666666666,\"#ed7953\"],[0.7777777777777778,\"#fb9f3a\"],[0.8888888888888888,\"#fdca26\"],[1.0,\"#f0f921\"]],\"type\":\"contour\"}],\"contourcarpet\":[{\"colorbar\":{\"outlinewidth\":0,\"ticks\":\"\"},\"type\":\"contourcarpet\"}],\"heatmap\":[{\"colorbar\":{\"outlinewidth\":0,\"ticks\":\"\"},\"colorscale\":[[0.0,\"#0d0887\"],[0.1111111111111111,\"#46039f\"],[0.2222222222222222,\"#7201a8\"],[0.3333333333333333,\"#9c179e\"],[0.4444444444444444,\"#bd3786\"],[0.5555555555555556,\"#d8576b\"],[0.6666666666666666,\"#ed7953\"],[0.7777777777777778,\"#fb9f3a\"],[0.8888888888888888,\"#fdca26\"],[1.0,\"#f0f921\"]],\"type\":\"heatmap\"}],\"heatmapgl\":[{\"colorbar\":{\"outlinewidth\":0,\"ticks\":\"\"},\"colorscale\":[[0.0,\"#0d0887\"],[0.1111111111111111,\"#46039f\"],[0.2222222222222222,\"#7201a8\"],[0.3333333333333333,\"#9c179e\"],[0.4444444444444444,\"#bd3786\"],[0.5555555555555556,\"#d8576b\"],[0.6666666666666666,\"#ed7953\"],[0.7777777777777778,\"#fb9f3a\"],[0.8888888888888888,\"#fdca26\"],[1.0,\"#f0f921\"]],\"type\":\"heatmapgl\"}],\"histogram\":[{\"marker\":{\"pattern\":{\"fillmode\":\"overlay\",\"size\":10,\"solidity\":0.2}},\"type\":\"histogram\"}],\"histogram2d\":[{\"colorbar\":{\"outlinewidth\":0,\"ticks\":\"\"},\"colorscale\":[[0.0,\"#0d0887\"],[0.1111111111111111,\"#46039f\"],[0.2222222222222222,\"#7201a8\"],[0.3333333333333333,\"#9c179e\"],[0.4444444444444444,\"#bd3786\"],[0.5555555555555556,\"#d8576b\"],[0.6666666666666666,\"#ed7953\"],[0.7777777777777778,\"#fb9f3a\"],[0.8888888888888888,\"#fdca26\"],[1.0,\"#f0f921\"]],\"type\":\"histogram2d\"}],\"histogram2dcontour\":[{\"colorbar\":{\"outlinewidth\":0,\"ticks\":\"\"},\"colorscale\":[[0.0,\"#0d0887\"],[0.1111111111111111,\"#46039f\"],[0.2222222222222222,\"#7201a8\"],[0.3333333333333333,\"#9c179e\"],[0.4444444444444444,\"#bd3786\"],[0.5555555555555556,\"#d8576b\"],[0.6666666666666666,\"#ed7953\"],[0.7777777777777778,\"#fb9f3a\"],[0.8888888888888888,\"#fdca26\"],[1.0,\"#f0f921\"]],\"type\":\"histogram2dcontour\"}],\"mesh3d\":[{\"colorbar\":{\"outlinewidth\":0,\"ticks\":\"\"},\"type\":\"mesh3d\"}],\"parcoords\":[{\"line\":{\"colorbar\":{\"outlinewidth\":0,\"ticks\":\"\"}},\"type\":\"parcoords\"}],\"pie\":[{\"automargin\":true,\"type\":\"pie\"}],\"scatter\":[{\"marker\":{\"colorbar\":{\"outlinewidth\":0,\"ticks\":\"\"}},\"type\":\"scatter\"}],\"scatter3d\":[{\"line\":{\"colorbar\":{\"outlinewidth\":0,\"ticks\":\"\"}},\"marker\":{\"colorbar\":{\"outlinewidth\":0,\"ticks\":\"\"}},\"type\":\"scatter3d\"}],\"scattercarpet\":[{\"marker\":{\"colorbar\":{\"outlinewidth\":0,\"ticks\":\"\"}},\"type\":\"scattercarpet\"}],\"scattergeo\":[{\"marker\":{\"colorbar\":{\"outlinewidth\":0,\"ticks\":\"\"}},\"type\":\"scattergeo\"}],\"scattergl\":[{\"marker\":{\"colorbar\":{\"outlinewidth\":0,\"ticks\":\"\"}},\"type\":\"scattergl\"}],\"scattermapbox\":[{\"marker\":{\"colorbar\":{\"outlinewidth\":0,\"ticks\":\"\"}},\"type\":\"scattermapbox\"}],\"scatterpolar\":[{\"marker\":{\"colorbar\":{\"outlinewidth\":0,\"ticks\":\"\"}},\"type\":\"scatterpolar\"}],\"scatterpolargl\":[{\"marker\":{\"colorbar\":{\"outlinewidth\":0,\"ticks\":\"\"}},\"type\":\"scatterpolargl\"}],\"scatterternary\":[{\"marker\":{\"colorbar\":{\"outlinewidth\":0,\"ticks\":\"\"}},\"type\":\"scatterternary\"}],\"surface\":[{\"colorbar\":{\"outlinewidth\":0,\"ticks\":\"\"},\"colorscale\":[[0.0,\"#0d0887\"],[0.1111111111111111,\"#46039f\"],[0.2222222222222222,\"#7201a8\"],[0.3333333333333333,\"#9c179e\"],[0.4444444444444444,\"#bd3786\"],[0.5555555555555556,\"#d8576b\"],[0.6666666666666666,\"#ed7953\"],[0.7777777777777778,\"#fb9f3a\"],[0.8888888888888888,\"#fdca26\"],[1.0,\"#f0f921\"]],\"type\":\"surface\"}],\"table\":[{\"cells\":{\"fill\":{\"color\":\"#EBF0F8\"},\"line\":{\"color\":\"white\"}},\"header\":{\"fill\":{\"color\":\"#C8D4E3\"},\"line\":{\"color\":\"white\"}},\"type\":\"table\"}]},\"layout\":{\"annotationdefaults\":{\"arrowcolor\":\"#2a3f5f\",\"arrowhead\":0,\"arrowwidth\":1},\"autotypenumbers\":\"strict\",\"coloraxis\":{\"colorbar\":{\"outlinewidth\":0,\"ticks\":\"\"}},\"colorscale\":{\"diverging\":[[0,\"#8e0152\"],[0.1,\"#c51b7d\"],[0.2,\"#de77ae\"],[0.3,\"#f1b6da\"],[0.4,\"#fde0ef\"],[0.5,\"#f7f7f7\"],[0.6,\"#e6f5d0\"],[0.7,\"#b8e186\"],[0.8,\"#7fbc41\"],[0.9,\"#4d9221\"],[1,\"#276419\"]],\"sequential\":[[0.0,\"#0d0887\"],[0.1111111111111111,\"#46039f\"],[0.2222222222222222,\"#7201a8\"],[0.3333333333333333,\"#9c179e\"],[0.4444444444444444,\"#bd3786\"],[0.5555555555555556,\"#d8576b\"],[0.6666666666666666,\"#ed7953\"],[0.7777777777777778,\"#fb9f3a\"],[0.8888888888888888,\"#fdca26\"],[1.0,\"#f0f921\"]],\"sequentialminus\":[[0.0,\"#0d0887\"],[0.1111111111111111,\"#46039f\"],[0.2222222222222222,\"#7201a8\"],[0.3333333333333333,\"#9c179e\"],[0.4444444444444444,\"#bd3786\"],[0.5555555555555556,\"#d8576b\"],[0.6666666666666666,\"#ed7953\"],[0.7777777777777778,\"#fb9f3a\"],[0.8888888888888888,\"#fdca26\"],[1.0,\"#f0f921\"]]},\"colorway\":[\"#636efa\",\"#EF553B\",\"#00cc96\",\"#ab63fa\",\"#FFA15A\",\"#19d3f3\",\"#FF6692\",\"#B6E880\",\"#FF97FF\",\"#FECB52\"],\"font\":{\"color\":\"#2a3f5f\"},\"geo\":{\"bgcolor\":\"white\",\"lakecolor\":\"white\",\"landcolor\":\"#E5ECF6\",\"showlakes\":true,\"showland\":true,\"subunitcolor\":\"white\"},\"hoverlabel\":{\"align\":\"left\"},\"hovermode\":\"closest\",\"mapbox\":{\"style\":\"light\"},\"paper_bgcolor\":\"white\",\"plot_bgcolor\":\"#E5ECF6\",\"polar\":{\"angularaxis\":{\"gridcolor\":\"white\",\"linecolor\":\"white\",\"ticks\":\"\"},\"bgcolor\":\"#E5ECF6\",\"radialaxis\":{\"gridcolor\":\"white\",\"linecolor\":\"white\",\"ticks\":\"\"}},\"scene\":{\"xaxis\":{\"backgroundcolor\":\"#E5ECF6\",\"gridcolor\":\"white\",\"gridwidth\":2,\"linecolor\":\"white\",\"showbackground\":true,\"ticks\":\"\",\"zerolinecolor\":\"white\"},\"yaxis\":{\"backgroundcolor\":\"#E5ECF6\",\"gridcolor\":\"white\",\"gridwidth\":2,\"linecolor\":\"white\",\"showbackground\":true,\"ticks\":\"\",\"zerolinecolor\":\"white\"},\"zaxis\":{\"backgroundcolor\":\"#E5ECF6\",\"gridcolor\":\"white\",\"gridwidth\":2,\"linecolor\":\"white\",\"showbackground\":true,\"ticks\":\"\",\"zerolinecolor\":\"white\"}},\"shapedefaults\":{\"line\":{\"color\":\"#2a3f5f\"}},\"ternary\":{\"aaxis\":{\"gridcolor\":\"white\",\"linecolor\":\"white\",\"ticks\":\"\"},\"baxis\":{\"gridcolor\":\"white\",\"linecolor\":\"white\",\"ticks\":\"\"},\"bgcolor\":\"#E5ECF6\",\"caxis\":{\"gridcolor\":\"white\",\"linecolor\":\"white\",\"ticks\":\"\"}},\"title\":{\"x\":0.05},\"xaxis\":{\"automargin\":true,\"gridcolor\":\"white\",\"linecolor\":\"white\",\"ticks\":\"\",\"title\":{\"standoff\":15},\"zerolinecolor\":\"white\",\"zerolinewidth\":2},\"yaxis\":{\"automargin\":true,\"gridcolor\":\"white\",\"linecolor\":\"white\",\"ticks\":\"\",\"title\":{\"standoff\":15},\"zerolinecolor\":\"white\",\"zerolinewidth\":2}}},\"xaxis\":{\"anchor\":\"y\",\"domain\":[0.0,1.0],\"title\":{\"text\":\"x\"}},\"yaxis\":{\"anchor\":\"x\",\"domain\":[0.0,1.0],\"title\":{\"text\":\"count\"}},\"legend\":{\"title\":{\"text\":\"Career Level:\"},\"tracegroupgap\":0},\"margin\":{\"t\":60},\"barmode\":\"relative\"},                        {\"responsive\": true}                    ).then(function(){\n",
       "                            \n",
       "var gd = document.getElementById('fec7ec62-96a6-4b0e-afaa-3671c1bde9f0');\n",
       "var x = new MutationObserver(function (mutations, observer) {{\n",
       "        var display = window.getComputedStyle(gd).display;\n",
       "        if (!display || display === 'none') {{\n",
       "            console.log([gd, 'removed!']);\n",
       "            Plotly.purge(gd);\n",
       "            observer.disconnect();\n",
       "        }}\n",
       "}});\n",
       "\n",
       "// Listen for the removal of the full notebook cells\n",
       "var notebookContainer = gd.closest('#notebook-container');\n",
       "if (notebookContainer) {{\n",
       "    x.observe(notebookContainer, {childList: true});\n",
       "}}\n",
       "\n",
       "// Listen for the clearing of the current output cell\n",
       "var outputEl = gd.closest('.output');\n",
       "if (outputEl) {{\n",
       "    x.observe(outputEl, {childList: true});\n",
       "}}\n",
       "\n",
       "                        })                };                });            </script>        </div>"
      ]
     },
     "metadata": {},
     "output_type": "display_data"
    }
   ],
   "source": [
    "px.bar(Jobs_df, x=Jobs_df['Experience Needed:'].sort_values() ,color= 'Career Level:')"
   ]
  },
  {
   "cell_type": "code",
   "execution_count": null,
   "id": "862a199b",
   "metadata": {},
   "outputs": [],
   "source": []
  }
 ],
 "metadata": {
  "kernelspec": {
   "display_name": "Python 3 (ipykernel)",
   "language": "python",
   "name": "python3"
  },
  "language_info": {
   "codemirror_mode": {
    "name": "ipython",
    "version": 3
   },
   "file_extension": ".py",
   "mimetype": "text/x-python",
   "name": "python",
   "nbconvert_exporter": "python",
   "pygments_lexer": "ipython3",
   "version": "3.9.7"
  }
 },
 "nbformat": 4,
 "nbformat_minor": 5
}
