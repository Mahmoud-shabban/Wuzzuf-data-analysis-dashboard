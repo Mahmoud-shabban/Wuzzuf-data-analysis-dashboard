{
 "cells": [
  {
   "cell_type": "code",
   "execution_count": null,
   "id": "86a565a6",
   "metadata": {},
   "outputs": [],
   "source": [
    "#!pip install selenium"
   ]
  },
  {
   "cell_type": "code",
   "execution_count": null,
   "id": "262008f8",
   "metadata": {},
   "outputs": [],
   "source": [
    "#!pip install bs4"
   ]
  },
  {
   "cell_type": "code",
   "execution_count": 3,
   "id": "0587e51f",
   "metadata": {},
   "outputs": [],
   "source": [
    "from selenium import webdriver\n",
    "from selenium.webdriver.support.ui import WebDriverWait\n",
    "from selenium.webdriver.common.keys import Keys\n",
    "from selenium.webdriver.common.by import By\n",
    "\n",
    "\n",
    "from bs4 import BeautifulSoup\n",
    "\n",
    "import requests\n",
    "import pandas as pd"
   ]
  },
  {
   "cell_type": "code",
   "execution_count": 4,
   "id": "c904782c",
   "metadata": {},
   "outputs": [
    {
     "data": {
      "text/plain": [
       "<selenium.webdriver.support.wait.WebDriverWait (session=\"4cf1970d-5f49-4692-b1da-ba938a743731\")>"
      ]
     },
     "execution_count": 4,
     "metadata": {},
     "output_type": "execute_result"
    }
   ],
   "source": [
    "site = 'https://wuzzuf.net/jobs/egypt'\n",
    "# driver = webdriver.Chrome()\n",
    "driver=webdriver.Firefox()\n",
    "driver.get(site)\n",
    "driver.maximize_window()\n",
    "WebDriverWait(driver,timeout=4)\n"
   ]
  },
  {
   "cell_type": "markdown",
   "id": "be4378f4",
   "metadata": {},
   "source": [
    "## Functions"
   ]
  },
  {
   "cell_type": "code",
   "execution_count": 5,
   "id": "903b9bd6",
   "metadata": {},
   "outputs": [],
   "source": [
    "\n",
    "def filter_tags(tag):\n",
    "        return tag.has_attr('href') and  tag.get('href').startswith('/jobs/p/')\n"
   ]
  },
  {
   "cell_type": "code",
   "execution_count": 6,
   "id": "54570a96",
   "metadata": {},
   "outputs": [],
   "source": [
    "def get_data(page_content):\n",
    "    \"\"\"\n",
    "    page_content: soup\n",
    "    \"\"\"\n",
    "\n",
    "    \n",
    "    #get title data\n",
    "    #1.get title section tag that contain basic info in html page\n",
    "    title_section = page_content.find_all('section',class_ = 'css-dy1y6u')\n",
    "    \n",
    "    #2. get the divs that contain the required data\n",
    "    divs = title_section[0].find('div',class_='css-bjn8wh' )\n",
    "\n",
    "    #3. get job title \n",
    "    title=divs.find('h1')\n",
    "    job_title=title.text\n",
    "    \n",
    "    #4. get job type\n",
    "    job_type=title_section[0].find('span')\n",
    "    Job_type=job_type.text\n",
    "    \n",
    "    #5. get company name \n",
    "    company=title_section[0].find('a',class_=\"css-p7pghv\")\n",
    "    \n",
    "    if company:\n",
    "        company_name=company.text\n",
    "    else:\n",
    "        company=title_section[0].find('div',class_=\"css-9iujih\")\n",
    "        company_name=company.text\n",
    "    \n",
    "    #6. get company location\n",
    "    location=title_section[0].find('strong',class_='css-9geu3q')\n",
    "    location.div.decompose()\n",
    "    Company_location=location.text\n",
    "    #create dictionary for the previous data \n",
    "    d1={ 'job title':[job_title],\n",
    "       'job_type':[Job_type],\n",
    "       'company':[company_name],\n",
    "       'location':[Company_location]\n",
    "\n",
    "    }\n",
    "    df1=pd.DataFrame(d1)\n",
    "\n",
    "    \n",
    "\n",
    "    ###############################################################\n",
    "    ##get data of job details section\n",
    "    #1. get section that contain job details in html page \n",
    "    \n",
    "    sections = page_content.find_all('section',class_ = 'css-3kx5e2')\n",
    "\n",
    "    divs = sections[0].find_all('div')\n",
    "\n",
    "    job_details = []\n",
    "    tr = ['Experience Needed:','Career Level:', 'Education Level:', 'Salary:', 'Job Categories:', 'skills and tools' ]\n",
    "    for div in divs:\n",
    "        spans = div.find_all('span')\n",
    "\n",
    "        temp =  set()\n",
    "        for s in spans:\n",
    "            if s.text in tr:\n",
    "                continue\n",
    "            temp.add(s.text)\n",
    "\n",
    "        job_details.append([str(temp).replace('{','').replace('}','')])\n",
    "\n",
    "\n",
    "    df2= pd.DataFrame(columns=tr)\n",
    "\n",
    "    \n",
    "    d2 = dict(zip(tr,job_details))\n",
    "    \n",
    "    test_df = pd.DataFrame(data = d2 )\n",
    "    df2=pd.concat([df2,test_df],axis=0)\n",
    "\n",
    "\n",
    "    final_df=pd.concat([df1,df2],axis=1)\n",
    "    return final_df\n",
    "\n"
   ]
  },
  {
   "cell_type": "code",
   "execution_count": 7,
   "id": "d29251e5",
   "metadata": {},
   "outputs": [],
   "source": [
    "def jobs_scrap(page_soup):\n",
    "    ################################################3\n",
    "    #1.get page links\n",
    "    \n",
    "    home = 'https://wuzzuf.net'\n",
    "    links= [] \n",
    "    global jobs_df\n",
    "    \n",
    "    for i in page_soup.find_all(filter_tags):\n",
    "        links.append(home + i.get('href'))\n",
    "    \n",
    "    ################################################\n",
    "    #####2. get data for each job link\n",
    "    for link in links:\n",
    "        driver.get(link)\n",
    "        soup1=BeautifulSoup(driver.page_source, 'lxml')\n",
    "        df=get_data(soup1)\n",
    "        \n",
    "        jobs_df=pd.concat([jobs_df,df],axis=0)\n",
    "    \n",
    "    jobs_df.reset_index(inplace=True ,drop=True)\n",
    "   \n",
    "\n",
    "\n",
    "    "
   ]
  },
  {
   "cell_type": "code",
   "execution_count": null,
   "id": "caf297e5",
   "metadata": {},
   "outputs": [],
   "source": []
  },
  {
   "cell_type": "code",
   "execution_count": null,
   "id": "cf0b07f2",
   "metadata": {},
   "outputs": [],
   "source": []
  },
  {
   "cell_type": "markdown",
   "id": "0a79724c",
   "metadata": {},
   "source": [
    "### iterate"
   ]
  },
  {
   "cell_type": "markdown",
   "id": "c7c9505d",
   "metadata": {},
   "source": [
    "#### 1. Access search box"
   ]
  },
  {
   "cell_type": "code",
   "execution_count": 26,
   "id": "e5449657",
   "metadata": {},
   "outputs": [],
   "source": [
    "#Keywords : AI Engineer ,ML Engineer , Data Analyst , Data scientist , Data Engineer\n",
    "\n",
    "\n",
    "driver.get(site)\n",
    "search_box = driver.find_element(By.CLASS_NAME,'search-bar-input')\n",
    "\n",
    "search_box.clear()\n",
    "search_box.send_keys('Data Engineer'+ Keys.ENTER)\n"
   ]
  },
  {
   "cell_type": "code",
   "execution_count": 27,
   "id": "b204425f",
   "metadata": {},
   "outputs": [
    {
     "data": {
      "text/plain": [
       "'https://wuzzuf.net/search/jobs/?q=Data+Engineer&a=hpb'"
      ]
     },
     "execution_count": 27,
     "metadata": {},
     "output_type": "execute_result"
    }
   ],
   "source": [
    "driver.switch_to.window(driver.window_handles[-1])\n",
    "first_page=driver.current_url\n",
    "\n",
    "first_page"
   ]
  },
  {
   "cell_type": "code",
   "execution_count": 28,
   "id": "65a617d3",
   "metadata": {},
   "outputs": [],
   "source": [
    "# soup = BeautifulSoup(driver.page_source, 'lxml')"
   ]
  },
  {
   "cell_type": "code",
   "execution_count": 29,
   "id": "28a50a2a",
   "metadata": {},
   "outputs": [],
   "source": [
    "jobs_df=pd.DataFrame(columns=['job title', 'job_type', 'company', 'location', 'Experience Needed:',\\\n",
    "       'Career Level:', 'Education Level:', 'Salary:', 'Job Categories:',\n",
    "       'skills and tools'])"
   ]
  },
  {
   "cell_type": "code",
   "execution_count": 30,
   "id": "ede4c7fa",
   "metadata": {},
   "outputs": [
    {
     "data": {
      "text/html": [
       "<div>\n",
       "<style scoped>\n",
       "    .dataframe tbody tr th:only-of-type {\n",
       "        vertical-align: middle;\n",
       "    }\n",
       "\n",
       "    .dataframe tbody tr th {\n",
       "        vertical-align: top;\n",
       "    }\n",
       "\n",
       "    .dataframe thead th {\n",
       "        text-align: right;\n",
       "    }\n",
       "</style>\n",
       "<table border=\"1\" class=\"dataframe\">\n",
       "  <thead>\n",
       "    <tr style=\"text-align: right;\">\n",
       "      <th></th>\n",
       "      <th>job title</th>\n",
       "      <th>job_type</th>\n",
       "      <th>company</th>\n",
       "      <th>location</th>\n",
       "      <th>Experience Needed:</th>\n",
       "      <th>Career Level:</th>\n",
       "      <th>Education Level:</th>\n",
       "      <th>Salary:</th>\n",
       "      <th>Job Categories:</th>\n",
       "      <th>skills and tools</th>\n",
       "    </tr>\n",
       "  </thead>\n",
       "  <tbody>\n",
       "  </tbody>\n",
       "</table>\n",
       "</div>"
      ],
      "text/plain": [
       "Empty DataFrame\n",
       "Columns: [job title, job_type, company, location, Experience Needed:, Career Level:, Education Level:, Salary:, Job Categories:, skills and tools]\n",
       "Index: []"
      ]
     },
     "execution_count": 30,
     "metadata": {},
     "output_type": "execute_result"
    }
   ],
   "source": [
    "jobs_df"
   ]
  },
  {
   "cell_type": "code",
   "execution_count": 31,
   "id": "8f850d1d",
   "metadata": {},
   "outputs": [],
   "source": [
    "# jobs_scrap(soup)"
   ]
  },
  {
   "cell_type": "code",
   "execution_count": 32,
   "id": "16ecdd0b",
   "metadata": {},
   "outputs": [],
   "source": [
    "###scroll between pages\n",
    "driver.get(first_page)\n",
    "\n",
    "\n",
    "buttons=driver.find_element(By.CLASS_NAME,'css-if9uys')\n",
    "Buttons=buttons.find_elements(By.TAG_NAME,'button')\n"
   ]
  },
  {
   "cell_type": "code",
   "execution_count": 33,
   "id": "68debf8d",
   "metadata": {},
   "outputs": [
    {
     "data": {
      "text/plain": [
       "<selenium.webdriver.remote.webelement.WebElement (session=\"4cf1970d-5f49-4692-b1da-ba938a743731\", element=\"a8376886-8c89-42a2-9bcd-3dbebc82dc33\")>"
      ]
     },
     "execution_count": 33,
     "metadata": {},
     "output_type": "execute_result"
    }
   ],
   "source": [
    "Buttons[0]"
   ]
  },
  {
   "cell_type": "code",
   "execution_count": 34,
   "id": "a4b0d83d",
   "metadata": {},
   "outputs": [
    {
     "name": "stdout",
     "output_type": "stream",
     "text": [
      "https://wuzzuf.net/search/jobs/?q=Data+Engineer&a=hpb\n",
      "https://wuzzuf.net/search/jobs/?a=hpb&q=Data%20Engineer&start=1\n",
      "https://wuzzuf.net/search/jobs/?a=hpb&q=Data%20Engineer&start=4\n",
      "https://wuzzuf.net/search/jobs/?a=hpb&q=Data%20Engineer&start=5\n",
      "https://wuzzuf.net/search/jobs/?a=hpb&q=Data%20Engineer&start=6\n"
     ]
    }
   ],
   "source": [
    "Xpath=f'/html/body/div[1]/div/div[4]/div/div/div[3]/ul/li[{len(Buttons)+1}]/button'\n",
    "page=first_page\n",
    "for i in range(len(Buttons)-1):\n",
    "    print(page)\n",
    "    driver.get(page)\n",
    "    \n",
    "    s1 = BeautifulSoup(driver.page_source, 'lxml')\n",
    "    \n",
    "    jobs_scrap(s1)\n",
    "    \n",
    "    driver.get(page)\n",
    "    driver.find_element(By.XPATH,Xpath).click()\n",
    "    driver.switch_to.window(driver.window_handles[-1])\n",
    "    page= driver.current_url\n",
    "    \n",
    "    \n",
    "    \n",
    "    \n",
    "    \n"
   ]
  },
  {
   "cell_type": "code",
   "execution_count": 35,
   "id": "f71ae708",
   "metadata": {},
   "outputs": [
    {
     "name": "stdout",
     "output_type": "stream",
     "text": [
      "<class 'pandas.core.frame.DataFrame'>\n",
      "RangeIndex: 75 entries, 0 to 74\n",
      "Data columns (total 10 columns):\n",
      " #   Column              Non-Null Count  Dtype \n",
      "---  ------              --------------  ----- \n",
      " 0   job title           75 non-null     object\n",
      " 1   job_type            75 non-null     object\n",
      " 2   company             75 non-null     object\n",
      " 3   location            75 non-null     object\n",
      " 4   Experience Needed:  75 non-null     object\n",
      " 5   Career Level:       75 non-null     object\n",
      " 6   Education Level:    75 non-null     object\n",
      " 7   Salary:             75 non-null     object\n",
      " 8   Job Categories:     75 non-null     object\n",
      " 9   skills and tools    75 non-null     object\n",
      "dtypes: object(10)\n",
      "memory usage: 6.0+ KB\n"
     ]
    }
   ],
   "source": [
    "jobs_df.info()"
   ]
  },
  {
   "cell_type": "code",
   "execution_count": 36,
   "id": "ed0ddd3f",
   "metadata": {},
   "outputs": [],
   "source": [
    "jobs_df.to_csv(\"Data Engineer.csv\", sep=',' ,index = False)"
   ]
  },
  {
   "cell_type": "code",
   "execution_count": null,
   "id": "296815fa",
   "metadata": {},
   "outputs": [],
   "source": []
  },
  {
   "cell_type": "code",
   "execution_count": null,
   "id": "f971ebbd",
   "metadata": {},
   "outputs": [],
   "source": []
  },
  {
   "cell_type": "code",
   "execution_count": 49,
   "id": "fea874ae",
   "metadata": {},
   "outputs": [],
   "source": [
    "del jobs_df"
   ]
  },
  {
   "cell_type": "code",
   "execution_count": null,
   "id": "31af5a66",
   "metadata": {},
   "outputs": [],
   "source": [
    "# jobs_df.reset_index(drop=True,inplace=True)"
   ]
  },
  {
   "cell_type": "code",
   "execution_count": null,
   "id": "fca40858",
   "metadata": {},
   "outputs": [],
   "source": [
    "# jobs_df"
   ]
  },
  {
   "cell_type": "code",
   "execution_count": null,
   "id": "76d7a029",
   "metadata": {},
   "outputs": [],
   "source": []
  },
  {
   "cell_type": "code",
   "execution_count": null,
   "id": "3e34441c",
   "metadata": {},
   "outputs": [],
   "source": []
  },
  {
   "cell_type": "code",
   "execution_count": null,
   "id": "a47fac9c",
   "metadata": {},
   "outputs": [],
   "source": [
    "# driver.close()"
   ]
  },
  {
   "cell_type": "code",
   "execution_count": null,
   "id": "308bf99b",
   "metadata": {},
   "outputs": [],
   "source": []
  },
  {
   "cell_type": "code",
   "execution_count": null,
   "id": "403a86ae",
   "metadata": {},
   "outputs": [],
   "source": []
  },
  {
   "cell_type": "raw",
   "id": "8919d806",
   "metadata": {},
   "source": []
  }
 ],
 "metadata": {
  "kernelspec": {
   "display_name": "Python 3 (ipykernel)",
   "language": "python",
   "name": "python3"
  },
  "language_info": {
   "codemirror_mode": {
    "name": "ipython",
    "version": 3
   },
   "file_extension": ".py",
   "mimetype": "text/x-python",
   "name": "python",
   "nbconvert_exporter": "python",
   "pygments_lexer": "ipython3",
   "version": "3.9.7"
  }
 },
 "nbformat": 4,
 "nbformat_minor": 5
}
